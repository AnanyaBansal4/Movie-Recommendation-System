{
  "nbformat": 4,
  "nbformat_minor": 0,
  "metadata": {
    "colab": {
      "provenance": [],
      "authorship_tag": "ABX9TyNqet4NNs23pd09D2iS07pI",
      "include_colab_link": true
    },
    "kernelspec": {
      "name": "python3",
      "display_name": "Python 3"
    },
    "language_info": {
      "name": "python"
    }
  },
  "cells": [
    {
      "cell_type": "markdown",
      "metadata": {
        "id": "view-in-github",
        "colab_type": "text"
      },
      "source": [
        "<a href=\"https://colab.research.google.com/github/AnanyaBansal4/Movie-Recommendation-System/blob/main/Movie_Recommendation_System.ipynb\" target=\"_parent\"><img src=\"https://colab.research.google.com/assets/colab-badge.svg\" alt=\"Open In Colab\"/></a>"
      ]
    },
    {
      "cell_type": "markdown",
      "source": [
        "# Model Training"
      ],
      "metadata": {
        "id": "o78S3sobE35H"
      }
    },
    {
      "cell_type": "code",
      "execution_count": 1,
      "metadata": {
        "id": "genF76IaAW7w"
      },
      "outputs": [],
      "source": [
        "import numpy as np\n",
        "import pandas as pd\n",
        "import difflib\n",
        "from sklearn.feature_extraction.text import TfidfVectorizer\n",
        "from sklearn.metrics.pairwise import cosine_similarity"
      ]
    },
    {
      "cell_type": "code",
      "source": [
        "from google.colab import files\n",
        "import io\n",
        "uploaded = files.upload()"
      ],
      "metadata": {
        "colab": {
          "base_uri": "https://localhost:8080/",
          "height": 72
        },
        "id": "r0-l1gZ-A_Qj",
        "outputId": "d186d78f-dab4-4ec7-e39f-53ee61ab1e84"
      },
      "execution_count": 2,
      "outputs": [
        {
          "output_type": "display_data",
          "data": {
            "text/plain": [
              "<IPython.core.display.HTML object>"
            ],
            "text/html": [
              "\n",
              "     <input type=\"file\" id=\"files-cb7f2f40-ebfc-4b6c-acd3-3193e401d9f9\" name=\"files[]\" multiple disabled\n",
              "        style=\"border:none\" />\n",
              "     <output id=\"result-cb7f2f40-ebfc-4b6c-acd3-3193e401d9f9\">\n",
              "      Upload widget is only available when the cell has been executed in the\n",
              "      current browser session. Please rerun this cell to enable.\n",
              "      </output>\n",
              "      <script>// Copyright 2017 Google LLC\n",
              "//\n",
              "// Licensed under the Apache License, Version 2.0 (the \"License\");\n",
              "// you may not use this file except in compliance with the License.\n",
              "// You may obtain a copy of the License at\n",
              "//\n",
              "//      http://www.apache.org/licenses/LICENSE-2.0\n",
              "//\n",
              "// Unless required by applicable law or agreed to in writing, software\n",
              "// distributed under the License is distributed on an \"AS IS\" BASIS,\n",
              "// WITHOUT WARRANTIES OR CONDITIONS OF ANY KIND, either express or implied.\n",
              "// See the License for the specific language governing permissions and\n",
              "// limitations under the License.\n",
              "\n",
              "/**\n",
              " * @fileoverview Helpers for google.colab Python module.\n",
              " */\n",
              "(function(scope) {\n",
              "function span(text, styleAttributes = {}) {\n",
              "  const element = document.createElement('span');\n",
              "  element.textContent = text;\n",
              "  for (const key of Object.keys(styleAttributes)) {\n",
              "    element.style[key] = styleAttributes[key];\n",
              "  }\n",
              "  return element;\n",
              "}\n",
              "\n",
              "// Max number of bytes which will be uploaded at a time.\n",
              "const MAX_PAYLOAD_SIZE = 100 * 1024;\n",
              "\n",
              "function _uploadFiles(inputId, outputId) {\n",
              "  const steps = uploadFilesStep(inputId, outputId);\n",
              "  const outputElement = document.getElementById(outputId);\n",
              "  // Cache steps on the outputElement to make it available for the next call\n",
              "  // to uploadFilesContinue from Python.\n",
              "  outputElement.steps = steps;\n",
              "\n",
              "  return _uploadFilesContinue(outputId);\n",
              "}\n",
              "\n",
              "// This is roughly an async generator (not supported in the browser yet),\n",
              "// where there are multiple asynchronous steps and the Python side is going\n",
              "// to poll for completion of each step.\n",
              "// This uses a Promise to block the python side on completion of each step,\n",
              "// then passes the result of the previous step as the input to the next step.\n",
              "function _uploadFilesContinue(outputId) {\n",
              "  const outputElement = document.getElementById(outputId);\n",
              "  const steps = outputElement.steps;\n",
              "\n",
              "  const next = steps.next(outputElement.lastPromiseValue);\n",
              "  return Promise.resolve(next.value.promise).then((value) => {\n",
              "    // Cache the last promise value to make it available to the next\n",
              "    // step of the generator.\n",
              "    outputElement.lastPromiseValue = value;\n",
              "    return next.value.response;\n",
              "  });\n",
              "}\n",
              "\n",
              "/**\n",
              " * Generator function which is called between each async step of the upload\n",
              " * process.\n",
              " * @param {string} inputId Element ID of the input file picker element.\n",
              " * @param {string} outputId Element ID of the output display.\n",
              " * @return {!Iterable<!Object>} Iterable of next steps.\n",
              " */\n",
              "function* uploadFilesStep(inputId, outputId) {\n",
              "  const inputElement = document.getElementById(inputId);\n",
              "  inputElement.disabled = false;\n",
              "\n",
              "  const outputElement = document.getElementById(outputId);\n",
              "  outputElement.innerHTML = '';\n",
              "\n",
              "  const pickedPromise = new Promise((resolve) => {\n",
              "    inputElement.addEventListener('change', (e) => {\n",
              "      resolve(e.target.files);\n",
              "    });\n",
              "  });\n",
              "\n",
              "  const cancel = document.createElement('button');\n",
              "  inputElement.parentElement.appendChild(cancel);\n",
              "  cancel.textContent = 'Cancel upload';\n",
              "  const cancelPromise = new Promise((resolve) => {\n",
              "    cancel.onclick = () => {\n",
              "      resolve(null);\n",
              "    };\n",
              "  });\n",
              "\n",
              "  // Wait for the user to pick the files.\n",
              "  const files = yield {\n",
              "    promise: Promise.race([pickedPromise, cancelPromise]),\n",
              "    response: {\n",
              "      action: 'starting',\n",
              "    }\n",
              "  };\n",
              "\n",
              "  cancel.remove();\n",
              "\n",
              "  // Disable the input element since further picks are not allowed.\n",
              "  inputElement.disabled = true;\n",
              "\n",
              "  if (!files) {\n",
              "    return {\n",
              "      response: {\n",
              "        action: 'complete',\n",
              "      }\n",
              "    };\n",
              "  }\n",
              "\n",
              "  for (const file of files) {\n",
              "    const li = document.createElement('li');\n",
              "    li.append(span(file.name, {fontWeight: 'bold'}));\n",
              "    li.append(span(\n",
              "        `(${file.type || 'n/a'}) - ${file.size} bytes, ` +\n",
              "        `last modified: ${\n",
              "            file.lastModifiedDate ? file.lastModifiedDate.toLocaleDateString() :\n",
              "                                    'n/a'} - `));\n",
              "    const percent = span('0% done');\n",
              "    li.appendChild(percent);\n",
              "\n",
              "    outputElement.appendChild(li);\n",
              "\n",
              "    const fileDataPromise = new Promise((resolve) => {\n",
              "      const reader = new FileReader();\n",
              "      reader.onload = (e) => {\n",
              "        resolve(e.target.result);\n",
              "      };\n",
              "      reader.readAsArrayBuffer(file);\n",
              "    });\n",
              "    // Wait for the data to be ready.\n",
              "    let fileData = yield {\n",
              "      promise: fileDataPromise,\n",
              "      response: {\n",
              "        action: 'continue',\n",
              "      }\n",
              "    };\n",
              "\n",
              "    // Use a chunked sending to avoid message size limits. See b/62115660.\n",
              "    let position = 0;\n",
              "    do {\n",
              "      const length = Math.min(fileData.byteLength - position, MAX_PAYLOAD_SIZE);\n",
              "      const chunk = new Uint8Array(fileData, position, length);\n",
              "      position += length;\n",
              "\n",
              "      const base64 = btoa(String.fromCharCode.apply(null, chunk));\n",
              "      yield {\n",
              "        response: {\n",
              "          action: 'append',\n",
              "          file: file.name,\n",
              "          data: base64,\n",
              "        },\n",
              "      };\n",
              "\n",
              "      let percentDone = fileData.byteLength === 0 ?\n",
              "          100 :\n",
              "          Math.round((position / fileData.byteLength) * 100);\n",
              "      percent.textContent = `${percentDone}% done`;\n",
              "\n",
              "    } while (position < fileData.byteLength);\n",
              "  }\n",
              "\n",
              "  // All done.\n",
              "  yield {\n",
              "    response: {\n",
              "      action: 'complete',\n",
              "    }\n",
              "  };\n",
              "}\n",
              "\n",
              "scope.google = scope.google || {};\n",
              "scope.google.colab = scope.google.colab || {};\n",
              "scope.google.colab._files = {\n",
              "  _uploadFiles,\n",
              "  _uploadFilesContinue,\n",
              "};\n",
              "})(self);\n",
              "</script> "
            ]
          },
          "metadata": {}
        },
        {
          "output_type": "stream",
          "name": "stdout",
          "text": [
            "Saving movies.csv to movies.csv\n"
          ]
        }
      ]
    },
    {
      "cell_type": "code",
      "source": [
        "movies_data = pd.read_csv('/content/movies.csv')\n",
        "movies_data.head()"
      ],
      "metadata": {
        "colab": {
          "base_uri": "https://localhost:8080/",
          "height": 794
        },
        "id": "H4L9tqW5BLcd",
        "outputId": "31c50253-4021-47c7-ba34-150777770401"
      },
      "execution_count": 3,
      "outputs": [
        {
          "output_type": "execute_result",
          "data": {
            "text/plain": [
              "   index     budget                                    genres  \\\n",
              "0      0  237000000  Action Adventure Fantasy Science Fiction   \n",
              "1      1  300000000                  Adventure Fantasy Action   \n",
              "2      2  245000000                    Action Adventure Crime   \n",
              "3      3  250000000               Action Crime Drama Thriller   \n",
              "4      4  260000000          Action Adventure Science Fiction   \n",
              "\n",
              "                                       homepage      id  \\\n",
              "0                   http://www.avatarmovie.com/   19995   \n",
              "1  http://disney.go.com/disneypictures/pirates/     285   \n",
              "2   http://www.sonypictures.com/movies/spectre/  206647   \n",
              "3            http://www.thedarkknightrises.com/   49026   \n",
              "4          http://movies.disney.com/john-carter   49529   \n",
              "\n",
              "                                            keywords original_language  \\\n",
              "0  culture clash future space war space colony so...                en   \n",
              "1  ocean drug abuse exotic island east india trad...                en   \n",
              "2         spy based on novel secret agent sequel mi6                en   \n",
              "3  dc comics crime fighter terrorist secret ident...                en   \n",
              "4  based on novel mars medallion space travel pri...                en   \n",
              "\n",
              "                             original_title  \\\n",
              "0                                    Avatar   \n",
              "1  Pirates of the Caribbean: At World's End   \n",
              "2                                   Spectre   \n",
              "3                     The Dark Knight Rises   \n",
              "4                               John Carter   \n",
              "\n",
              "                                            overview  popularity  ... runtime  \\\n",
              "0  In the 22nd century, a paraplegic Marine is di...  150.437577  ...   162.0   \n",
              "1  Captain Barbossa, long believed to be dead, ha...  139.082615  ...   169.0   \n",
              "2  A cryptic message from Bond’s past sends him o...  107.376788  ...   148.0   \n",
              "3  Following the death of District Attorney Harve...  112.312950  ...   165.0   \n",
              "4  John Carter is a war-weary, former military ca...   43.926995  ...   132.0   \n",
              "\n",
              "                                    spoken_languages    status  \\\n",
              "0  [{\"iso_639_1\": \"en\", \"name\": \"English\"}, {\"iso...  Released   \n",
              "1           [{\"iso_639_1\": \"en\", \"name\": \"English\"}]  Released   \n",
              "2  [{\"iso_639_1\": \"fr\", \"name\": \"Fran\\u00e7ais\"},...  Released   \n",
              "3           [{\"iso_639_1\": \"en\", \"name\": \"English\"}]  Released   \n",
              "4           [{\"iso_639_1\": \"en\", \"name\": \"English\"}]  Released   \n",
              "\n",
              "                                          tagline  \\\n",
              "0                     Enter the World of Pandora.   \n",
              "1  At the end of the world, the adventure begins.   \n",
              "2                           A Plan No One Escapes   \n",
              "3                                 The Legend Ends   \n",
              "4            Lost in our world, found in another.   \n",
              "\n",
              "                                      title vote_average vote_count  \\\n",
              "0                                    Avatar          7.2      11800   \n",
              "1  Pirates of the Caribbean: At World's End          6.9       4500   \n",
              "2                                   Spectre          6.3       4466   \n",
              "3                     The Dark Knight Rises          7.6       9106   \n",
              "4                               John Carter          6.1       2124   \n",
              "\n",
              "                                                cast  \\\n",
              "0  Sam Worthington Zoe Saldana Sigourney Weaver S...   \n",
              "1  Johnny Depp Orlando Bloom Keira Knightley Stel...   \n",
              "2  Daniel Craig Christoph Waltz L\\u00e9a Seydoux ...   \n",
              "3  Christian Bale Michael Caine Gary Oldman Anne ...   \n",
              "4  Taylor Kitsch Lynn Collins Samantha Morton Wil...   \n",
              "\n",
              "                                                crew           director  \n",
              "0  [{'name': 'Stephen E. Rivkin', 'gender': 0, 'd...      James Cameron  \n",
              "1  [{'name': 'Dariusz Wolski', 'gender': 2, 'depa...     Gore Verbinski  \n",
              "2  [{'name': 'Thomas Newman', 'gender': 2, 'depar...         Sam Mendes  \n",
              "3  [{'name': 'Hans Zimmer', 'gender': 2, 'departm...  Christopher Nolan  \n",
              "4  [{'name': 'Andrew Stanton', 'gender': 2, 'depa...     Andrew Stanton  \n",
              "\n",
              "[5 rows x 24 columns]"
            ],
            "text/html": [
              "\n",
              "  <div id=\"df-e59636e1-b3c1-480c-b539-7470f68e5fe9\" class=\"colab-df-container\">\n",
              "    <div>\n",
              "<style scoped>\n",
              "    .dataframe tbody tr th:only-of-type {\n",
              "        vertical-align: middle;\n",
              "    }\n",
              "\n",
              "    .dataframe tbody tr th {\n",
              "        vertical-align: top;\n",
              "    }\n",
              "\n",
              "    .dataframe thead th {\n",
              "        text-align: right;\n",
              "    }\n",
              "</style>\n",
              "<table border=\"1\" class=\"dataframe\">\n",
              "  <thead>\n",
              "    <tr style=\"text-align: right;\">\n",
              "      <th></th>\n",
              "      <th>index</th>\n",
              "      <th>budget</th>\n",
              "      <th>genres</th>\n",
              "      <th>homepage</th>\n",
              "      <th>id</th>\n",
              "      <th>keywords</th>\n",
              "      <th>original_language</th>\n",
              "      <th>original_title</th>\n",
              "      <th>overview</th>\n",
              "      <th>popularity</th>\n",
              "      <th>...</th>\n",
              "      <th>runtime</th>\n",
              "      <th>spoken_languages</th>\n",
              "      <th>status</th>\n",
              "      <th>tagline</th>\n",
              "      <th>title</th>\n",
              "      <th>vote_average</th>\n",
              "      <th>vote_count</th>\n",
              "      <th>cast</th>\n",
              "      <th>crew</th>\n",
              "      <th>director</th>\n",
              "    </tr>\n",
              "  </thead>\n",
              "  <tbody>\n",
              "    <tr>\n",
              "      <th>0</th>\n",
              "      <td>0</td>\n",
              "      <td>237000000</td>\n",
              "      <td>Action Adventure Fantasy Science Fiction</td>\n",
              "      <td>http://www.avatarmovie.com/</td>\n",
              "      <td>19995</td>\n",
              "      <td>culture clash future space war space colony so...</td>\n",
              "      <td>en</td>\n",
              "      <td>Avatar</td>\n",
              "      <td>In the 22nd century, a paraplegic Marine is di...</td>\n",
              "      <td>150.437577</td>\n",
              "      <td>...</td>\n",
              "      <td>162.0</td>\n",
              "      <td>[{\"iso_639_1\": \"en\", \"name\": \"English\"}, {\"iso...</td>\n",
              "      <td>Released</td>\n",
              "      <td>Enter the World of Pandora.</td>\n",
              "      <td>Avatar</td>\n",
              "      <td>7.2</td>\n",
              "      <td>11800</td>\n",
              "      <td>Sam Worthington Zoe Saldana Sigourney Weaver S...</td>\n",
              "      <td>[{'name': 'Stephen E. Rivkin', 'gender': 0, 'd...</td>\n",
              "      <td>James Cameron</td>\n",
              "    </tr>\n",
              "    <tr>\n",
              "      <th>1</th>\n",
              "      <td>1</td>\n",
              "      <td>300000000</td>\n",
              "      <td>Adventure Fantasy Action</td>\n",
              "      <td>http://disney.go.com/disneypictures/pirates/</td>\n",
              "      <td>285</td>\n",
              "      <td>ocean drug abuse exotic island east india trad...</td>\n",
              "      <td>en</td>\n",
              "      <td>Pirates of the Caribbean: At World's End</td>\n",
              "      <td>Captain Barbossa, long believed to be dead, ha...</td>\n",
              "      <td>139.082615</td>\n",
              "      <td>...</td>\n",
              "      <td>169.0</td>\n",
              "      <td>[{\"iso_639_1\": \"en\", \"name\": \"English\"}]</td>\n",
              "      <td>Released</td>\n",
              "      <td>At the end of the world, the adventure begins.</td>\n",
              "      <td>Pirates of the Caribbean: At World's End</td>\n",
              "      <td>6.9</td>\n",
              "      <td>4500</td>\n",
              "      <td>Johnny Depp Orlando Bloom Keira Knightley Stel...</td>\n",
              "      <td>[{'name': 'Dariusz Wolski', 'gender': 2, 'depa...</td>\n",
              "      <td>Gore Verbinski</td>\n",
              "    </tr>\n",
              "    <tr>\n",
              "      <th>2</th>\n",
              "      <td>2</td>\n",
              "      <td>245000000</td>\n",
              "      <td>Action Adventure Crime</td>\n",
              "      <td>http://www.sonypictures.com/movies/spectre/</td>\n",
              "      <td>206647</td>\n",
              "      <td>spy based on novel secret agent sequel mi6</td>\n",
              "      <td>en</td>\n",
              "      <td>Spectre</td>\n",
              "      <td>A cryptic message from Bond’s past sends him o...</td>\n",
              "      <td>107.376788</td>\n",
              "      <td>...</td>\n",
              "      <td>148.0</td>\n",
              "      <td>[{\"iso_639_1\": \"fr\", \"name\": \"Fran\\u00e7ais\"},...</td>\n",
              "      <td>Released</td>\n",
              "      <td>A Plan No One Escapes</td>\n",
              "      <td>Spectre</td>\n",
              "      <td>6.3</td>\n",
              "      <td>4466</td>\n",
              "      <td>Daniel Craig Christoph Waltz L\\u00e9a Seydoux ...</td>\n",
              "      <td>[{'name': 'Thomas Newman', 'gender': 2, 'depar...</td>\n",
              "      <td>Sam Mendes</td>\n",
              "    </tr>\n",
              "    <tr>\n",
              "      <th>3</th>\n",
              "      <td>3</td>\n",
              "      <td>250000000</td>\n",
              "      <td>Action Crime Drama Thriller</td>\n",
              "      <td>http://www.thedarkknightrises.com/</td>\n",
              "      <td>49026</td>\n",
              "      <td>dc comics crime fighter terrorist secret ident...</td>\n",
              "      <td>en</td>\n",
              "      <td>The Dark Knight Rises</td>\n",
              "      <td>Following the death of District Attorney Harve...</td>\n",
              "      <td>112.312950</td>\n",
              "      <td>...</td>\n",
              "      <td>165.0</td>\n",
              "      <td>[{\"iso_639_1\": \"en\", \"name\": \"English\"}]</td>\n",
              "      <td>Released</td>\n",
              "      <td>The Legend Ends</td>\n",
              "      <td>The Dark Knight Rises</td>\n",
              "      <td>7.6</td>\n",
              "      <td>9106</td>\n",
              "      <td>Christian Bale Michael Caine Gary Oldman Anne ...</td>\n",
              "      <td>[{'name': 'Hans Zimmer', 'gender': 2, 'departm...</td>\n",
              "      <td>Christopher Nolan</td>\n",
              "    </tr>\n",
              "    <tr>\n",
              "      <th>4</th>\n",
              "      <td>4</td>\n",
              "      <td>260000000</td>\n",
              "      <td>Action Adventure Science Fiction</td>\n",
              "      <td>http://movies.disney.com/john-carter</td>\n",
              "      <td>49529</td>\n",
              "      <td>based on novel mars medallion space travel pri...</td>\n",
              "      <td>en</td>\n",
              "      <td>John Carter</td>\n",
              "      <td>John Carter is a war-weary, former military ca...</td>\n",
              "      <td>43.926995</td>\n",
              "      <td>...</td>\n",
              "      <td>132.0</td>\n",
              "      <td>[{\"iso_639_1\": \"en\", \"name\": \"English\"}]</td>\n",
              "      <td>Released</td>\n",
              "      <td>Lost in our world, found in another.</td>\n",
              "      <td>John Carter</td>\n",
              "      <td>6.1</td>\n",
              "      <td>2124</td>\n",
              "      <td>Taylor Kitsch Lynn Collins Samantha Morton Wil...</td>\n",
              "      <td>[{'name': 'Andrew Stanton', 'gender': 2, 'depa...</td>\n",
              "      <td>Andrew Stanton</td>\n",
              "    </tr>\n",
              "  </tbody>\n",
              "</table>\n",
              "<p>5 rows × 24 columns</p>\n",
              "</div>\n",
              "    <div class=\"colab-df-buttons\">\n",
              "\n",
              "  <div class=\"colab-df-container\">\n",
              "    <button class=\"colab-df-convert\" onclick=\"convertToInteractive('df-e59636e1-b3c1-480c-b539-7470f68e5fe9')\"\n",
              "            title=\"Convert this dataframe to an interactive table.\"\n",
              "            style=\"display:none;\">\n",
              "\n",
              "  <svg xmlns=\"http://www.w3.org/2000/svg\" height=\"24px\" viewBox=\"0 -960 960 960\">\n",
              "    <path d=\"M120-120v-720h720v720H120Zm60-500h600v-160H180v160Zm220 220h160v-160H400v160Zm0 220h160v-160H400v160ZM180-400h160v-160H180v160Zm440 0h160v-160H620v160ZM180-180h160v-160H180v160Zm440 0h160v-160H620v160Z\"/>\n",
              "  </svg>\n",
              "    </button>\n",
              "\n",
              "  <style>\n",
              "    .colab-df-container {\n",
              "      display:flex;\n",
              "      gap: 12px;\n",
              "    }\n",
              "\n",
              "    .colab-df-convert {\n",
              "      background-color: #E8F0FE;\n",
              "      border: none;\n",
              "      border-radius: 50%;\n",
              "      cursor: pointer;\n",
              "      display: none;\n",
              "      fill: #1967D2;\n",
              "      height: 32px;\n",
              "      padding: 0 0 0 0;\n",
              "      width: 32px;\n",
              "    }\n",
              "\n",
              "    .colab-df-convert:hover {\n",
              "      background-color: #E2EBFA;\n",
              "      box-shadow: 0px 1px 2px rgba(60, 64, 67, 0.3), 0px 1px 3px 1px rgba(60, 64, 67, 0.15);\n",
              "      fill: #174EA6;\n",
              "    }\n",
              "\n",
              "    .colab-df-buttons div {\n",
              "      margin-bottom: 4px;\n",
              "    }\n",
              "\n",
              "    [theme=dark] .colab-df-convert {\n",
              "      background-color: #3B4455;\n",
              "      fill: #D2E3FC;\n",
              "    }\n",
              "\n",
              "    [theme=dark] .colab-df-convert:hover {\n",
              "      background-color: #434B5C;\n",
              "      box-shadow: 0px 1px 3px 1px rgba(0, 0, 0, 0.15);\n",
              "      filter: drop-shadow(0px 1px 2px rgba(0, 0, 0, 0.3));\n",
              "      fill: #FFFFFF;\n",
              "    }\n",
              "  </style>\n",
              "\n",
              "    <script>\n",
              "      const buttonEl =\n",
              "        document.querySelector('#df-e59636e1-b3c1-480c-b539-7470f68e5fe9 button.colab-df-convert');\n",
              "      buttonEl.style.display =\n",
              "        google.colab.kernel.accessAllowed ? 'block' : 'none';\n",
              "\n",
              "      async function convertToInteractive(key) {\n",
              "        const element = document.querySelector('#df-e59636e1-b3c1-480c-b539-7470f68e5fe9');\n",
              "        const dataTable =\n",
              "          await google.colab.kernel.invokeFunction('convertToInteractive',\n",
              "                                                    [key], {});\n",
              "        if (!dataTable) return;\n",
              "\n",
              "        const docLinkHtml = 'Like what you see? Visit the ' +\n",
              "          '<a target=\"_blank\" href=https://colab.research.google.com/notebooks/data_table.ipynb>data table notebook</a>'\n",
              "          + ' to learn more about interactive tables.';\n",
              "        element.innerHTML = '';\n",
              "        dataTable['output_type'] = 'display_data';\n",
              "        await google.colab.output.renderOutput(dataTable, element);\n",
              "        const docLink = document.createElement('div');\n",
              "        docLink.innerHTML = docLinkHtml;\n",
              "        element.appendChild(docLink);\n",
              "      }\n",
              "    </script>\n",
              "  </div>\n",
              "\n",
              "\n",
              "<div id=\"df-99a9606c-5450-4aef-91e1-0131ca674d0d\">\n",
              "  <button class=\"colab-df-quickchart\" onclick=\"quickchart('df-99a9606c-5450-4aef-91e1-0131ca674d0d')\"\n",
              "            title=\"Suggest charts\"\n",
              "            style=\"display:none;\">\n",
              "\n",
              "<svg xmlns=\"http://www.w3.org/2000/svg\" height=\"24px\"viewBox=\"0 0 24 24\"\n",
              "     width=\"24px\">\n",
              "    <g>\n",
              "        <path d=\"M19 3H5c-1.1 0-2 .9-2 2v14c0 1.1.9 2 2 2h14c1.1 0 2-.9 2-2V5c0-1.1-.9-2-2-2zM9 17H7v-7h2v7zm4 0h-2V7h2v10zm4 0h-2v-4h2v4z\"/>\n",
              "    </g>\n",
              "</svg>\n",
              "  </button>\n",
              "\n",
              "<style>\n",
              "  .colab-df-quickchart {\n",
              "      --bg-color: #E8F0FE;\n",
              "      --fill-color: #1967D2;\n",
              "      --hover-bg-color: #E2EBFA;\n",
              "      --hover-fill-color: #174EA6;\n",
              "      --disabled-fill-color: #AAA;\n",
              "      --disabled-bg-color: #DDD;\n",
              "  }\n",
              "\n",
              "  [theme=dark] .colab-df-quickchart {\n",
              "      --bg-color: #3B4455;\n",
              "      --fill-color: #D2E3FC;\n",
              "      --hover-bg-color: #434B5C;\n",
              "      --hover-fill-color: #FFFFFF;\n",
              "      --disabled-bg-color: #3B4455;\n",
              "      --disabled-fill-color: #666;\n",
              "  }\n",
              "\n",
              "  .colab-df-quickchart {\n",
              "    background-color: var(--bg-color);\n",
              "    border: none;\n",
              "    border-radius: 50%;\n",
              "    cursor: pointer;\n",
              "    display: none;\n",
              "    fill: var(--fill-color);\n",
              "    height: 32px;\n",
              "    padding: 0;\n",
              "    width: 32px;\n",
              "  }\n",
              "\n",
              "  .colab-df-quickchart:hover {\n",
              "    background-color: var(--hover-bg-color);\n",
              "    box-shadow: 0 1px 2px rgba(60, 64, 67, 0.3), 0 1px 3px 1px rgba(60, 64, 67, 0.15);\n",
              "    fill: var(--button-hover-fill-color);\n",
              "  }\n",
              "\n",
              "  .colab-df-quickchart-complete:disabled,\n",
              "  .colab-df-quickchart-complete:disabled:hover {\n",
              "    background-color: var(--disabled-bg-color);\n",
              "    fill: var(--disabled-fill-color);\n",
              "    box-shadow: none;\n",
              "  }\n",
              "\n",
              "  .colab-df-spinner {\n",
              "    border: 2px solid var(--fill-color);\n",
              "    border-color: transparent;\n",
              "    border-bottom-color: var(--fill-color);\n",
              "    animation:\n",
              "      spin 1s steps(1) infinite;\n",
              "  }\n",
              "\n",
              "  @keyframes spin {\n",
              "    0% {\n",
              "      border-color: transparent;\n",
              "      border-bottom-color: var(--fill-color);\n",
              "      border-left-color: var(--fill-color);\n",
              "    }\n",
              "    20% {\n",
              "      border-color: transparent;\n",
              "      border-left-color: var(--fill-color);\n",
              "      border-top-color: var(--fill-color);\n",
              "    }\n",
              "    30% {\n",
              "      border-color: transparent;\n",
              "      border-left-color: var(--fill-color);\n",
              "      border-top-color: var(--fill-color);\n",
              "      border-right-color: var(--fill-color);\n",
              "    }\n",
              "    40% {\n",
              "      border-color: transparent;\n",
              "      border-right-color: var(--fill-color);\n",
              "      border-top-color: var(--fill-color);\n",
              "    }\n",
              "    60% {\n",
              "      border-color: transparent;\n",
              "      border-right-color: var(--fill-color);\n",
              "    }\n",
              "    80% {\n",
              "      border-color: transparent;\n",
              "      border-right-color: var(--fill-color);\n",
              "      border-bottom-color: var(--fill-color);\n",
              "    }\n",
              "    90% {\n",
              "      border-color: transparent;\n",
              "      border-bottom-color: var(--fill-color);\n",
              "    }\n",
              "  }\n",
              "</style>\n",
              "\n",
              "  <script>\n",
              "    async function quickchart(key) {\n",
              "      const quickchartButtonEl =\n",
              "        document.querySelector('#' + key + ' button');\n",
              "      quickchartButtonEl.disabled = true;  // To prevent multiple clicks.\n",
              "      quickchartButtonEl.classList.add('colab-df-spinner');\n",
              "      try {\n",
              "        const charts = await google.colab.kernel.invokeFunction(\n",
              "            'suggestCharts', [key], {});\n",
              "      } catch (error) {\n",
              "        console.error('Error during call to suggestCharts:', error);\n",
              "      }\n",
              "      quickchartButtonEl.classList.remove('colab-df-spinner');\n",
              "      quickchartButtonEl.classList.add('colab-df-quickchart-complete');\n",
              "    }\n",
              "    (() => {\n",
              "      let quickchartButtonEl =\n",
              "        document.querySelector('#df-99a9606c-5450-4aef-91e1-0131ca674d0d button');\n",
              "      quickchartButtonEl.style.display =\n",
              "        google.colab.kernel.accessAllowed ? 'block' : 'none';\n",
              "    })();\n",
              "  </script>\n",
              "</div>\n",
              "\n",
              "    </div>\n",
              "  </div>\n"
            ],
            "application/vnd.google.colaboratory.intrinsic+json": {
              "type": "dataframe",
              "variable_name": "movies_data"
            }
          },
          "metadata": {},
          "execution_count": 3
        }
      ]
    },
    {
      "cell_type": "code",
      "source": [
        "movies_data.shape"
      ],
      "metadata": {
        "colab": {
          "base_uri": "https://localhost:8080/"
        },
        "id": "uji3CUzfCfAb",
        "outputId": "855b84d5-0f56-4d66-861f-4c550e492e6b"
      },
      "execution_count": 4,
      "outputs": [
        {
          "output_type": "execute_result",
          "data": {
            "text/plain": [
              "(4803, 24)"
            ]
          },
          "metadata": {},
          "execution_count": 4
        }
      ]
    },
    {
      "cell_type": "code",
      "source": [
        "selected_features = ['genres','keywords','tagline','cast','director']\n",
        "print(selected_features)"
      ],
      "metadata": {
        "colab": {
          "base_uri": "https://localhost:8080/"
        },
        "id": "LnNWv4IHCf-D",
        "outputId": "3a0b9c97-be0b-4bf5-b339-97bdd5f57a9b"
      },
      "execution_count": 5,
      "outputs": [
        {
          "output_type": "stream",
          "name": "stdout",
          "text": [
            "['genres', 'keywords', 'tagline', 'cast', 'director']\n"
          ]
        }
      ]
    },
    {
      "cell_type": "code",
      "source": [
        "for feature in selected_features:\n",
        "  movies_data[feature] = movies_data[feature].fillna('')"
      ],
      "metadata": {
        "id": "unD0ur4wCjvO"
      },
      "execution_count": 6,
      "outputs": []
    },
    {
      "cell_type": "code",
      "source": [
        "combined_features = movies_data['genres']+' '+movies_data['keywords']+' '+movies_data['tagline']+' '+movies_data['cast']+' '+movies_data['director']\n",
        "print(combined_features)"
      ],
      "metadata": {
        "colab": {
          "base_uri": "https://localhost:8080/"
        },
        "id": "Jr2EmUpRCn-C",
        "outputId": "e0d24ade-399e-4c65-eaf4-a172908b5829"
      },
      "execution_count": 7,
      "outputs": [
        {
          "output_type": "stream",
          "name": "stdout",
          "text": [
            "0       Action Adventure Fantasy Science Fiction cultu...\n",
            "1       Adventure Fantasy Action ocean drug abuse exot...\n",
            "2       Action Adventure Crime spy based on novel secr...\n",
            "3       Action Crime Drama Thriller dc comics crime fi...\n",
            "4       Action Adventure Science Fiction based on nove...\n",
            "                              ...                        \n",
            "4798    Action Crime Thriller united states\\u2013mexic...\n",
            "4799    Comedy Romance  A newlywed couple's honeymoon ...\n",
            "4800    Comedy Drama Romance TV Movie date love at fir...\n",
            "4801      A New Yorker in Shanghai Daniel Henney Eliza...\n",
            "4802    Documentary obsession camcorder crush dream gi...\n",
            "Length: 4803, dtype: object\n"
          ]
        }
      ]
    },
    {
      "cell_type": "code",
      "source": [
        "vectorizer = TfidfVectorizer()"
      ],
      "metadata": {
        "id": "UuzLM2kVCtWE"
      },
      "execution_count": 8,
      "outputs": []
    },
    {
      "cell_type": "code",
      "source": [
        "feature_vectors = vectorizer.fit_transform(combined_features)\n",
        "print(feature_vectors)"
      ],
      "metadata": {
        "colab": {
          "base_uri": "https://localhost:8080/"
        },
        "id": "11CChdVzCxKK",
        "outputId": "baa7fc47-1058-41ba-af35-b429b4d85ad4"
      },
      "execution_count": 10,
      "outputs": [
        {
          "output_type": "stream",
          "name": "stdout",
          "text": [
            "  (0, 2432)\t0.17272411194153\n",
            "  (0, 7755)\t0.1128035714854756\n",
            "  (0, 13024)\t0.1942362060108871\n",
            "  (0, 10229)\t0.16058685400095302\n",
            "  (0, 8756)\t0.22709015857011816\n",
            "  (0, 14608)\t0.15150672398763912\n",
            "  (0, 16668)\t0.19843263965100372\n",
            "  (0, 14064)\t0.20596090415084142\n",
            "  (0, 13319)\t0.2177470539412484\n",
            "  (0, 17290)\t0.20197912553916567\n",
            "  (0, 17007)\t0.23643326319898797\n",
            "  (0, 13349)\t0.15021264094167086\n",
            "  (0, 11503)\t0.27211310056983656\n",
            "  (0, 11192)\t0.09049319826481456\n",
            "  (0, 16998)\t0.1282126322850579\n",
            "  (0, 15261)\t0.07095833561276566\n",
            "  (0, 4945)\t0.24025852494110758\n",
            "  (0, 14271)\t0.21392179219912877\n",
            "  (0, 3225)\t0.24960162956997736\n",
            "  (0, 16587)\t0.12549432354918996\n",
            "  (0, 14378)\t0.33962752210959823\n",
            "  (0, 5836)\t0.1646750903586285\n",
            "  (0, 3065)\t0.22208377802661425\n",
            "  (0, 3678)\t0.21392179219912877\n",
            "  (0, 5437)\t0.1036413987316636\n",
            "  :\t:\n",
            "  (4801, 17266)\t0.2886098184932947\n",
            "  (4801, 4835)\t0.24713765026963996\n",
            "  (4801, 403)\t0.17727585190343226\n",
            "  (4801, 6935)\t0.2886098184932947\n",
            "  (4801, 11663)\t0.21557500762727902\n",
            "  (4801, 1672)\t0.1564793427630879\n",
            "  (4801, 10929)\t0.13504166990041588\n",
            "  (4801, 7474)\t0.11307961713172225\n",
            "  (4801, 3796)\t0.3342808988877418\n",
            "  (4802, 6996)\t0.5700048226105303\n",
            "  (4802, 5367)\t0.22969114490410403\n",
            "  (4802, 3654)\t0.262512960498006\n",
            "  (4802, 2425)\t0.24002350969074696\n",
            "  (4802, 4608)\t0.24002350969074696\n",
            "  (4802, 6417)\t0.21753405888348784\n",
            "  (4802, 4371)\t0.1538239182675544\n",
            "  (4802, 12989)\t0.1696476532191718\n",
            "  (4802, 1316)\t0.1960747079005741\n",
            "  (4802, 4528)\t0.19504460807622875\n",
            "  (4802, 3436)\t0.21753405888348784\n",
            "  (4802, 6155)\t0.18056463596934083\n",
            "  (4802, 4980)\t0.16078053641367315\n",
            "  (4802, 2129)\t0.3099656128577656\n",
            "  (4802, 4518)\t0.16784466610624255\n",
            "  (4802, 11161)\t0.17867407682173203\n"
          ]
        }
      ]
    },
    {
      "cell_type": "code",
      "source": [
        "similarity = cosine_similarity(feature_vectors)\n",
        "print(similarity)"
      ],
      "metadata": {
        "colab": {
          "base_uri": "https://localhost:8080/"
        },
        "id": "kUlvlxpzDUF9",
        "outputId": "54d9dceb-ef2c-4744-ffea-306e268b4c17"
      },
      "execution_count": 11,
      "outputs": [
        {
          "output_type": "stream",
          "name": "stdout",
          "text": [
            "[[1.         0.07219487 0.037733   ... 0.         0.         0.        ]\n",
            " [0.07219487 1.         0.03281499 ... 0.03575545 0.         0.        ]\n",
            " [0.037733   0.03281499 1.         ... 0.         0.05389661 0.        ]\n",
            " ...\n",
            " [0.         0.03575545 0.         ... 1.         0.         0.02651502]\n",
            " [0.         0.         0.05389661 ... 0.         1.         0.        ]\n",
            " [0.         0.         0.         ... 0.02651502 0.         1.        ]]\n"
          ]
        }
      ]
    },
    {
      "cell_type": "code",
      "source": [
        "print(similarity.shape)"
      ],
      "metadata": {
        "colab": {
          "base_uri": "https://localhost:8080/"
        },
        "id": "hBj8tjnADehV",
        "outputId": "f840b6be-24c9-4ea0-f5cf-b1c741094164"
      },
      "execution_count": 12,
      "outputs": [
        {
          "output_type": "stream",
          "name": "stdout",
          "text": [
            "(4803, 4803)\n"
          ]
        }
      ]
    },
    {
      "cell_type": "markdown",
      "source": [
        "# First Testing"
      ],
      "metadata": {
        "id": "zpggaGIWFDdL"
      }
    },
    {
      "cell_type": "code",
      "source": [
        "movie_name = input(' Enter your favourite movie name : ')"
      ],
      "metadata": {
        "colab": {
          "base_uri": "https://localhost:8080/"
        },
        "id": "PHyis67_DiZd",
        "outputId": "535ef65b-1213-415d-eb0b-7616b08640cd"
      },
      "execution_count": 16,
      "outputs": [
        {
          "name": "stdout",
          "output_type": "stream",
          "text": [
            " Enter your favourite movie name : Harry Potter and the Half-Blood Prince\n"
          ]
        }
      ]
    },
    {
      "cell_type": "code",
      "source": [
        "list_of_all_titles = movies_data['title'].tolist()\n",
        "#print(list_of_all_titles)"
      ],
      "metadata": {
        "id": "igLn3xyRDluQ"
      },
      "execution_count": 37,
      "outputs": []
    },
    {
      "cell_type": "code",
      "source": [
        "find_close_match = difflib.get_close_matches(movie_name, list_of_all_titles)\n",
        "print(find_close_match)"
      ],
      "metadata": {
        "colab": {
          "base_uri": "https://localhost:8080/"
        },
        "id": "B2tXLum6Dts1",
        "outputId": "b3e632b6-a0f6-48d6-eda1-fb1b21056ea3"
      },
      "execution_count": 18,
      "outputs": [
        {
          "output_type": "stream",
          "name": "stdout",
          "text": [
            "['Harry Potter and the Half-Blood Prince', 'Harry Potter and the Prisoner of Azkaban', \"Harry Potter and the Philosopher's Stone\"]\n"
          ]
        }
      ]
    },
    {
      "cell_type": "code",
      "source": [
        "close_match = find_close_match[0]\n",
        "print(close_match)"
      ],
      "metadata": {
        "colab": {
          "base_uri": "https://localhost:8080/"
        },
        "id": "6mJ7t5kWDwNK",
        "outputId": "f93edde8-5044-49ea-b103-f6000d41cc42"
      },
      "execution_count": 19,
      "outputs": [
        {
          "output_type": "stream",
          "name": "stdout",
          "text": [
            "Harry Potter and the Half-Blood Prince\n"
          ]
        }
      ]
    },
    {
      "cell_type": "code",
      "source": [
        "index_of_the_movie = movies_data[movies_data.title == close_match]['index'].values[0]\n",
        "print(index_of_the_movie)"
      ],
      "metadata": {
        "colab": {
          "base_uri": "https://localhost:8080/"
        },
        "id": "MZbIQbMREFsF",
        "outputId": "fd6f1bf0-d912-406e-a9a0-5f84df30323a"
      },
      "execution_count": 20,
      "outputs": [
        {
          "output_type": "stream",
          "name": "stdout",
          "text": [
            "8\n"
          ]
        }
      ]
    },
    {
      "cell_type": "code",
      "source": [
        "similarity_score = list(enumerate(similarity[index_of_the_movie]))\n",
        "print(similarity_score)"
      ],
      "metadata": {
        "colab": {
          "base_uri": "https://localhost:8080/"
        },
        "id": "MCbQDL2EEJD7",
        "outputId": "d17854d9-9590-4388-cb3e-caa95091624e"
      },
      "execution_count": 21,
      "outputs": [
        {
          "output_type": "stream",
          "name": "stdout",
          "text": [
            "[(0, 0.02960930964063025), (1, 0.04056180271185782), (2, 0.03484297090109418), (3, 0.03210611152276799), (4, 0.008184976474383678), (5, 0.030672926634831597), (6, 0.05035316010136349), (7, 0.008484408956417161), (8, 1.0000000000000002), (9, 0.020858347217226243), (10, 0.02379021016800665), (11, 0.030252969621032817), (12, 0.05764859285467415), (13, 0.007748889504301471), (14, 0.03203559400312493), (15, 0.029528033334071554), (16, 0.008045023221038158), (17, 0.02065949883376596), (18, 0.040759163868134746), (19, 0.025677162630943936), (20, 0.06092182196852157), (21, 0.00705439782523095), (22, 0.02674203211210104), (23, 0.04046906064636289), (24, 0.015909354241301518), (25, 0.0), (26, 0.00875664790076868), (27, 0.007657124971336458), (28, 0.008406619603506311), (29, 0.03563108498973076), (30, 0.03836624889966217), (31, 0.00826062907345574), (32, 0.04040536178666091), (33, 0.00843169278002547), (34, 0.03572276330122187), (35, 0.020533738185105302), (36, 0.018502536734312437), (37, 0.1028358014453989), (38, 0.09578653678763513), (39, 0.007916126754400923), (40, 0.031019695166406222), (41, 0.00809725776692075), (42, 0.0385005835586864), (43, 0.0), (44, 0.0), (45, 0.0), (46, 0.030996563008783486), (47, 0.009306476515738262), (48, 0.031689368246965555), (49, 0.007077873990577152), (50, 0.02044811618555501), (51, 0.006899901770618336), (52, 0.017615640902701565), (53, 0.01792766693420196), (54, 0.01648505764641417), (55, 0.0523363970571488), (56, 0.009428054507507035), (57, 0.020220556706782022), (58, 0.0), (59, 0.015926933141618985), (60, 0.0), (61, 0.021089609311466195), (62, 0.08235386638836867), (63, 0.061211142376685075), (64, 0.01127884134255769), (65, 0.01131280943223584), (66, 0.01719149942540181), (67, 0.018769331891040096), (68, 0.007882387851851008), (69, 0.03716124911004351), (70, 0.008253002926898581), (71, 0.027804340141905796), (72, 0.033113482263699506), (73, 0.06009201756837707), (74, 0.017738641219276013), (75, 0.007955508521294952), (76, 0.00847557509357305), (77, 0.01911316501774308), (78, 0.03409631645585154), (79, 0.007594761754169785), (80, 0.10061863744012264), (81, 0.0628535108064181), (82, 0.0), (83, 0.008655781977176582), (84, 0.01716676731140102), (85, 0.009278158606258633), (86, 0.026399463343791868), (87, 0.017884928229648635), (88, 0.0511696266104871), (89, 0.02284361219811792), (90, 0.05800289678453696), (91, 0.008129789882272751), (92, 0.04082350131912627), (93, 0.012479751982164727), (94, 0.008171535826638274), (95, 0.01790068201051717), (96, 0.042769381762091586), (97, 0.00653371212691628), (98, 0.019891569503635607), (99, 0.0), (100, 0.024370438018530297), (101, 0.02100167400457151), (102, 0.017875448473007892), (103, 0.0904532484617638), (104, 0.017229040056982482), (105, 0.012871307930918872), (106, 0.04138511828390984), (107, 0.05584356051023877), (108, 0.008382861637638298), (109, 0.07645457812710428), (110, 0.00970210987146005), (111, 0.020594278082948732), (112, 0.016674229073740023), (113, 0.5083315474915406), (114, 0.5456239713589984), (115, 0.02040831341778418), (116, 0.007603490167426273), (117, 0.04012406080736922), (118, 0.0209921957950346), (119, 0.011674918160764018), (120, 0.022339960277129343), (121, 0.029072450972293783), (122, 0.009093991562327786), (123, 0.007800644403636684), (124, 0.02366578304453645), (125, 0.007679514388700874), (126, 0.03580418246842609), (127, 0.027444238462326777), (128, 0.018759398915757283), (129, 0.0392308668530781), (130, 0.024930062218045626), (131, 0.03332144672318667), (132, 0.007741436633031074), (133, 0.065301242137221), (134, 0.024597138879716013), (135, 0.0), (136, 0.016055522397382664), (137, 0.01871369909726854), (138, 0.029493773499584562), (139, 0.02343701658922571), (140, 0.0), (141, 0.017607852969729325), (142, 0.03384950248793576), (143, 0.06434046676648056), (144, 0.018248395464228222), (145, 0.006936928010389534), (146, 0.02014011393823848), (147, 0.007568974321057316), (148, 0.012804489774165624), (149, 0.01882331393486717), (150, 0.008101274169999624), (151, 0.008175693436212219), (152, 0.017081918556098884), (153, 0.024321882694203323), (154, 0.022421177510086154), (155, 0.0), (156, 0.042481724269856885), (157, 0.00883306738327669), (158, 0.008867543289580261), (159, 0.01984856933034166), (160, 0.02126897838281782), (161, 0.01172056789733901), (162, 0.0), (163, 0.007619399152940738), (164, 0.00855548427324189), (165, 0.0), (166, 0.009838742556365267), (167, 0.01701261706624382), (168, 0.02016151589312489), (169, 0.008287146589380831), (170, 0.01611299978352599), (171, 0.015574914298001697), (172, 0.020311980695620357), (173, 0.011697381885460932), (174, 0.007548040531284482), (175, 0.02949495124679519), (176, 0.023968007442662156), (177, 0.03563713444399777), (178, 0.01690280325642475), (179, 0.03701495740703037), (180, 0.01390991609959244), (181, 0.018683250383891632), (182, 0.018737823924856102), (183, 0.008728730603170223), (184, 0.025120609993703996), (185, 0.02604689827487578), (186, 0.024323226511772073), (187, 0.03726127703699419), (188, 0.02599662720114701), (189, 0.09925364377614183), (190, 0.03980372276405695), (191, 0.31722581320954696), (192, 0.012957576796867373), (193, 0.008856568899562513), (194, 0.009360407313483822), (195, 0.0291090704206556), (196, 0.042332192507718774), (197, 0.46897705093795383), (198, 0.012984956068418338), (199, 0.026345504495867228), (200, 0.00871094645706361), (201, 0.019037297568932555), (202, 0.017467168167534616), (203, 0.007598670449260514), (204, 0.0), (205, 0.008698136997467267), (206, 0.01948303390091973), (207, 0.01804550095807538), (208, 0.07848950606284327), (209, 0.0), (210, 0.012168345433869777), (211, 0.02245699381913662), (212, 0.008001178918497468), (213, 0.028456810051752473), (214, 0.0), (215, 0.042729003586004566), (216, 0.007775271031183508), (217, 0.012312220892869371), (218, 0.0), (219, 0.00930112044211887), (220, 0.017395640927439313), (221, 0.04121130761541704), (222, 0.0), (223, 0.01947212758162966), (224, 0.010647985959803161), (225, 0.03120014014880755), (226, 0.0), (227, 0.01740146447232163), (228, 0.02450654570991917), (229, 0.00859649614434039), (230, 0.006600020114852739), (231, 0.009145520494589783), (232, 0.019175368307722155), (233, 0.006893367718843398), (234, 0.07404917854813921), (235, 0.02859528758822788), (236, 0.0), (237, 0.07014906996720119), (238, 0.019424707280585936), (239, 0.0), (240, 0.008524214677198095), (241, 0.0204784158948376), (242, 0.020669383181117836), (243, 0.030273266061100295), (244, 0.0), (245, 0.014545192043294651), (246, 0.007864740305424903), (247, 0.0), (248, 0.0), (249, 0.008416582620735856), (250, 0.0), (251, 0.0), (252, 0.0), (253, 0.010868865125625963), (254, 0.05833368193007135), (255, 0.010715670118636845), (256, 0.016753921122190173), (257, 0.0), (258, 0.022032292109636625), (259, 0.007463891712582807), (260, 0.00828599382307595), (261, 0.02906689749225592), (262, 0.02064896624269213), (263, 0.008171699072423306), (264, 0.010484408945739269), (265, 0.022224807526040655), (266, 0.0), (267, 0.020785834157341802), (268, 0.043920167098702584), (269, 0.030268476080741635), (270, 0.020983684511416995), (271, 0.030590050161500834), (272, 0.0), (273, 0.0), (274, 0.008998240072453834), (275, 0.01664559158900007), (276, 0.353818535169164), (277, 0.0339948839638684), (278, 0.017147461373327445), (279, 0.011839893855373727), (280, 0.010769998793834218), (281, 0.0), (282, 0.015769180076136657), (283, 0.007077946105366973), (284, 0.0097586857773793), (285, 0.0), (286, 0.0), (287, 0.008411911527407915), (288, 0.033082458437941456), (289, 0.04191642289108012), (290, 0.008655450702061487), (291, 0.07599065102620473), (292, 0.03571345569397402), (293, 0.028306917269543836), (294, 0.04658538274069644), (295, 0.0), (296, 0.01332173602890376), (297, 0.018493255140351564), (298, 0.0), (299, 0.013094082007098506), (300, 0.006956110772696161), (301, 0.03634630665364886), (302, 0.03030718247314521), (303, 0.0), (304, 0.00790888517802748), (305, 0.09469916520828656), (306, 0.008434206851095229), (307, 0.008130447909081195), (308, 0.0), (309, 0.035230493349948586), (310, 0.008237338483228223), (311, 0.0), (312, 0.01475480214636091), (313, 0.016154827712402696), (314, 0.013729865348755341), (315, 0.01862814316965798), (316, 0.026257234588729538), (317, 0.0), (318, 0.008705343317409691), (319, 0.008956211973364176), (320, 0.026148070378367777), (321, 0.0), (322, 0.021872020015572702), (323, 0.014791128858831888), (324, 0.03453799925058211), (325, 0.019636793030574706), (326, 0.054212226840575375), (327, 0.022276317894064993), (328, 0.0080745721437777), (329, 0.028978755385522192), (330, 0.02124575238307979), (331, 0.15334943778902627), (332, 0.038008947006078174), (333, 0.0), (334, 0.007848952139516432), (335, 0.11655563877706489), (336, 0.03733588769797583), (337, 0.0), (338, 0.0), (339, 0.01937062489975664), (340, 0.01941303723837296), (341, 0.029465296580881113), (342, 0.015349382905639381), (343, 0.028028509935504167), (344, 0.0), (345, 0.0), (346, 0.0), (347, 0.01132970314034567), (348, 0.01781616958846137), (349, 0.019867548837034836), (350, 0.009883519460471661), (351, 0.0), (352, 0.016643390099912194), (353, 0.0), (354, 0.03745381930123227), (355, 0.0), (356, 0.041146136779679196), (357, 0.0), (358, 0.026907496452734738), (359, 0.01741334676427527), (360, 0.017087641922780058), (361, 0.0), (362, 0.0), (363, 0.0209913519485317), (364, 0.0557456409460773), (365, 0.023549257531902894), (366, 0.0), (367, 0.008248593656510463), (368, 0.026283871164070924), (369, 0.01702542983793439), (370, 0.04076031379182874), (371, 0.00661649544929851), (372, 0.0), (373, 0.0), (374, 0.03846244536953018), (375, 0.0), (376, 0.0), (377, 0.006289253255734765), (378, 0.0), (379, 0.017885610649905206), (380, 0.026227626170609704), (381, 0.027432453899496497), (382, 0.0209783597196328), (383, 0.05104739379116861), (384, 0.03374717373785372), (385, 0.0), (386, 0.0), (387, 0.016787416805892175), (388, 0.0), (389, 0.008181158489385571), (390, 0.10229015350434441), (391, 0.02046576105515928), (392, 0.02424334028537727), (393, 0.014187036032504135), (394, 0.0), (395, 0.0), (396, 0.0), (397, 0.0), (398, 0.008376486898985727), (399, 0.01570055644295111), (400, 0.007369337825046654), (401, 0.0), (402, 0.008226511896604352), (403, 0.05798332155787664), (404, 0.0), (405, 0.006561055542137924), (406, 0.009011207653018997), (407, 0.011315511070339917), (408, 0.0), (409, 0.0), (410, 0.048950137650675525), (411, 0.02147678623513874), (412, 0.015568044322659388), (413, 0.02306255155591622), (414, 0.008122861604685625), (415, 0.0), (416, 0.023943993150678626), (417, 0.011315152930016524), (418, 0.009996217794312931), (419, 0.043860880720692004), (420, 0.028617399212657248), (421, 0.013257609571192317), (422, 0.021691635612607122), (423, 0.03210227489556122), (424, 0.008241736414895263), (425, 0.02845892118788408), (426, 0.01981934918998744), (427, 0.0), (428, 0.036881485910441596), (429, 0.008375027417531721), (430, 0.020126986754502807), (431, 0.022197953619633084), (432, 0.0), (433, 0.0), (434, 0.011633872657866539), (435, 0.03636691111596522), (436, 0.013796446108625085), (437, 0.0), (438, 0.0), (439, 0.0), (440, 0.009204309479029435), (441, 0.017581460165427443), (442, 0.0), (443, 0.020045940781232667), (444, 0.0253909793960804), (445, 0.0), (446, 0.0), (447, 0.012105046379058897), (448, 0.03329110003744441), (449, 0.0), (450, 0.009547455822726111), (451, 0.012402610343813276), (452, 0.02856500777421455), (453, 0.01019689608560607), (454, 0.0), (455, 0.0), (456, 0.02196008141227347), (457, 0.029813369790854534), (458, 0.03563365120165359), (459, 0.04171567120755354), (460, 0.009873348475483787), (461, 0.019316399607545245), (462, 0.0), (463, 0.011364142593533272), (464, 0.07885433673604487), (465, 0.010674904889420809), (466, 0.018312017749315356), (467, 0.034668057910760657), (468, 0.0), (469, 0.007579150153470065), (470, 0.01198010471460164), (471, 0.025705114928825205), (472, 0.020317661393617646), (473, 0.0124398705152544), (474, 0.0), (475, 0.007060802542184045), (476, 0.0), (477, 0.0), (478, 0.008279665569418304), (479, 0.02844068679034798), (480, 0.0), (481, 0.009498487611738372), (482, 0.02228444883059915), (483, 0.018973113951905627), (484, 0.02273976313293954), (485, 0.034791816979076774), (486, 0.0873505390941372), (487, 0.015134121255843175), (488, 0.043115985282277995), (489, 0.013054280562401346), (490, 0.02057097647569465), (491, 0.007228291103998869), (492, 0.015497362278273875), (493, 0.008601653350168199), (494, 0.03107666159388835), (495, 0.008363036253319679), (496, 0.010844679888509755), (497, 0.047576875062232266), (498, 0.007566114731316753), (499, 0.0), (500, 0.0), (501, 0.03007810752873325), (502, 0.019736360915548753), (503, 0.02356428172541232), (504, 0.009944341798406208), (505, 0.028535951317922924), (506, 0.010106422226079275), (507, 0.00815051072040463), (508, 0.008351899291531123), (509, 0.02170848783496064), (510, 0.019101100663802342), (511, 0.008564899017378301), (512, 0.017742076550944435), (513, 0.026422339205136543), (514, 0.013516356969223436), (515, 0.0073710738646348885), (516, 0.009092854444703412), (517, 0.0), (518, 0.08067717415925822), (519, 0.0), (520, 0.0), (521, 0.01856575380592235), (522, 0.039243105147529156), (523, 0.008441231223448534), (524, 0.017331508758239536), (525, 0.023459379507897893), (526, 0.0), (527, 0.0), (528, 0.02526783072148114), (529, 0.0), (530, 0.019142919221603837), (531, 0.015382643033911562), (532, 0.009677646642120874), (533, 0.023387797592923296), (534, 0.0), (535, 0.015310877238709835), (536, 0.071855552914415), (537, 0.012223210567515883), (538, 0.0), (539, 0.02886468900676711), (540, 0.01073276065368093), (541, 0.0), (542, 0.0), (543, 0.01755021405387097), (544, 0.016496395311077557), (545, 0.06034827849695106), (546, 0.03485455220251469), (547, 0.026007970218462132), (548, 0.00796789812759992), (549, 0.0), (550, 0.009624394888524263), (551, 0.007982823425038154), (552, 0.0), (553, 0.0), (554, 0.02869468465833576), (555, 0.021712772900199892), (556, 0.0), (557, 0.0), (558, 0.028652673828270487), (559, 0.011303071306985189), (560, 0.008044514711044786), (561, 0.018339454598865098), (562, 0.0), (563, 0.022813229145273624), (564, 0.0), (565, 0.06634596860711932), (566, 0.01610407717504473), (567, 0.0), (568, 0.016062654264976262), (569, 0.036866678874381734), (570, 0.00834750576951936), (571, 0.010165498210597354), (572, 0.04257480264850803), (573, 0.0), (574, 0.008052942898569787), (575, 0.01752934469303434), (576, 0.010931016340611804), (577, 0.0076727512170333715), (578, 0.03424812425221087), (579, 0.0), (580, 0.0), (581, 0.0172178752353599), (582, 0.0), (583, 0.061655053858712616), (584, 0.015081782977214452), (585, 0.04890730295818904), (586, 0.0), (587, 0.023557447736746853), (588, 0.01396102279007796), (589, 0.012551291131745124), (590, 0.0), (591, 0.0698727406810159), (592, 0.025940765301951718), (593, 0.0), (594, 0.008394937464826804), (595, 0.007500925436948104), (596, 0.017204464154198757), (597, 0.02345685368590549), (598, 0.017706768219609773), (599, 0.007419132859189688), (600, 0.009804782677364664), (601, 0.0), (602, 0.029114957868142527), (603, 0.0), (604, 0.030118168005018056), (605, 0.011314858308906587), (606, 0.010632974699910919), (607, 0.00829222877155153), (608, 0.034531289907872964), (609, 0.0), (610, 0.014993163671074762), (611, 0.0), (612, 0.036510132544721394), (613, 0.0), (614, 0.010021083933620492), (615, 0.0), (616, 0.0), (617, 0.017155270075843103), (618, 0.0180288862138867), (619, 0.0), (620, 0.010734371813413846), (621, 0.0), (622, 0.0), (623, 0.0), (624, 0.011216931246440439), (625, 0.0), (626, 0.014332024725226284), (627, 0.0282176937881736), (628, 0.032058119077828906), (629, 0.0), (630, 0.0), (631, 0.024214730017388584), (632, 0.026365805489978248), (633, 0.04495550156994343), (634, 0.0), (635, 0.019169601094542625), (636, 0.07463401900214124), (637, 0.019289077632046212), (638, 0.024778181998539612), (639, 0.0), (640, 0.007972625782649111), (641, 0.0), (642, 0.007858342525081838), (643, 0.008211292958113936), (644, 0.035790989254333244), (645, 0.008527609361696354), (646, 0.01908536120107078), (647, 0.009830896372761026), (648, 0.02071923553572096), (649, 0.0), (650, 0.015278623003781449), (651, 0.010439019610837165), (652, 0.0), (653, 0.017306977379327633), (654, 0.02199944629476592), (655, 0.0), (656, 0.030355389318566264), (657, 0.0), (658, 0.007978255415119633), (659, 0.05531816403064656), (660, 0.043279542656747855), (661, 0.050052952016495136), (662, 0.011629977907314024), (663, 0.014141534083802159), (664, 0.01935459820447962), (665, 0.01643693786562973), (666, 0.01171962274362803), (667, 0.009697628385734937), (668, 0.012332999942693478), (669, 0.0), (670, 0.008276635031968028), (671, 0.007672677402964149), (672, 0.04403239784047048), (673, 0.008187382660150998), (674, 0.0284914520863083), (675, 0.0158272972523395), (676, 0.027940730536720495), (677, 0.016028415860172413), (678, 0.03840880469809267), (679, 0.0), (680, 0.01123189481298995), (681, 0.019342514765107902), (682, 0.0), (683, 0.007477995958139171), (684, 0.0), (685, 0.0), (686, 0.00835225027862763), (687, 0.020088540143077392), (688, 0.009475124759725397), (689, 0.026105303312107288), (690, 0.05555205189529732), (691, 0.007611622689290931), (692, 0.008610306016216998), (693, 0.012180685794445565), (694, 0.0), (695, 0.007228381371984789), (696, 0.0), (697, 0.0), (698, 0.019498042895178643), (699, 0.010369638865691764), (700, 0.0), (701, 0.009196082867149706), (702, 0.0), (703, 0.0), (704, 0.01811372780471024), (705, 0.0), (706, 0.02746446115348218), (707, 0.04620048866202208), (708, 0.0), (709, 0.0), (710, 0.02084877958024793), (711, 0.0070883614202726635), (712, 0.0), (713, 0.0), (714, 0.028942134546482853), (715, 0.03751519873950051), (716, 0.008180227077589667), (717, 0.031115579084382294), (718, 0.008673287276382259), (719, 0.009585006602740354), (720, 0.0), (721, 0.029655344636237337), (722, 0.021669271166855367), (723, 0.0), (724, 0.0), (725, 0.009661074787061654), (726, 0.0), (727, 0.009126575624010138), (728, 0.109839223282379), (729, 0.0), (730, 0.015303548394905143), (731, 0.020616543724590014), (732, 0.009274382264461851), (733, 0.0), (734, 0.08554943013451863), (735, 0.0), (736, 0.0), (737, 0.0), (738, 0.014329222545426004), (739, 0.0), (740, 0.011466893238709768), (741, 0.01827088248213837), (742, 0.01961280580953601), (743, 0.09346108430207564), (744, 0.03785052419698179), (745, 0.0), (746, 0.01819724011923374), (747, 0.03168639208248671), (748, 0.03414690798511981), (749, 0.0), (750, 0.0), (751, 0.017511478113172784), (752, 0.016172921783901027), (753, 0.01114074976418161), (754, 0.015173798465136678), (755, 0.019284724190193607), (756, 0.0), (757, 0.0), (758, 0.052622371987591496), (759, 0.024759789827172293), (760, 0.0), (761, 0.0), (762, 0.018729231479106496), (763, 0.019942094082116592), (764, 0.013345605883432548), (765, 0.0), (766, 0.00988218308757493), (767, 0.008393115283009034), (768, 0.012616318790003352), (769, 0.023759695905361054), (770, 0.0), (771, 0.016768515566724353), (772, 0.0), (773, 0.02380814134491346), (774, 0.0), (775, 0.0075783988962835796), (776, 0.0133836292195948), (777, 0.00804066383601054), (778, 0.0265983458546836), (779, 0.008526321522987093), (780, 0.0), (781, 0.03601769460212585), (782, 0.00815598280787251), (783, 0.020704851164272516), (784, 0.04177416607876937), (785, 0.016944551011044695), (786, 0.022624447624551975), (787, 0.01405614315886116), (788, 0.015606500539694593), (789, 0.0), (790, 0.0), (791, 0.06930690079812844), (792, 0.011650583375482877), (793, 0.010075253238208305), (794, 0.006678636810106928), (795, 0.0), (796, 0.0), (797, 0.0), (798, 0.0070742106874890345), (799, 0.014990545629349029), (800, 0.018781495659626536), (801, 0.0), (802, 0.007586137722221275), (803, 0.06349531673216909), (804, 0.0), (805, 0.011563648122463046), (806, 0.0), (807, 0.02012903565012864), (808, 0.008256395405041014), (809, 0.022072006607479426), (810, 0.035434579574217404), (811, 0.0), (812, 0.030236563213911105), (813, 0.020070942434549842), (814, 0.027594312984929377), (815, 0.0), (816, 0.018737918077956415), (817, 0.0), (818, 0.018153156066577112), (819, 0.0), (820, 0.02268547110842082), (821, 0.012424303188142869), (822, 0.0), (823, 0.0), (824, 0.0), (825, 0.017859772607045833), (826, 0.012167893184308382), (827, 0.01129991489220789), (828, 0.013313347634415244), (829, 0.0), (830, 0.020969923622140972), (831, 0.014055283254611745), (832, 0.02731589331291691), (833, 0.02422131652344685), (834, 0.008479019100645777), (835, 0.010336844792364736), (836, 0.04782961332341898), (837, 0.010197766717915868), (838, 0.013580395763560802), (839, 0.007128732752461246), (840, 0.007807986804841868), (841, 0.03949305402806002), (842, 0.09279364329650759), (843, 0.0), (844, 0.0), (845, 0.0), (846, 0.0), (847, 0.011709546279404308), (848, 0.01935854961748419), (849, 0.0), (850, 0.0), (851, 0.0), (852, 0.0), (853, 0.018744580660017385), (854, 0.0), (855, 0.0), (856, 0.007768097945120988), (857, 0.0), (858, 0.01885105818185144), (859, 0.0265316395181989), (860, 0.0), (861, 0.0075476751114548395), (862, 0.01587870466676576), (863, 0.018093356085368127), (864, 0.011733493772715186), (865, 0.0095315311732522), (866, 0.0), (867, 0.0), (868, 0.00840284404749099), (869, 0.022142125307555625), (870, 0.02916422947702746), (871, 0.008451788029518702), (872, 0.0), (873, 0.008437799251179453), (874, 0.024123612901566782), (875, 0.0), (876, 0.009604248307639854), (877, 0.0), (878, 0.0), (879, 0.0), (880, 0.0), (881, 0.00988515843460622), (882, 0.0), (883, 0.025051664183472776), (884, 0.0), (885, 0.0), (886, 0.0), (887, 0.0), (888, 0.008063473336987287), (889, 0.0), (890, 0.012652122369320314), (891, 0.0), (892, 0.0), (893, 0.0), (894, 0.011149124538616093), (895, 0.0), (896, 0.017664975116307692), (897, 0.010088040753831443), (898, 0.021685615683642405), (899, 0.06379796348819557), (900, 0.0), (901, 0.021359809546425815), (902, 0.016641857031902997), (903, 0.011420760475754606), (904, 0.0), (905, 0.029649119715811304), (906, 0.021391833591064727), (907, 0.0), (908, 0.0), (909, 0.0), (910, 0.00812186286683737), (911, 0.02590596378542895), (912, 0.01795515712205614), (913, 0.0), (914, 0.02239681846348599), (915, 0.02022011638315603), (916, 0.0), (917, 0.051205047813616705), (918, 0.0), (919, 0.013650705302154198), (920, 0.007806846587035631), (921, 0.01107863091930724), (922, 0.01643588650128925), (923, 0.015703705878501527), (924, 0.013104593731696063), (925, 0.057354197597140874), (926, 0.00959045181459585), (927, 0.010899435649592731), (928, 0.0), (929, 0.0), (930, 0.0), (931, 0.03168396123999586), (932, 0.021354833968233317), (933, 0.020837363285947555), (934, 0.02586903306755731), (935, 0.042470068207468285), (936, 0.011509955954700262), (937, 0.07199734597636305), (938, 0.0), (939, 0.006867744258698113), (940, 0.0), (941, 0.009549988623896851), (942, 0.027480353802974554), (943, 0.0), (944, 0.0), (945, 0.02486855521533701), (946, 0.029390109010710857), (947, 0.00752412589734916), (948, 0.0), (949, 0.00966579335751755), (950, 0.01858451704347759), (951, 0.0), (952, 0.0), (953, 0.012948553442492846), (954, 0.014786236632068994), (955, 0.0), (956, 0.0), (957, 0.0), (958, 0.0), (959, 0.009496262826435448), (960, 0.03171615086399417), (961, 0.0073245008881403255), (962, 0.016033883540759155), (963, 0.0), (964, 0.0), (965, 0.0), (966, 0.07592068862451015), (967, 0.012742793911441883), (968, 0.011017396138139833), (969, 0.06125166717561968), (970, 0.0), (971, 0.008774464244597973), (972, 0.017122444188029808), (973, 0.0), (974, 0.0), (975, 0.018834766924405933), (976, 0.008896187677697294), (977, 0.0358726952283891), (978, 0.016342284730914654), (979, 0.0), (980, 0.0), (981, 0.0), (982, 0.0), (983, 0.0115011014176043), (984, 0.009089923069691292), (985, 0.009423549830496463), (986, 0.014455099126177819), (987, 0.022324192273190494), (988, 0.0), (989, 0.016367916472721587), (990, 0.013901824869402274), (991, 0.0), (992, 0.0), (993, 0.024580564655188153), (994, 0.009050987531404955), (995, 0.14546475582122728), (996, 0.0), (997, 0.0), (998, 0.0), (999, 0.0), (1000, 0.03283366409158083), (1001, 0.017435466648717486), (1002, 0.008914933484895776), (1003, 0.0), (1004, 0.05351549934176926), (1005, 0.025438507231172303), (1006, 0.007379078739307578), (1007, 0.007675855200268178), (1008, 0.0), (1009, 0.023218419733035577), (1010, 0.01445547710011645), (1011, 0.0), (1012, 0.022519158345946366), (1013, 0.04023112093664395), (1014, 0.00772696895589188), (1015, 0.0), (1016, 0.019083722946183636), (1017, 0.023522351988087484), (1018, 0.005968934969569121), (1019, 0.016192724621221205), (1020, 0.0), (1021, 0.0), (1022, 0.03648104036851921), (1023, 0.007716536264212787), (1024, 0.006504233088200135), (1025, 0.0), (1026, 0.0), (1027, 0.007965779236422048), (1028, 0.02156727118238188), (1029, 0.028413905094727174), (1030, 0.06319066760295097), (1031, 0.05040156127439509), (1032, 0.0), (1033, 0.0), (1034, 0.017953617840830164), (1035, 0.024258278611704476), (1036, 0.009865325979743343), (1037, 0.018070036955281952), (1038, 0.031553312968776004), (1039, 0.0), (1040, 0.030131811195284817), (1041, 0.0), (1042, 0.014102287102976353), (1043, 0.010737765661856193), (1044, 0.01606047515234826), (1045, 0.008922841318293665), (1046, 0.005556099209363286), (1047, 0.006208763273190426), (1048, 0.00849517860736958), (1049, 0.0), (1050, 0.010933452472527822), (1051, 0.0), (1052, 0.01477182078611179), (1053, 0.018740717199313014), (1054, 0.009588864184623529), (1055, 0.009523794432158318), (1056, 0.0), (1057, 0.02464726757610718), (1058, 0.00725873921251205), (1059, 0.007962577337515521), (1060, 0.014710104591997555), (1061, 0.03172025332516763), (1062, 0.024362116164965617), (1063, 0.01888184336146198), (1064, 0.0), (1065, 0.0), (1066, 0.02487710620198586), (1067, 0.00803445510679295), (1068, 0.018467406532741586), (1069, 0.01184726679914904), (1070, 0.0), (1071, 0.01658252097246933), (1072, 0.007984923431706295), (1073, 0.021657676799381756), (1074, 0.03087616812287887), (1075, 0.0), (1076, 0.021748459086283686), (1077, 0.00659584858915154), (1078, 0.030249507461655327), (1079, 0.050186577975872025), (1080, 0.008313055751330043), (1081, 0.024332452530914886), (1082, 0.03558129796469754), (1083, 0.008621610131978359), (1084, 0.016232685669712782), (1085, 0.03398380380154199), (1086, 0.03173364685079378), (1087, 0.0), (1088, 0.0), (1089, 0.008363725606148927), (1090, 0.0), (1091, 0.0), (1092, 0.018282288510868598), (1093, 0.007860906712601404), (1094, 0.011932466052168984), (1095, 0.045923366526719966), (1096, 0.0), (1097, 0.0), (1098, 0.0), (1099, 0.0), (1100, 0.031560347338686026), (1101, 0.008911479289536237), (1102, 0.0), (1103, 0.007777926886763665), (1104, 0.0), (1105, 0.0), (1106, 0.015175404947229723), (1107, 0.0), (1108, 0.03698458861054986), (1109, 0.00920599486301598), (1110, 0.012113679080529622), (1111, 0.07548224268323629), (1112, 0.0), (1113, 0.008297392849868324), (1114, 0.0), (1115, 0.0), (1116, 0.017478233460149675), (1117, 0.0), (1118, 0.0), (1119, 0.04111544098287084), (1120, 0.0), (1121, 0.008055872144890978), (1122, 0.0), (1123, 0.020349060775654675), (1124, 0.011435772671866315), (1125, 0.0), (1126, 0.020858115101648037), (1127, 0.0), (1128, 0.0), (1129, 0.0), (1130, 0.0), (1131, 0.015963786145482477), (1132, 0.027504835558813074), (1133, 0.0), (1134, 0.028807545850319735), (1135, 0.0), (1136, 0.014304886002702908), (1137, 0.02391508807249785), (1138, 0.0), (1139, 0.02069649670269986), (1140, 0.0), (1141, 0.011154288659378916), (1142, 0.006600776828004608), (1143, 0.008642423221652876), (1144, 0.01311218488104679), (1145, 0.015772855060586927), (1146, 0.0), (1147, 0.014282319342255836), (1148, 0.051312334910460076), (1149, 0.014154363037460494), (1150, 0.0), (1151, 0.0), (1152, 0.02437224287549081), (1153, 0.006121872494420956), (1154, 0.0), (1155, 0.0159915162290461), (1156, 0.0), (1157, 0.033990238283138866), (1158, 0.008245174480603077), (1159, 0.01615768205711066), (1160, 0.007825677873180623), (1161, 0.011171474446355276), (1162, 0.0), (1163, 0.012077964235996457), (1164, 0.019495674324422674), (1165, 0.02492764514063029), (1166, 0.0), (1167, 0.0), (1168, 0.0), (1169, 0.008938944638983018), (1170, 0.0), (1171, 0.0), (1172, 0.031495947395536635), (1173, 0.0), (1174, 0.0), (1175, 0.04132148832657058), (1176, 0.016938806039289763), (1177, 0.0), (1178, 0.008792895444834555), (1179, 0.0), (1180, 0.0), (1181, 0.011743887132550762), (1182, 0.008052083747737363), (1183, 0.0), (1184, 0.04520639766203314), (1185, 0.0), (1186, 0.010778751318434789), (1187, 0.024398808376096353), (1188, 0.012084689709779994), (1189, 0.0), (1190, 0.009325165285207219), (1191, 0.030059868808696093), (1192, 0.028896726675105025), (1193, 0.021693794170929856), (1194, 0.008615694764427655), (1195, 0.0), (1196, 0.047434264969759735), (1197, 0.0), (1198, 0.05594861289859382), (1199, 0.022614507899622036), (1200, 0.015735949113625476), (1201, 0.00754757340595985), (1202, 0.01719449513847167), (1203, 0.02166420421937547), (1204, 0.0), (1205, 0.0), (1206, 0.031849660917938186), (1207, 0.015401146071073214), (1208, 0.0), (1209, 0.006956915689313045), (1210, 0.0), (1211, 0.0), (1212, 0.006724371353276656), (1213, 0.010934111058423691), (1214, 0.03238736972853853), (1215, 0.006924085311676186), (1216, 0.0), (1217, 0.007236521974218744), (1218, 0.007672691025385277), (1219, 0.047612090415518685), (1220, 0.007521419142726393), (1221, 0.007705501583828353), (1222, 0.009648944752118093), (1223, 0.008855722788614153), (1224, 0.02819991795890209), (1225, 0.0), (1226, 0.006329812340808092), (1227, 0.008629212460257798), (1228, 0.013444877673588361), (1229, 0.0), (1230, 0.021931120840500064), (1231, 0.023149529043001025), (1232, 0.0), (1233, 0.007176909746632919), (1234, 0.0270813189355985), (1235, 0.0), (1236, 0.0), (1237, 0.0), (1238, 0.0586389700737875), (1239, 0.02617326858944176), (1240, 0.008217040580888131), (1241, 0.0), (1242, 0.012537824575565031), (1243, 0.011557743298863398), (1244, 0.0), (1245, 0.011563332677219382), (1246, 0.021887731645129242), (1247, 0.010649800169725427), (1248, 0.0), (1249, 0.00874598849820396), (1250, 0.0), (1251, 0.0), (1252, 0.0), (1253, 0.01683556123509152), (1254, 0.0), (1255, 0.023658007799306442), (1256, 0.009050525580395949), (1257, 0.01888030673143045), (1258, 0.0), (1259, 0.037410686437593), (1260, 0.0), (1261, 0.0), (1262, 0.0), (1263, 0.024622197317355068), (1264, 0.008457917665207672), (1265, 0.0), (1266, 0.020097195475447086), (1267, 0.0), (1268, 0.0), (1269, 0.013855244823893347), (1270, 0.02497207688254778), (1271, 0.007796015501491729), (1272, 0.0), (1273, 0.05162328254810416), (1274, 0.0170940185407856), (1275, 0.0), (1276, 0.0), (1277, 0.026807041010969028), (1278, 0.0), (1279, 0.042345215371852665), (1280, 0.05562958176764308), (1281, 0.0), (1282, 0.007659392142364568), (1283, 0.0), (1284, 0.0), (1285, 0.0), (1286, 0.0), (1287, 0.029661490510334638), (1288, 0.0), (1289, 0.025537798621963315), (1290, 0.007428118433364617), (1291, 0.014956002244268315), (1292, 0.02566049922542723), (1293, 0.008428127045093612), (1294, 0.008122080654240792), (1295, 0.0), (1296, 0.023367563556704975), (1297, 0.0), (1298, 0.0068066052034326755), (1299, 0.0), (1300, 0.008304545992319235), (1301, 0.007884508987790997), (1302, 0.01843185846586337), (1303, 0.0305606772584731), (1304, 0.0), (1305, 0.0), (1306, 0.035855661279709176), (1307, 0.022392540740341044), (1308, 0.010758352682093016), (1309, 0.013618782195430659), (1310, 0.008545294086301758), (1311, 0.0), (1312, 0.0), (1313, 0.007896533630738544), (1314, 0.024444630830955535), (1315, 0.007775686929470869), (1316, 0.0), (1317, 0.008732359435473598), (1318, 0.012407792418287149), (1319, 0.012667941300916707), (1320, 0.017324209381772777), (1321, 0.0), (1322, 0.039372048418655395), (1323, 0.0), (1324, 0.021196462707015425), (1325, 0.0), (1326, 0.007825005418443031), (1327, 0.009743155785966393), (1328, 0.007881690935226095), (1329, 0.0), (1330, 0.0), (1331, 0.04995160786429058), (1332, 0.02244153014646898), (1333, 0.015941826812028045), (1334, 0.0), (1335, 0.0), (1336, 0.01781703047516691), (1337, 0.02052279159615935), (1338, 0.022939582435050503), (1339, 0.0), (1340, 0.03198286141214137), (1341, 0.007839194289710635), (1342, 0.0), (1343, 0.007539556175806076), (1344, 0.008087305233204637), (1345, 0.009725869037744719), (1346, 0.0), (1347, 0.007916941235745078), (1348, 0.028900381143007334), (1349, 0.007977977167469877), (1350, 0.008666195360217224), (1351, 0.0), (1352, 0.0), (1353, 0.01419492222742105), (1354, 0.009595988578408448), (1355, 0.0), (1356, 0.0), (1357, 0.0), (1358, 0.022526937954104112), (1359, 0.03093493520052642), (1360, 0.0), (1361, 0.035695403854165586), (1362, 0.02606549656747383), (1363, 0.02448420278074826), (1364, 0.016005365052791293), (1365, 0.01616904325996814), (1366, 0.025828757100894457), (1367, 0.016034110206011844), (1368, 0.011571215601911282), (1369, 0.03581887834627834), (1370, 0.006874179972812379), (1371, 0.0), (1372, 0.0), (1373, 0.0), (1374, 0.0), (1375, 0.05419048606789109), (1376, 0.01855083831564166), (1377, 0.011603899487251804), (1378, 0.0), (1379, 0.007863501532655508), (1380, 0.024946924199767143), (1381, 0.0), (1382, 0.020705509069849554), (1383, 0.0), (1384, 0.0), (1385, 0.0), (1386, 0.05280865707143553), (1387, 0.0), (1388, 0.01755804830723573), (1389, 0.010517259673777478), (1390, 0.033609029231686655), (1391, 0.0), (1392, 0.012423736784667534), (1393, 0.014786806304799763), (1394, 0.01231989255062767), (1395, 0.0), (1396, 0.0), (1397, 0.023263545223879807), (1398, 0.0), (1399, 0.0), (1400, 0.0), (1401, 0.0), (1402, 0.039008379371693894), (1403, 0.014355735164844657), (1404, 0.012917645075086193), (1405, 0.01607747577536283), (1406, 0.0), (1407, 0.010000453300628107), (1408, 0.007198697461589722), (1409, 0.0), (1410, 0.0), (1411, 0.02335965478462751), (1412, 0.0), (1413, 0.0), (1414, 0.0), (1415, 0.007688958975037641), (1416, 0.008112623965680939), (1417, 0.0), (1418, 0.0), (1419, 0.0), (1420, 0.05590067008735973), (1421, 0.0), (1422, 0.013362760126216046), (1423, 0.05632519906783064), (1424, 0.012187368438460274), (1425, 0.0), (1426, 0.01801206974895933), (1427, 0.011484931175613102), (1428, 0.029413793499916165), (1429, 0.0), (1430, 0.0), (1431, 0.021984019551919344), (1432, 0.019488541445563994), (1433, 0.01681969205748905), (1434, 0.01126822313808371), (1435, 0.0), (1436, 0.0), (1437, 0.0), (1438, 0.08484096165634887), (1439, 0.03189569238764289), (1440, 0.02538569020147321), (1441, 0.0), (1442, 0.0), (1443, 0.007932107033954985), (1444, 0.010205037615882465), (1445, 0.017582241759702574), (1446, 0.012519886336525381), (1447, 0.00778365430412044), (1448, 0.013601716213481326), (1449, 0.01225947703533018), (1450, 0.0), (1451, 0.03024182113115356), (1452, 0.008270038807191188), (1453, 0.01968413615462307), (1454, 0.013916655737934627), (1455, 0.0), (1456, 0.006352069477664247), (1457, 0.016819250687846447), (1458, 0.0), (1459, 0.0072248580927686285), (1460, 0.008320901719461229), (1461, 0.007457166213487139), (1462, 0.006244794498737238), (1463, 0.0), (1464, 0.0), (1465, 0.0), (1466, 0.0), (1467, 0.038418270875609076), (1468, 0.01669308647045064), (1469, 0.0412206985523586), (1470, 0.0), (1471, 0.00857102871026069), (1472, 0.0), (1473, 0.0), (1474, 0.0551170069344281), (1475, 0.0), (1476, 0.0), (1477, 0.0), (1478, 0.03063523429526882), (1479, 0.0), (1480, 0.0), (1481, 0.0635883889237079), (1482, 0.0), (1483, 0.0), (1484, 0.011322259900676293), (1485, 0.008309392096800879), (1486, 0.0), (1487, 0.0), (1488, 0.0), (1489, 0.0), (1490, 0.017076391393407074), (1491, 0.012191307293572741), (1492, 0.011548370270963301), (1493, 0.012554990350450733), (1494, 0.04514950047800346), (1495, 0.011876604418883918), (1496, 0.0166758105541803), (1497, 0.010895469738390149), (1498, 0.007524109839781301), (1499, 0.0), (1500, 0.008145903920590813), (1501, 0.03984569487607672), (1502, 0.0), (1503, 0.013466235947412709), (1504, 0.009602111926279373), (1505, 0.0), (1506, 0.025681207359989952), (1507, 0.007706625255092428), (1508, 0.014343771360757403), (1509, 0.0196471630199987), (1510, 0.0), (1511, 0.024146075335292616), (1512, 0.0282459790731017), (1513, 0.0), (1514, 0.0), (1515, 0.011154828344691428), (1516, 0.021292125577721036), (1517, 0.0), (1518, 0.01047832331593919), (1519, 0.04128405315076448), (1520, 0.037780188534327706), (1521, 0.009675597398048835), (1522, 0.0), (1523, 0.007825002661678166), (1524, 0.04424886614995148), (1525, 0.0), (1526, 0.0), (1527, 0.01557545760801897), (1528, 0.0), (1529, 0.011209879030174563), (1530, 0.0), (1531, 0.01571266035443049), (1532, 0.0), (1533, 0.019059205365800875), (1534, 0.0), (1535, 0.0), (1536, 0.0), (1537, 0.0), (1538, 0.0), (1539, 0.022985984583040818), (1540, 0.00819393187723605), (1541, 0.03377906003675418), (1542, 0.007910729867464019), (1543, 0.012545620418129183), (1544, 0.020779356671420546), (1545, 0.0), (1546, 0.008929790430692652), (1547, 0.023285444050490316), (1548, 0.0), (1549, 0.011318665217180213), (1550, 0.0077439554347443085), (1551, 0.029590474631427152), (1552, 0.0), (1553, 0.01187686758007678), (1554, 0.0), (1555, 0.02674679067093602), (1556, 0.0070358429974044035), (1557, 0.0), (1558, 0.0), (1559, 0.00836111893852067), (1560, 0.0), (1561, 0.01472082299064165), (1562, 0.017078517436525605), (1563, 0.0), (1564, 0.007734977741039785), (1565, 0.008255577539393646), (1566, 0.0), (1567, 0.0), (1568, 0.0), (1569, 0.0170899288068932), (1570, 0.018676964652243257), (1571, 0.04097282335882221), (1572, 0.0), (1573, 0.0), (1574, 0.010644363985864413), (1575, 0.017816195837399934), (1576, 0.0), (1577, 0.04578180941581944), (1578, 0.020583126047524027), (1579, 0.028504109022040144), (1580, 0.020731057056370635), (1581, 0.0), (1582, 0.008096697264540079), (1583, 0.02042951172926803), (1584, 0.01839008332983246), (1585, 0.0), (1586, 0.008471318408957386), (1587, 0.017784780935683808), (1588, 0.0), (1589, 0.007431427970264223), (1590, 0.006689244284128163), (1591, 0.0), (1592, 0.010351880314116985), (1593, 0.0), (1594, 0.049581932020299486), (1595, 0.00803549378014031), (1596, 0.0), (1597, 0.0), (1598, 0.01058628896472022), (1599, 0.012924523269575551), (1600, 0.02612042930611915), (1601, 0.0), (1602, 0.008674676654513512), (1603, 0.04514557222760252), (1604, 0.01424425888402067), (1605, 0.0), (1606, 0.0), (1607, 0.014166266587287655), (1608, 0.009115985607071019), (1609, 0.0), (1610, 0.025582421933537436), (1611, 0.009641702690694547), (1612, 0.043931281238706016), (1613, 0.02326700427840409), (1614, 0.0), (1615, 0.008206828714224068), (1616, 0.0), (1617, 0.00829165094032646), (1618, 0.0), (1619, 0.0), (1620, 0.029475712264976524), (1621, 0.008911096934415084), (1622, 0.006871547653480348), (1623, 0.0), (1624, 0.04060868594316356), (1625, 0.0), (1626, 0.010734253449796513), (1627, 0.0), (1628, 0.03496650071058405), (1629, 0.0), (1630, 0.0), (1631, 0.010676243512086214), (1632, 0.0), (1633, 0.0), (1634, 0.0), (1635, 0.01021319220185676), (1636, 0.0), (1637, 0.008752022496835418), (1638, 0.0), (1639, 0.0), (1640, 0.0), (1641, 0.0), (1642, 0.010959508078250966), (1643, 0.010950685001049811), (1644, 0.009947891254705507), (1645, 0.0077314244298548555), (1646, 0.01336719163580929), (1647, 0.00881781439499159), (1648, 0.012223699661470343), (1649, 0.0), (1650, 0.0), (1651, 0.008384971207154816), (1652, 0.021515362053099014), (1653, 0.0), (1654, 0.00782276657149691), (1655, 0.0), (1656, 0.04176419697768742), (1657, 0.015624665775365035), (1658, 0.024874285581801117), (1659, 0.006541729079754937), (1660, 0.011818521373246679), (1661, 0.0), (1662, 0.0), (1663, 0.006726896435930401), (1664, 0.0), (1665, 0.01250060446111885), (1666, 0.0), (1667, 0.010621821701029321), (1668, 0.0675767389390251), (1669, 0.011654390754896665), (1670, 0.005882859722918906), (1671, 0.0), (1672, 0.01470218858832342), (1673, 0.0), (1674, 0.011234072718039898), (1675, 0.009536726097294588), (1676, 0.007911781808484388), (1677, 0.0), (1678, 0.0), (1679, 0.0), (1680, 0.0232173357447482), (1681, 0.0), (1682, 0.03265347403724776), (1683, 0.0), (1684, 0.0), (1685, 0.0), (1686, 0.1085620479429687), (1687, 0.010295237549939378), (1688, 0.0), (1689, 0.0), (1690, 0.0), (1691, 0.0), (1692, 0.0), (1693, 0.0), (1694, 0.012909069046821472), (1695, 0.06671444479680948), (1696, 0.008090168050988115), (1697, 0.014770959241745457), (1698, 0.024332009526554454), (1699, 0.011240166919884022), (1700, 0.0), (1701, 0.0), (1702, 0.0), (1703, 0.011485937895049269), (1704, 0.0), (1705, 0.0), (1706, 0.0), (1707, 0.011273691730182247), (1708, 0.015208037531373278), (1709, 0.0), (1710, 0.018690232435843158), (1711, 0.0), (1712, 0.011688900882295895), (1713, 0.008110875431726236), (1714, 0.0), (1715, 0.0), (1716, 0.0), (1717, 0.011831223619471063), (1718, 0.05582209888735678), (1719, 0.016707523163273556), (1720, 0.0), (1721, 0.013948861478733268), (1722, 0.007638581690949934), (1723, 0.009065710225113845), (1724, 0.00876402983163952), (1725, 0.0), (1726, 0.015240183588497335), (1727, 0.0), (1728, 0.007883011099330027), (1729, 0.0), (1730, 0.0), (1731, 0.026559303705275743), (1732, 0.009092846435152678), (1733, 0.010537997813559992), (1734, 0.06589218701227742), (1735, 0.0), (1736, 0.011548625558404989), (1737, 0.0), (1738, 0.0), (1739, 0.008205553491315312), (1740, 0.008273841969483433), (1741, 0.0), (1742, 0.012537013566887729), (1743, 0.007489633181293195), (1744, 0.0), (1745, 0.007382431155121216), (1746, 0.01590624812558692), (1747, 0.037816805750086724), (1748, 0.0), (1749, 0.007601695099508926), (1750, 0.007409823680525635), (1751, 0.0), (1752, 0.0), (1753, 0.0), (1754, 0.01725578748943513), (1755, 0.0), (1756, 0.0), (1757, 0.0), (1758, 0.0), (1759, 0.0), (1760, 0.012382712890387846), (1761, 0.05028698852389308), (1762, 0.0), (1763, 0.0), (1764, 0.04603976405318151), (1765, 0.0), (1766, 0.0), (1767, 0.0), (1768, 0.0), (1769, 0.0113756152825538), (1770, 0.0), (1771, 0.0), (1772, 0.0), (1773, 0.01310375668722009), (1774, 0.0), (1775, 0.02469323304336795), (1776, 0.0), (1777, 0.019494279921006115), (1778, 0.0), (1779, 0.0), (1780, 0.02455555952031936), (1781, 0.03384338697829037), (1782, 0.0), (1783, 0.012633833854421154), (1784, 0.0), (1785, 0.07365473013093757), (1786, 0.0), (1787, 0.024562329630079156), (1788, 0.0), (1789, 0.02427966822432289), (1790, 0.00832827692366348), (1791, 0.0), (1792, 0.010941501043062098), (1793, 0.010975354011848472), (1794, 0.04535015122659529), (1795, 0.0), (1796, 0.015552789559486958), (1797, 0.008210300265099293), (1798, 0.0), (1799, 0.011147348608527686), (1800, 0.0), (1801, 0.0), (1802, 0.010408166792633193), (1803, 0.012075659119938967), (1804, 0.021863856497905627), (1805, 0.014316715228118131), (1806, 0.012874725215714268), (1807, 0.016323103198624043), (1808, 0.0), (1809, 0.0), (1810, 0.0), (1811, 0.007170132455942172), (1812, 0.023894769101410543), (1813, 0.0), (1814, 0.0), (1815, 0.0), (1816, 0.04040899621461723), (1817, 0.006237027788168369), (1818, 0.0), (1819, 0.030353017714348663), (1820, 0.07052245239548537), (1821, 0.0190366517854263), (1822, 0.08375719354209413), (1823, 0.0), (1824, 0.03778115922365263), (1825, 0.016925880678326132), (1826, 0.024770492250986924), (1827, 0.03614948852249547), (1828, 0.0), (1829, 0.0), (1830, 0.0), (1831, 0.0), (1832, 0.0), (1833, 0.008121980973209968), (1834, 0.019574870743540945), (1835, 0.007956671189185291), (1836, 0.008130002767011287), (1837, 0.0), (1838, 0.01885895224545865), (1839, 0.016127108152748183), (1840, 0.0), (1841, 0.038491679130868414), (1842, 0.013148659720002533), (1843, 0.010130966324664), (1844, 0.0), (1845, 0.008139581721239946), (1846, 0.012226266760943969), (1847, 0.008865389853073603), (1848, 0.01154472719687027), (1849, 0.1320426272424173), (1850, 0.0), (1851, 0.008037209169128076), (1852, 0.022490649449515347), (1853, 0.009353135171552509), (1854, 0.02339675334147088), (1855, 0.02210070980285799), (1856, 0.02944518753388613), (1857, 0.02996409175623083), (1858, 0.0), (1859, 0.007794280489245831), (1860, 0.0), (1861, 0.03426422030732654), (1862, 0.0), (1863, 0.0), (1864, 0.0), (1865, 0.0), (1866, 0.0), (1867, 0.0), (1868, 0.01778487802774928), (1869, 0.0), (1870, 0.041054632222533374), (1871, 0.03895884127847062), (1872, 0.008545703796873508), (1873, 0.01167385126969417), (1874, 0.014994769147995243), (1875, 0.0), (1876, 0.0), (1877, 0.006490603864537612), (1878, 0.04278821900444078), (1879, 0.013812260114044654), (1880, 0.01308082059253158), (1881, 0.0), (1882, 0.007391074166706514), (1883, 0.0), (1884, 0.05484519691126731), (1885, 0.020543118488774707), (1886, 0.010689401605671688), (1887, 0.0), (1888, 0.0), (1889, 0.0), (1890, 0.012911633555116632), (1891, 0.0), (1892, 0.007191129822284218), (1893, 0.012638111855970956), (1894, 0.0), (1895, 0.04750578326828863), (1896, 0.007863651266889241), (1897, 0.01235451415839959), (1898, 0.010226247060475532), (1899, 0.013227723798054987), (1900, 0.04204804130160302), (1901, 0.012280986005368455), (1902, 0.011212206793567733), (1903, 0.0), (1904, 0.03720241955816208), (1905, 0.0), (1906, 0.04454913899908673), (1907, 0.014654094023381425), (1908, 0.016002989480251136), (1909, 0.03131747522689579), (1910, 0.0), (1911, 0.023984760019449908), (1912, 0.06324646042943005), (1913, 0.01949325511734638), (1914, 0.01973584127732432), (1915, 0.0), (1916, 0.00919274546752494), (1917, 0.0), (1918, 0.06464661276181989), (1919, 0.0), (1920, 0.029509564979232544), (1921, 0.0), (1922, 0.019889210190933104), (1923, 0.0), (1924, 0.0), (1925, 0.0), (1926, 0.0), (1927, 0.007796459044365731), (1928, 0.0), (1929, 0.008381007911513043), (1930, 0.007551070157400446), (1931, 0.008647077744831462), (1932, 0.04058117772835462), (1933, 0.028045953943241227), (1934, 0.0), (1935, 0.0), (1936, 0.010573570350164473), (1937, 0.0), (1938, 0.0), (1939, 0.030809388061029744), (1940, 0.04239573213974787), (1941, 0.01500007280240987), (1942, 0.019146349732738363), (1943, 0.0), (1944, 0.0), (1945, 0.014512310672630084), (1946, 0.0), (1947, 0.009268761215086664), (1948, 0.0), (1949, 0.0), (1950, 0.012428767057287765), (1951, 0.008437923340625392), (1952, 0.010581643599164406), (1953, 0.00878521523074685), (1954, 0.0), (1955, 0.0), (1956, 0.0), (1957, 0.0), (1958, 0.027895769625327443), (1959, 0.006789382548176293), (1960, 0.0073525469970936305), (1961, 0.020460402364162758), (1962, 0.0), (1963, 0.01634737229277061), (1964, 0.01685454507682252), (1965, 0.010594456563100466), (1966, 0.014622777452844024), (1967, 0.020439347273805863), (1968, 0.04060362177680939), (1969, 0.02326796627449302), (1970, 0.015522107496488587), (1971, 0.0), (1972, 0.0), (1973, 0.031575228149059394), (1974, 0.0), (1975, 0.0), (1976, 0.02252027176092591), (1977, 0.0378466539639828), (1978, 0.014634639511649788), (1979, 0.023829267275938145), (1980, 0.008447363341418592), (1981, 0.0), (1982, 0.007722148386084122), (1983, 0.020433735008460668), (1984, 0.07717899854315559), (1985, 0.0), (1986, 0.019842031207859337), (1987, 0.04824773881314993), (1988, 0.030807409419659367), (1989, 0.0), (1990, 0.01701064253747186), (1991, 0.011109383082624335), (1992, 0.012040085326038211), (1993, 0.0), (1994, 0.0), (1995, 0.08797907181869326), (1996, 0.0), (1997, 0.0), (1998, 0.0), (1999, 0.06180932172187527), (2000, 0.008428991928506106), (2001, 0.015647008242202325), (2002, 0.011341437617482448), (2003, 0.018710090119238888), (2004, 0.0), (2005, 0.012098876113923813), (2006, 0.0), (2007, 0.020887360668990152), (2008, 0.0), (2009, 0.0), (2010, 0.0), (2011, 0.055072896050233355), (2012, 0.0), (2013, 0.0), (2014, 0.0), (2015, 0.0), (2016, 0.0), (2017, 0.01157341858738299), (2018, 0.0), (2019, 0.029702347674887185), (2020, 0.010043767151730464), (2021, 0.008467838107787102), (2022, 0.006467992161937109), (2023, 0.014532989140878859), (2024, 0.0), (2025, 0.008646555120465992), (2026, 0.0), (2027, 0.0), (2028, 0.0), (2029, 0.03556137701393229), (2030, 0.0), (2031, 0.0), (2032, 0.008606586844623483), (2033, 0.013666325162205856), (2034, 0.0), (2035, 0.0), (2036, 0.03281086955448471), (2037, 0.05312665997772475), (2038, 0.008393172925457302), (2039, 0.007553988855133316), (2040, 0.032614852392829144), (2041, 0.0), (2042, 0.006699394421744105), (2043, 0.0), (2044, 0.008589761057505281), (2045, 0.014978420626683055), (2046, 0.008362111622063129), (2047, 0.024874125747977392), (2048, 0.05110149598907987), (2049, 0.034472755830576976), (2050, 0.0), (2051, 0.0), (2052, 0.006960719216877925), (2053, 0.007397297354189466), (2054, 0.026083693276650916), (2055, 0.0), (2056, 0.0), (2057, 0.013561033476638309), (2058, 0.0), (2059, 0.0), (2060, 0.0), (2061, 0.036151652392441495), (2062, 0.007218000646833991), (2063, 0.0), (2064, 0.01728368883249637), (2065, 0.0), (2066, 0.017842688792531185), (2067, 0.0), (2068, 0.014168197033040134), (2069, 0.028345415283434566), (2070, 0.013105235158510975), (2071, 0.014377185256515707), (2072, 0.0), (2073, 0.0), (2074, 0.0), (2075, 0.0), (2076, 0.0), (2077, 0.0), (2078, 0.01027655223435285), (2079, 0.0), (2080, 0.0), (2081, 0.0), (2082, 0.0), (2083, 0.0), (2084, 0.012418496957908408), (2085, 0.014965050799765033), (2086, 0.04084972839650766), (2087, 0.0), (2088, 0.008642906107707913), (2089, 0.009121165975038627), (2090, 0.0), (2091, 0.01484695195357687), (2092, 0.0), (2093, 0.0), (2094, 0.0), (2095, 0.014052818319164575), (2096, 0.007279649074439151), (2097, 0.014907354981791701), (2098, 0.0), (2099, 0.031390759663364014), (2100, 0.012085581806844464), (2101, 0.006954198367447903), (2102, 0.0), (2103, 0.05245084771875377), (2104, 0.01682456288672355), (2105, 0.01791393116083587), (2106, 0.0), (2107, 0.0), (2108, 0.023476512396792038), (2109, 0.0), (2110, 0.0), (2111, 0.0), (2112, 0.010657687376171449), (2113, 0.0), (2114, 0.03356332463705288), (2115, 0.02843361001694651), (2116, 0.01761836287034208), (2117, 0.03769479881973081), (2118, 0.007522812403289209), (2119, 0.010072571596954861), (2120, 0.0), (2121, 0.01765970867121769), (2122, 0.009161557942079323), (2123, 0.028985076781647866), (2124, 0.0), (2125, 0.0), (2126, 0.0), (2127, 0.028693737036190083), (2128, 0.0), (2129, 0.01723949430523839), (2130, 0.0), (2131, 0.013544187131593716), (2132, 0.02296504230615364), (2133, 0.006961160199131391), (2134, 0.018794280025269262), (2135, 0.0), (2136, 0.014847714588800428), (2137, 0.0), (2138, 0.0), (2139, 0.0), (2140, 0.0077309897394827725), (2141, 0.0), (2142, 0.08011318664262991), (2143, 0.0), (2144, 0.0), (2145, 0.0), (2146, 0.0), (2147, 0.0171042471704535), (2148, 0.0066874182530651805), (2149, 0.0071906938936908546), (2150, 0.0), (2151, 0.02784296451454863), (2152, 0.007500236992207668), (2153, 0.0), (2154, 0.013923016287709377), (2155, 0.00783888497979582), (2156, 0.059884414587087736), (2157, 0.02139887502496765), (2158, 0.0), (2159, 0.01437014334599307), (2160, 0.0), (2161, 0.022599921378234605), (2162, 0.01889163108556721), (2163, 0.05921256622189133), (2164, 0.00672301510669671), (2165, 0.019909744853390164), (2166, 0.012500979672039168), (2167, 0.039321252607444096), (2168, 0.0), (2169, 0.05368617892901223), (2170, 0.014315951395891646), (2171, 0.0), (2172, 0.03414304334971861), (2173, 0.008742933895718214), (2174, 0.0), (2175, 0.01856058415915681), (2176, 0.022356082717708975), (2177, 0.009800909090481827), (2178, 0.007515207792234104), (2179, 0.010809548567287181), (2180, 0.009360396371073292), (2181, 0.007316454775857042), (2182, 0.010089404250505538), (2183, 0.01632580515576197), (2184, 0.033459870002300565), (2185, 0.024967363481950916), (2186, 0.0), (2187, 0.015985321228942823), (2188, 0.050690352579292275), (2189, 0.011661211297804048), (2190, 0.00896471137341984), (2191, 0.018054867903313707), (2192, 0.012227492622515062), (2193, 0.0), (2194, 0.0), (2195, 0.0), (2196, 0.0), (2197, 0.008413240590769193), (2198, 0.0), (2199, 0.0), (2200, 0.0), (2201, 0.0), (2202, 0.019924030582733204), (2203, 0.009748466916137385), (2204, 0.010145588959710142), (2205, 0.02177800648017033), (2206, 0.023128372260476572), (2207, 0.019873239566271052), (2208, 0.0), (2209, 0.020544829461370005), (2210, 0.0), (2211, 0.0), (2212, 0.0), (2213, 0.07006465663733555), (2214, 0.008535483678677428), (2215, 0.0), (2216, 0.0), (2217, 0.0), (2218, 0.008981411700015252), (2219, 0.009168541836402214), (2220, 0.01752591126951237), (2221, 0.0), (2222, 0.0), (2223, 0.02230094111799196), (2224, 0.0), (2225, 0.0), (2226, 0.04190893376663145), (2227, 0.0), (2228, 0.024237590971890904), (2229, 0.0), (2230, 0.0), (2231, 0.009237378374270567), (2232, 0.0), (2233, 0.0659723350327224), (2234, 0.02291656911526491), (2235, 0.0), (2236, 0.0), (2237, 0.019305751135690125), (2238, 0.01652026068950818), (2239, 0.008656929197641196), (2240, 0.011841959868023038), (2241, 0.0), (2242, 0.0), (2243, 0.0), (2244, 0.0), (2245, 0.008545617467359977), (2246, 0.0), (2247, 0.030190653350445646), (2248, 0.0), (2249, 0.021235354804021157), (2250, 0.06463432852588434), (2251, 0.0114109522841994), (2252, 0.0), (2253, 0.03598687069823263), (2254, 0.0), (2255, 0.01803567132211397), (2256, 0.013136549989506403), (2257, 0.0), (2258, 0.011101468982292346), (2259, 0.015054518374415508), (2260, 0.0), (2261, 0.008270245365480103), (2262, 0.027045784407893292), (2263, 0.010873050945316032), (2264, 0.0), (2265, 0.027311729689193216), (2266, 0.04799619735216052), (2267, 0.0850040522984989), (2268, 0.029022019568517063), (2269, 0.0330039005701421), (2270, 0.018920575088011267), (2271, 0.0), (2272, 0.02107703247202806), (2273, 0.0), (2274, 0.0), (2275, 0.0), (2276, 0.0), (2277, 0.0), (2278, 0.022174373415124175), (2279, 0.026926612276682797), (2280, 0.011609278399903665), (2281, 0.0352598416328014), (2282, 0.01929730332884282), (2283, 0.006851153347989551), (2284, 0.008428252435631223), (2285, 0.026745915707387328), (2286, 0.0), (2287, 0.0), (2288, 0.0), (2289, 0.0), (2290, 0.0142448464804863), (2291, 0.0), (2292, 0.01256757178972302), (2293, 0.0), (2294, 0.07883951091580808), (2295, 0.0), (2296, 0.02467929628961023), (2297, 0.040956575556814194), (2298, 0.008452827325072297), (2299, 0.0), (2300, 0.006736306057237031), (2301, 0.011446969095682654), (2302, 0.0274314933915727), (2303, 0.033288460926919984), (2304, 0.009053119278914041), (2305, 0.0), (2306, 0.008748800215318998), (2307, 0.012990155724811827), (2308, 0.0), (2309, 0.0), (2310, 0.007222855683625391), (2311, 0.0120224998147737), (2312, 0.020487968981399825), (2313, 0.013562320437155303), (2314, 0.03432782301823471), (2315, 0.0), (2316, 0.02305240195232786), (2317, 0.008878440682654636), (2318, 0.018127486622401778), (2319, 0.0), (2320, 0.0114638224347729), (2321, 0.0), (2322, 0.012585839119825753), (2323, 0.0), (2324, 0.010226962242898563), (2325, 0.010789077129879593), (2326, 0.054711379742179767), (2327, 0.00751115370690421), (2328, 0.016535070440197922), (2329, 0.018573375343466703), (2330, 0.03476394152058237), (2331, 0.0), (2332, 0.0), (2333, 0.037237874483942404), (2334, 0.046301615467016784), (2335, 0.0), (2336, 0.012062771034029824), (2337, 0.021343201472076006), (2338, 0.0), (2339, 0.015430927807735615), (2340, 0.0), (2341, 0.0), (2342, 0.01110411042767901), (2343, 0.06696246883085992), (2344, 0.0), (2345, 0.0), (2346, 0.06739408359956134), (2347, 0.0), (2348, 0.015005468861203157), (2349, 0.025197946058736435), (2350, 0.0), (2351, 0.03745204826676265), (2352, 0.019656242725319125), (2353, 0.0), (2354, 0.01068838675055496), (2355, 0.02383337339851885), (2356, 0.022186697170761847), (2357, 0.01206147810938206), (2358, 0.007257688687846402), (2359, 0.007907386280980849), (2360, 0.0), (2361, 0.009636437248645293), (2362, 0.011022580301050322), (2363, 0.017070497756670553), (2364, 0.07350870621777449), (2365, 0.011595733019697437), (2366, 0.09600495834154432), (2367, 0.013425420997622473), (2368, 0.0), (2369, 0.019810033566279178), (2370, 0.0), (2371, 0.043248938063316825), (2372, 0.017830651268098664), (2373, 0.008690596461996752), (2374, 0.0), (2375, 0.020942705932299032), (2376, 0.0), (2377, 0.010305453785687072), (2378, 0.010146148661022179), (2379, 0.0), (2380, 0.0), (2381, 0.0), (2382, 0.0), (2383, 0.0077051477489546135), (2384, 0.0), (2385, 0.0), (2386, 0.0165727936678878), (2387, 0.007267523814444145), (2388, 0.0), (2389, 0.023629697451213752), (2390, 0.02067345565794316), (2391, 0.0), (2392, 0.038629143659135154), (2393, 0.0), (2394, 0.013839286635815115), (2395, 0.0), (2396, 0.009310490449154258), (2397, 0.0), (2398, 0.0), (2399, 0.007263587705230334), (2400, 0.0), (2401, 0.0), (2402, 0.0), (2403, 0.011572155026378709), (2404, 0.01610582368432003), (2405, 0.02288240079680543), (2406, 0.0), (2407, 0.01875908226688586), (2408, 0.007773038489214328), (2409, 0.0), (2410, 0.011314172549033939), (2411, 0.0), (2412, 0.0), (2413, 0.0), (2414, 0.011431547563586438), (2415, 0.011205864498428081), (2416, 0.03965565132808524), (2417, 0.008829507320691866), (2418, 0.011812570990394657), (2419, 0.0), (2420, 0.0), (2421, 0.0), (2422, 0.0), (2423, 0.0), (2424, 0.0), (2425, 0.044171237876512226), (2426, 0.013596787788465138), (2427, 0.01051933222269598), (2428, 0.0), (2429, 0.02383625837291161), (2430, 0.0), (2431, 0.0), (2432, 0.008316932751698397), (2433, 0.016682485236102045), (2434, 0.008470685265599796), (2435, 0.0), (2436, 0.0), (2437, 0.020397684121938937), (2438, 0.04525356733579468), (2439, 0.018630293406098557), (2440, 0.0), (2441, 0.009013967780832272), (2442, 0.008656083225406227), (2443, 0.008410827288426011), (2444, 0.02044644328576597), (2445, 0.07544178201674145), (2446, 0.006546382166492654), (2447, 0.0), (2448, 0.01175183663324572), (2449, 0.048590724609742245), (2450, 0.0), (2451, 0.0), (2452, 0.0), (2453, 0.0), (2454, 0.0), (2455, 0.0), (2456, 0.0), (2457, 0.016116572107815027), (2458, 0.0), (2459, 0.007469132432561844), (2460, 0.014723104000243918), (2461, 0.01982856230954912), (2462, 0.0), (2463, 0.0), (2464, 0.009592529212836586), (2465, 0.010751428677729592), (2466, 0.03639305958197177), (2467, 0.0), (2468, 0.0), (2469, 0.045671281068331286), (2470, 0.013312210121257094), (2471, 0.0), (2472, 0.0), (2473, 0.008192315815276286), (2474, 0.01645561879035832), (2475, 0.0), (2476, 0.029108748014922223), (2477, 0.04644865163951935), (2478, 0.007552950542637497), (2479, 0.013785229649926484), (2480, 0.0), (2481, 0.0), (2482, 0.0), (2483, 0.015771417469514302), (2484, 0.0), (2485, 0.0), (2486, 0.0), (2487, 0.008479571373579188), (2488, 0.03595167278862402), (2489, 0.0), (2490, 0.020859533879361264), (2491, 0.019945458576651108), (2492, 0.008102903142580572), (2493, 0.03363349205039051), (2494, 0.012152937744483202), (2495, 0.0), (2496, 0.023634704419422625), (2497, 0.0), (2498, 0.0), (2499, 0.012057793050253035), (2500, 0.0), (2501, 0.017205943747337724), (2502, 0.0), (2503, 0.0), (2504, 0.0), (2505, 0.02292188925829977), (2506, 0.009784038416205848), (2507, 0.00925540662717836), (2508, 0.0), (2509, 0.0), (2510, 0.0), (2511, 0.05558209630748866), (2512, 0.024653401399562368), (2513, 0.0), (2514, 0.04878295881213668), (2515, 0.044426764886619306), (2516, 0.0), (2517, 0.025856863565605827), (2518, 0.01143477967693061), (2519, 0.0), (2520, 0.0), (2521, 0.01377331795854694), (2522, 0.0), (2523, 0.009695345785796351), (2524, 0.004757824946356053), (2525, 0.04101654835731503), (2526, 0.027369216285139837), (2527, 0.03869366528755984), (2528, 0.0), (2529, 0.01833768403029215), (2530, 0.023014267756795513), (2531, 0.011127809189122225), (2532, 0.0), (2533, 0.08324646237267729), (2534, 0.008000714425614052), (2535, 0.009389818563464696), (2536, 0.025974884145261196), (2537, 0.0), (2538, 0.01878114700078802), (2539, 0.011106573696963707), (2540, 0.035006714595834695), (2541, 0.02562911802845557), (2542, 0.006366734616264042), (2543, 0.012042235064944881), (2544, 0.040632263950298154), (2545, 0.04648101019853429), (2546, 0.0), (2547, 0.036866384479038), (2548, 0.0), (2549, 0.0), (2550, 0.023157326893430717), (2551, 0.00932436596343182), (2552, 0.008455662272222452), (2553, 0.017690319317753028), (2554, 0.0), (2555, 0.010366234948733401), (2556, 0.024856233074025312), (2557, 0.0), (2558, 0.0), (2559, 0.02474352331833729), (2560, 0.0), (2561, 0.02336798105524509), (2562, 0.032079846682253284), (2563, 0.008435069506215002), (2564, 0.022578771066052068), (2565, 0.05795510960448855), (2566, 0.0), (2567, 0.03575027765114049), (2568, 0.10737480711241786), (2569, 0.0), (2570, 0.0077927341472353116), (2571, 0.03503740171052461), (2572, 0.015154841664917216), (2573, 0.007361520690891396), (2574, 0.014259898460095911), (2575, 0.01127346189396697), (2576, 0.027331095354669734), (2577, 0.02513585587053002), (2578, 0.008083384862256538), (2579, 0.010002876088560632), (2580, 0.0), (2581, 0.012359996811663866), (2582, 0.0), (2583, 0.008768459780694708), (2584, 0.007939470392475164), (2585, 0.0), (2586, 0.029053425106181096), (2587, 0.0), (2588, 0.02837912279336828), (2589, 0.03850606859022507), (2590, 0.016251838827428207), (2591, 0.0), (2592, 0.03085232714593035), (2593, 0.0), (2594, 0.0), (2595, 0.0), (2596, 0.007092054784061461), (2597, 0.0), (2598, 0.012780004971830098), (2599, 0.0), (2600, 0.0), (2601, 0.029400463914568485), (2602, 0.0), (2603, 0.0), (2604, 0.04186267735198172), (2605, 0.008072423649825716), (2606, 0.012672325277044207), (2607, 0.0), (2608, 0.0), (2609, 0.010072626361820127), (2610, 0.011046045852719856), (2611, 0.022234977868621126), (2612, 0.0), (2613, 0.049098919691870836), (2614, 0.03058446312548397), (2615, 0.009077110112496914), (2616, 0.0), (2617, 0.01578851522559343), (2618, 0.03224310325143602), (2619, 0.009543550734397345), (2620, 0.0), (2621, 0.025501494462816132), (2622, 0.0), (2623, 0.00688535684099007), (2624, 0.0), (2625, 0.0), (2626, 0.006870371340146258), (2627, 0.023514806779295253), (2628, 0.010473865832869063), (2629, 0.0), (2630, 0.0), (2631, 0.013851967944636787), (2632, 0.0), (2633, 0.03145545526464998), (2634, 0.01741975463022802), (2635, 0.022466040431807405), (2636, 0.0), (2637, 0.009305655259273245), (2638, 0.0), (2639, 0.010737068975466947), (2640, 0.008522775692454208), (2641, 0.0), (2642, 0.0), (2643, 0.0), (2644, 0.008112082456952129), (2645, 0.03142071849228459), (2646, 0.0), (2647, 0.0), (2648, 0.0), (2649, 0.0), (2650, 0.013656996131734593), (2651, 0.011645418768465646), (2652, 0.013927922783980813), (2653, 0.03668134813646089), (2654, 0.0), (2655, 0.02253823582490508), (2656, 0.0), (2657, 0.02021434810643277), (2658, 0.0), (2659, 0.017442226278384283), (2660, 0.0), (2661, 0.0), (2662, 0.0), (2663, 0.01354624916803549), (2664, 0.0), (2665, 0.0), (2666, 0.0), (2667, 0.01590078709354871), (2668, 0.0), (2669, 0.007353431879725968), (2670, 0.0), (2671, 0.023518875829321186), (2672, 0.0), (2673, 0.0), (2674, 0.006778619697948286), (2675, 0.007769686766327014), (2676, 0.009913512342656017), (2677, 0.0), (2678, 0.01678203278317873), (2679, 0.03498636329756072), (2680, 0.0), (2681, 0.03690507619032845), (2682, 0.00856577085331178), (2683, 0.007978877640261521), (2684, 0.008896253421825642), (2685, 0.011163659733357364), (2686, 0.04579551161729884), (2687, 0.03382408453682639), (2688, 0.020775458792274836), (2689, 0.0), (2690, 0.0177684226597411), (2691, 0.009007379219924477), (2692, 0.026251979098501067), (2693, 0.0), (2694, 0.023197289884366763), (2695, 0.0), (2696, 0.01212217026915792), (2697, 0.0), (2698, 0.0), (2699, 0.0), (2700, 0.0), (2701, 0.0), (2702, 0.0), (2703, 0.007144100952460991), (2704, 0.0), (2705, 0.0), (2706, 0.0), (2707, 0.0), (2708, 0.028302073273436146), (2709, 0.0), (2710, 0.0), (2711, 0.0), (2712, 0.0), (2713, 0.012242598100127039), (2714, 0.0), (2715, 0.0), (2716, 0.009506386932629939), (2717, 0.017951124004080256), (2718, 0.022950282714220165), (2719, 0.0), (2720, 0.008361937492933857), (2721, 0.009822140746170965), (2722, 0.01796563914674107), (2723, 0.0), (2724, 0.0), (2725, 0.0), (2726, 0.015493165124208648), (2727, 0.0), (2728, 0.0), (2729, 0.008927986935552195), (2730, 0.006921145329112736), (2731, 0.015772449585803216), (2732, 0.009062997065431703), (2733, 0.024110736487823515), (2734, 0.0), (2735, 0.0), (2736, 0.00726076147418264), (2737, 0.007882028693418119), (2738, 0.010960472014332225), (2739, 0.03312734537590201), (2740, 0.03235343783225581), (2741, 0.0), (2742, 0.0), (2743, 0.0), (2744, 0.009461507593259894), (2745, 0.038174029208096476), (2746, 0.007772829629096925), (2747, 0.03806823809862963), (2748, 0.009889295070307927), (2749, 0.0), (2750, 0.0), (2751, 0.0), (2752, 0.0), (2753, 0.04827438308541213), (2754, 0.0), (2755, 0.0174985855811403), (2756, 0.007256163529689382), (2757, 0.01834024188412542), (2758, 0.017575926776249196), (2759, 0.009837535803289506), (2760, 0.0), (2761, 0.0), (2762, 0.0), (2763, 0.00932029675972237), (2764, 0.0), (2765, 0.0), (2766, 0.01575026839977947), (2767, 0.0), (2768, 0.0), (2769, 0.0), (2770, 0.0), (2771, 0.012183682286194668), (2772, 0.026235797415585675), (2773, 0.006946691688482806), (2774, 0.0), (2775, 0.009789855661877773), (2776, 0.07609429293942414), (2777, 0.0), (2778, 0.0), (2779, 0.013300414496518543), (2780, 0.0161431654926777), (2781, 0.0), (2782, 0.004899774684245118), (2783, 0.00974146950094314), (2784, 0.0), (2785, 0.038598923495360746), (2786, 0.0), (2787, 0.013888818877809725), (2788, 0.012818518007111238), (2789, 0.012241914142485136), (2790, 0.01786388155158687), (2791, 0.008099196276050337), (2792, 0.0), (2793, 0.033920787580647024), (2794, 0.009866454897333413), (2795, 0.0072557922171627345), (2796, 0.007250551464554771), (2797, 0.0), (2798, 0.04381774007799031), (2799, 0.012513991660808873), (2800, 0.024804855421903346), (2801, 0.008990124937656758), (2802, 0.027339758799048146), (2803, 0.0071110496182744546), (2804, 0.0), (2805, 0.03254735877139356), (2806, 0.00638736592278987), (2807, 0.01843839342834018), (2808, 0.0), (2809, 0.00859006835904503), (2810, 0.03364645614156361), (2811, 0.008253525195808539), (2812, 0.01891397945934556), (2813, 0.011839473668694377), (2814, 0.0), (2815, 0.022092471427665294), (2816, 0.016150638487797294), (2817, 0.0), (2818, 0.0), (2819, 0.0), (2820, 0.024221651984050917), (2821, 0.0), (2822, 0.016165885320101044), (2823, 0.008983725111292256), (2824, 0.03260537785217038), (2825, 0.02238632441804071), (2826, 0.06815378031728048), (2827, 0.01764713723576592), (2828, 0.0488472836817679), (2829, 0.011317261131921975), (2830, 0.00978373162818174), (2831, 0.0), (2832, 0.010581545477431124), (2833, 0.011871408050754652), (2834, 0.0), (2835, 0.034586068532710436), (2836, 0.00804540218048802), (2837, 0.0), (2838, 0.0), (2839, 0.0), (2840, 0.0), (2841, 0.0), (2842, 0.011992429393537708), (2843, 0.0), (2844, 0.0), (2845, 0.0), (2846, 0.060673728841544136), (2847, 0.023390899574182618), (2848, 0.01173725252682757), (2849, 0.007277635637566822), (2850, 0.0), (2851, 0.026306823963937454), (2852, 0.035998039355886545), (2853, 0.0), (2854, 0.0), (2855, 0.0), (2856, 0.0), (2857, 0.00951955377402168), (2858, 0.011934949496791254), (2859, 0.01907114755246089), (2860, 0.006988281164674653), (2861, 0.050843716617785556), (2862, 0.0), (2863, 0.00789155896394139), (2864, 0.0), (2865, 0.0), (2866, 0.0), (2867, 0.033603110554350044), (2868, 0.0), (2869, 0.014521604927157277), (2870, 0.0), (2871, 0.008105002881847944), (2872, 0.00920439287224726), (2873, 0.0), (2874, 0.0), (2875, 0.009890315760686939), (2876, 0.055610167732637224), (2877, 0.0), (2878, 0.009455428728016219), (2879, 0.01334511355282533), (2880, 0.008434768134721158), (2881, 0.0), (2882, 0.0), (2883, 0.0), (2884, 0.010073858228901006), (2885, 0.014697464901601039), (2886, 0.02440308128206526), (2887, 0.0), (2888, 0.0), (2889, 0.010654108381591337), (2890, 0.0), (2891, 0.0), (2892, 0.0), (2893, 0.0), (2894, 0.0), (2895, 0.0), (2896, 0.0), (2897, 0.013358136042070805), (2898, 0.0), (2899, 0.056032625476542676), (2900, 0.0), (2901, 0.03881998548720847), (2902, 0.045896723245006474), (2903, 0.0), (2904, 0.0), (2905, 0.0), (2906, 0.022489298376786582), (2907, 0.01064672022808041), (2908, 0.0), (2909, 0.0), (2910, 0.0), (2911, 0.015306196048746275), (2912, 0.007224385230671699), (2913, 0.0), (2914, 0.03061339954936833), (2915, 0.008220840884180958), (2916, 0.04629078430726018), (2917, 0.012327517408902354), (2918, 0.0), (2919, 0.0), (2920, 0.0), (2921, 0.010406855865826648), (2922, 0.029029954722215104), (2923, 0.0452812145037587), (2924, 0.0), (2925, 0.01991261595696907), (2926, 0.010507264971380778), (2927, 0.007762967631045003), (2928, 0.0), (2929, 0.0), (2930, 0.008275142918012348), (2931, 0.0), (2932, 0.0), (2933, 0.017382528490868087), (2934, 0.0), (2935, 0.0), (2936, 0.0), (2937, 0.011027446739265095), (2938, 0.0), (2939, 0.08795268431174355), (2940, 0.007593733107331885), (2941, 0.008675497083630102), (2942, 0.0), (2943, 0.0), (2944, 0.04470716631918573), (2945, 0.0), (2946, 0.008625016224225252), (2947, 0.023838947740139674), (2948, 0.0), (2949, 0.009694881672565476), (2950, 0.008885540152202396), (2951, 0.0), (2952, 0.026717516285191836), (2953, 0.013481942342467409), (2954, 0.0), (2955, 0.0), (2956, 0.0), (2957, 0.0), (2958, 0.012100308819857906), (2959, 0.0), (2960, 0.0075006707580866075), (2961, 0.007950943393572402), (2962, 0.0), (2963, 0.04943884108585962), (2964, 0.0), (2965, 0.015141358977297521), (2966, 0.047259454292770564), (2967, 0.025963142695367727), (2968, 0.0), (2969, 0.01771371100913986), (2970, 0.0), (2971, 0.006939377202765713), (2972, 0.0), (2973, 0.00948782488108246), (2974, 0.007585122601152864), (2975, 0.0), (2976, 0.0), (2977, 0.0), (2978, 0.007709134243599111), (2979, 0.02434593396983089), (2980, 0.0), (2981, 0.0), (2982, 0.0), (2983, 0.009625989968448457), (2984, 0.0), (2985, 0.015004312168711988), (2986, 0.0), (2987, 0.00751131266748459), (2988, 0.0), (2989, 0.015440822610796871), (2990, 0.0), (2991, 0.007099852184299077), (2992, 0.008675568433081936), (2993, 0.016510289978332038), (2994, 0.031129175171197097), (2995, 0.008067450994655797), (2996, 0.00787350089557545), (2997, 0.04046304450371425), (2998, 0.0), (2999, 0.0), (3000, 0.0), (3001, 0.02364860516307985), (3002, 0.0), (3003, 0.010176244382236068), (3004, 0.02118073531947571), (3005, 0.009536796126765255), (3006, 0.024075757287527075), (3007, 0.0), (3008, 0.0), (3009, 0.0), (3010, 0.006542978136849984), (3011, 0.0), (3012, 0.012520408138169884), (3013, 0.07675378058706245), (3014, 0.02571020354555021), (3015, 0.022581844215759782), (3016, 0.0), (3017, 0.010752733074021366), (3018, 0.006759256130707454), (3019, 0.0), (3020, 0.010752205601262797), (3021, 0.0), (3022, 0.013563359816953311), (3023, 0.021945361626716203), (3024, 0.039144914919739704), (3025, 0.0), (3026, 0.008035553744116799), (3027, 0.009114616907298083), (3028, 0.0), (3029, 0.023941111937361405), (3030, 0.010128968967121735), (3031, 0.01568875120165254), (3032, 0.009419874375410732), (3033, 0.0), (3034, 0.0), (3035, 0.014686937906115482), (3036, 0.0), (3037, 0.01806277638267525), (3038, 0.009427925040496997), (3039, 0.0), (3040, 0.0), (3041, 0.0), (3042, 0.0), (3043, 0.010426571653932914), (3044, 0.024139932816502747), (3045, 0.01213615608846654), (3046, 0.009212315790801933), (3047, 0.0), (3048, 0.0), (3049, 0.032126938477195305), (3050, 0.0), (3051, 0.009415921224637627), (3052, 0.0), (3053, 0.02659203019722356), (3054, 0.007658542332952438), (3055, 0.00850154977302874), (3056, 0.016191770457775298), (3057, 0.0), (3058, 0.03269795661859486), (3059, 0.030038721626375497), (3060, 0.0), (3061, 0.012819592588346957), (3062, 0.0), (3063, 0.0), (3064, 0.011402043550971947), (3065, 0.017314252733746385), (3066, 0.0093879495538518), (3067, 0.012076146107769312), (3068, 0.015004781506355907), (3069, 0.0), (3070, 0.0), (3071, 0.0), (3072, 0.0), (3073, 0.007484612886237621), (3074, 0.0), (3075, 0.010323801725669676), (3076, 0.0), (3077, 0.0), (3078, 0.0), (3079, 0.017389832296971733), (3080, 0.015123896983226158), (3081, 0.0), (3082, 0.015080280877982528), (3083, 0.0), (3084, 0.0), (3085, 0.0118557605097896), (3086, 0.017540477733027957), (3087, 0.026262086061865846), (3088, 0.023637004696097568), (3089, 0.0), (3090, 0.0), (3091, 0.0), (3092, 0.012706754569432484), (3093, 0.0), (3094, 0.0), (3095, 0.011542347618107206), (3096, 0.0), (3097, 0.009126305583978294), (3098, 0.008582835882553347), (3099, 0.0), (3100, 0.0), (3101, 0.0), (3102, 0.0), (3103, 0.0), (3104, 0.0), (3105, 0.0), (3106, 0.059422787729482576), (3107, 0.0), (3108, 0.0), (3109, 0.0), (3110, 0.0), (3111, 0.01932684169706692), (3112, 0.0100962133617235), (3113, 0.0), (3114, 0.023940253199196834), (3115, 0.0), (3116, 0.0131733808096585), (3117, 0.0), (3118, 0.013360743126962083), (3119, 0.012285140666279682), (3120, 0.0), (3121, 0.0), (3122, 0.0), (3123, 0.007544846942308242), (3124, 0.0), (3125, 0.09535031034376198), (3126, 0.013152701663216323), (3127, 0.0), (3128, 0.019237935875276287), (3129, 0.019943390856596965), (3130, 0.0), (3131, 0.0), (3132, 0.0), (3133, 0.0), (3134, 0.0), (3135, 0.0), (3136, 0.014612981156875211), (3137, 0.03471787371851143), (3138, 0.0), (3139, 0.0), (3140, 0.0), (3141, 0.0), (3142, 0.0), (3143, 0.006434320648839236), (3144, 0.03386036153243785), (3145, 0.01141137256528175), (3146, 0.016657991316027253), (3147, 0.0), (3148, 0.007422102333701723), (3149, 0.0), (3150, 0.0), (3151, 0.010141857901075541), (3152, 0.0), (3153, 0.013137192290260226), (3154, 0.0), (3155, 0.006874405695917568), (3156, 0.009362630931849558), (3157, 0.0), (3158, 0.015596028639645541), (3159, 0.007694418478260301), (3160, 0.010132253283265079), (3161, 0.0), (3162, 0.006594259574189216), (3163, 0.027114733070890806), (3164, 0.0), (3165, 0.0), (3166, 0.0), (3167, 0.01828193820450503), (3168, 0.021073628907625316), (3169, 0.0), (3170, 0.015810539066099943), (3171, 0.01967705291638379), (3172, 0.0), (3173, 0.017489175296532527), (3174, 0.0), (3175, 0.0), (3176, 0.02556442816270929), (3177, 0.014052209551453063), (3178, 0.0), (3179, 0.0), (3180, 0.0), (3181, 0.0), (3182, 0.01106435564344089), (3183, 0.021993897004052514), (3184, 0.018180083262244576), (3185, 0.0), (3186, 0.014500612926082776), (3187, 0.041133422870577974), (3188, 0.0), (3189, 0.0), (3190, 0.010438628111051269), (3191, 0.0), (3192, 0.0), (3193, 0.0), (3194, 0.0), (3195, 0.00785716948510913), (3196, 0.009651538687774536), (3197, 0.0), (3198, 0.0), (3199, 0.02449286045933078), (3200, 0.0), (3201, 0.012976301117184784), (3202, 0.05015642988566049), (3203, 0.008841872261198197), (3204, 0.0), (3205, 0.006257884954491344), (3206, 0.0), (3207, 0.0), (3208, 0.04049778349044477), (3209, 0.00945688765186354), (3210, 0.0), (3211, 0.0), (3212, 0.011012163347514198), (3213, 0.01485091355258916), (3214, 0.011187131898113118), (3215, 0.015770971710117095), (3216, 0.0), (3217, 0.0), (3218, 0.04009228914541985), (3219, 0.0), (3220, 0.030160325654768227), (3221, 0.0), (3222, 0.0), (3223, 0.0), (3224, 0.010330776266038472), (3225, 0.02562929792447756), (3226, 0.0), (3227, 0.006728884013142977), (3228, 0.0), (3229, 0.0129653540130959), (3230, 0.0), (3231, 0.0066594052565691906), (3232, 0.0), (3233, 0.017747586262981556), (3234, 0.0), (3235, 0.0), (3236, 0.00954028417206493), (3237, 0.029423665949066417), (3238, 0.026792502749992203), (3239, 0.02315255762347193), (3240, 0.022949506101073974), (3241, 0.0), (3242, 0.0), (3243, 0.0), (3244, 0.0), (3245, 0.0), (3246, 0.0111996373513031), (3247, 0.026940984015429027), (3248, 0.0), (3249, 0.006325326723475925), (3250, 0.010154537880003528), (3251, 0.0065903710636275445), (3252, 0.0236113342204394), (3253, 0.03241063757982414), (3254, 0.0), (3255, 0.0), (3256, 0.0), (3257, 0.030231401688629523), (3258, 0.0), (3259, 0.0), (3260, 0.0), (3261, 0.0), (3262, 0.0), (3263, 0.07401138913108395), (3264, 0.0), (3265, 0.0), (3266, 0.04951615006753591), (3267, 0.024670103133827878), (3268, 0.0), (3269, 0.0), (3270, 0.03930416237177694), (3271, 0.04440236961655568), (3272, 0.0), (3273, 0.0070213231198204135), (3274, 0.006878914367486912), (3275, 0.010027542082553326), (3276, 0.035171527414484274), (3277, 0.0), (3278, 0.008954640111234488), (3279, 0.0), (3280, 0.018711136679541523), (3281, 0.020268261226570786), (3282, 0.0), (3283, 0.02389351847210676), (3284, 0.04312462665168586), (3285, 0.07274128639951943), (3286, 0.0), (3287, 0.01542119898012142), (3288, 0.036054079015453), (3289, 0.0), (3290, 0.13273955684096359), (3291, 0.017246551722181574), (3292, 0.021400040624189445), (3293, 0.019117296537046403), (3294, 0.011192705912985785), (3295, 0.0), (3296, 0.0), (3297, 0.01874990897342845), (3298, 0.0), (3299, 0.0), (3300, 0.0), (3301, 0.0), (3302, 0.0), (3303, 0.0), (3304, 0.0), (3305, 0.018722606430364813), (3306, 0.01227470789743737), (3307, 0.006868062518668452), (3308, 0.02228821281269219), (3309, 0.0), (3310, 0.013553418611201004), (3311, 0.0), (3312, 0.0), (3313, 0.007708634652209003), (3314, 0.0), (3315, 0.0), (3316, 0.0), (3317, 0.0), (3318, 0.008243114348136009), (3319, 0.010373553132310281), (3320, 0.0), (3321, 0.0), (3322, 0.008059868994328232), (3323, 0.009244664855957808), (3324, 0.0), (3325, 0.0), (3326, 0.0), (3327, 0.015423206818287212), (3328, 0.0), (3329, 0.03148331426980769), (3330, 0.0), (3331, 0.0), (3332, 0.03961147203005707), (3333, 0.02161704962619897), (3334, 0.010174935327013971), (3335, 0.0), (3336, 0.00807603994329617), (3337, 0.008106683339336717), (3338, 0.01014218528817406), (3339, 0.0), (3340, 0.0), (3341, 0.0), (3342, 0.07095048589369979), (3343, 0.008292192136350195), (3344, 0.020808833892357475), (3345, 0.00796113015086883), (3346, 0.00856511924704897), (3347, 0.011907147321604661), (3348, 0.0), (3349, 0.0), (3350, 0.025052788475528925), (3351, 0.007448904526458874), (3352, 0.017253070435455983), (3353, 0.007787047275714061), (3354, 0.01321975878971252), (3355, 0.0), (3356, 0.02192151664924764), (3357, 0.0), (3358, 0.006835452886494809), (3359, 0.015182053218102549), (3360, 0.0), (3361, 0.0), (3362, 0.04878532151340918), (3363, 0.0), (3364, 0.08991531144031988), (3365, 0.0), (3366, 0.029380698291966805), (3367, 0.014033552948800949), (3368, 0.01123844866261193), (3369, 0.019934334951952553), (3370, 0.03824098999759279), (3371, 0.013544752267431938), (3372, 0.010373635490331209), (3373, 0.022223484280024457), (3374, 0.0075618698906743205), (3375, 0.011571181158742939), (3376, 0.008669715103240582), (3377, 0.012973321145349893), (3378, 0.0), (3379, 0.0), (3380, 0.0), (3381, 0.009403252949081842), (3382, 0.06090040595563268), (3383, 0.016754063578362604), (3384, 0.0), (3385, 0.008753939150984031), (3386, 0.009996730446444587), (3387, 0.0), (3388, 0.03734303663694324), (3389, 0.0), (3390, 0.019321622548017912), (3391, 0.0), (3392, 0.010947675562553586), (3393, 0.023012160804872457), (3394, 0.020880058665138437), (3395, 0.0), (3396, 0.0), (3397, 0.0), (3398, 0.05190421896076188), (3399, 0.020795053459494235), (3400, 0.025944580815326936), (3401, 0.0), (3402, 0.011272404531314761), (3403, 0.02089587913031273), (3404, 0.010554868273767027), (3405, 0.016125586896931804), (3406, 0.03501733386181959), (3407, 0.010053649352756369), (3408, 0.0), (3409, 0.009388128691494984), (3410, 0.0), (3411, 0.0), (3412, 0.0), (3413, 0.0), (3414, 0.006943989046715976), (3415, 0.0), (3416, 0.0), (3417, 0.0062149368492861595), (3418, 0.0), (3419, 0.0), (3420, 0.0), (3421, 0.0), (3422, 0.0), (3423, 0.011245454113643407), (3424, 0.02227292852166664), (3425, 0.00794882714103115), (3426, 0.0), (3427, 0.01627586460934178), (3428, 0.0), (3429, 0.027758304944813236), (3430, 0.011464047222825697), (3431, 0.04754392381967384), (3432, 0.0), (3433, 0.0), (3434, 0.020843343151788082), (3435, 0.0), (3436, 0.008327987751390018), (3437, 0.01092629078158235), (3438, 0.0), (3439, 0.011654119000802857), (3440, 0.026637698005602638), (3441, 0.024354698728730414), (3442, 0.0), (3443, 0.0), (3444, 0.0), (3445, 0.025511077494461), (3446, 0.01977959831376992), (3447, 0.00801152034756528), (3448, 0.033902653613593535), (3449, 0.00885094450876777), (3450, 0.013650844709699482), (3451, 0.009941264564415494), (3452, 0.0), (3453, 0.0), (3454, 0.0), (3455, 0.011143337441908645), (3456, 0.0), (3457, 0.0), (3458, 0.0), (3459, 0.009910348906525519), (3460, 0.0), (3461, 0.0), (3462, 0.008761952423457566), (3463, 0.0), (3464, 0.011018920364172761), (3465, 0.0), (3466, 0.02153609878537418), (3467, 0.011092772774189345), (3468, 0.0), (3469, 0.010397028449346545), (3470, 0.0), (3471, 0.0), (3472, 0.025331398142577066), (3473, 0.0), (3474, 0.0), (3475, 0.0), (3476, 0.05225925745776117), (3477, 0.009258520218313415), (3478, 0.0), (3479, 0.01986636673995607), (3480, 0.04084518684111288), (3481, 0.017967120098740092), (3482, 0.008740470902691927), (3483, 0.027980753451924384), (3484, 0.0), (3485, 0.0), (3486, 0.0), (3487, 0.0), (3488, 0.015008346376156473), (3489, 0.0), (3490, 0.006557319170574754), (3491, 0.01028764626035253), (3492, 0.015056915026806875), (3493, 0.0), (3494, 0.02076916382970781), (3495, 0.0186041731222384), (3496, 0.0), (3497, 0.0), (3498, 0.0), (3499, 0.0), (3500, 0.0), (3501, 0.016158312699884454), (3502, 0.0), (3503, 0.0), (3504, 0.0), (3505, 0.0), (3506, 0.05851784523918645), (3507, 0.0), (3508, 0.016706129665371786), (3509, 0.0), (3510, 0.08301041558059037), (3511, 0.010842701248490261), (3512, 0.0), (3513, 0.0), (3514, 0.0), (3515, 0.010721397176418054), (3516, 0.00731401052578287), (3517, 0.0), (3518, 0.0), (3519, 0.0), (3520, 0.0), (3521, 0.0), (3522, 0.03640748593519746), (3523, 0.0), (3524, 0.0), (3525, 0.009330091478878956), (3526, 0.0), (3527, 0.005928181313732946), (3528, 0.0), (3529, 0.023394119626226017), (3530, 0.0), (3531, 0.0), (3532, 0.022966502131921175), (3533, 0.009238452761575219), (3534, 0.0), (3535, 0.0), (3536, 0.01015286045341798), (3537, 0.0), (3538, 0.006645945198124892), (3539, 0.0), (3540, 0.0), (3541, 0.0), (3542, 0.0), (3543, 0.006614983490345953), (3544, 0.016179829089605777), (3545, 0.0), (3546, 0.010576435398592035), (3547, 0.0), (3548, 0.006779779664462359), (3549, 0.011982230942135123), (3550, 0.023184215034032868), (3551, 0.0), (3552, 0.021079308237014822), (3553, 0.0), (3554, 0.010225424982231697), (3555, 0.0), (3556, 0.0), (3557, 0.0), (3558, 0.06005426796634256), (3559, 0.0426694405353623), (3560, 0.007077150833827856), (3561, 0.0), (3562, 0.02213421616127569), (3563, 0.0), (3564, 0.0), (3565, 0.0), (3566, 0.0), (3567, 0.00820406812869612), (3568, 0.01617363689602226), (3569, 0.009028043350769887), (3570, 0.010573441024048847), (3571, 0.0), (3572, 0.014138097522029599), (3573, 0.0), (3574, 0.0), (3575, 0.0), (3576, 0.0067272158282088695), (3577, 0.0), (3578, 0.0), (3579, 0.028504444177011284), (3580, 0.00995836128967962), (3581, 0.0), (3582, 0.00801681307944196), (3583, 0.0095811274256269), (3584, 0.0074680034459830595), (3585, 0.0), (3586, 0.0), (3587, 0.0), (3588, 0.03377210816402846), (3589, 0.0), (3590, 0.024917413627285105), (3591, 0.0077111154710367905), (3592, 0.023476293030284912), (3593, 0.019662853988624898), (3594, 0.03302577865556243), (3595, 0.0097064103517574), (3596, 0.0028420205592442384), (3597, 0.0), (3598, 0.0), (3599, 0.12030840676604637), (3600, 0.010782037452611026), (3601, 0.016193251693371657), (3602, 0.021311261034715926), (3603, 0.010848761970458006), (3604, 0.00887042180139483), (3605, 0.0), (3606, 0.0), (3607, 0.03400280055495035), (3608, 0.011779194545650951), (3609, 0.01083450328055136), (3610, 0.0), (3611, 0.0), (3612, 0.008127080258199623), (3613, 0.03035658195804337), (3614, 0.009050941812518634), (3615, 0.0), (3616, 0.026089186665602636), (3617, 0.0075841658236833), (3618, 0.00960411714313328), (3619, 0.02304566214863284), (3620, 0.017839228822465254), (3621, 0.0), (3622, 0.006067130835692488), (3623, 0.0), (3624, 0.0), (3625, 0.0), (3626, 0.02266971844039315), (3627, 0.016571433781228145), (3628, 0.01756661838346017), (3629, 0.007768030424190085), (3630, 0.00973529665068634), (3631, 0.01159330476346268), (3632, 0.013322848234674793), (3633, 0.0), (3634, 0.0), (3635, 0.009750432587398607), (3636, 0.011551976708567094), (3637, 0.02719233799625225), (3638, 0.008691008507366347), (3639, 0.0), (3640, 0.0), (3641, 0.0), (3642, 0.0), (3643, 0.0), (3644, 0.0), (3645, 0.0), (3646, 0.0), (3647, 0.014959060901562236), (3648, 0.0), (3649, 0.0), (3650, 0.009082895041606564), (3651, 0.0), (3652, 0.0), (3653, 0.0), (3654, 0.0), (3655, 0.0), (3656, 0.0), (3657, 0.0), (3658, 0.0), (3659, 0.01390484770670255), (3660, 0.0), (3661, 0.0), (3662, 0.0), (3663, 0.009758703380417942), (3664, 0.0), (3665, 0.0), (3666, 0.0), (3667, 0.011108204528920338), (3668, 0.0), (3669, 0.012596196611319365), (3670, 0.10048668644970972), (3671, 0.012700531531498112), (3672, 0.01105361966501586), (3673, 0.0), (3674, 0.0), (3675, 0.0), (3676, 0.0), (3677, 0.0), (3678, 0.010488467926273386), (3679, 0.021458847093542014), (3680, 0.02227367381435531), (3681, 0.10934565798794098), (3682, 0.0), (3683, 0.008064358496402942), (3684, 0.015411560665060532), (3685, 0.01603064087788323), (3686, 0.0), (3687, 0.0), (3688, 0.017898292484658566), (3689, 0.0), (3690, 0.0), (3691, 0.006172653752707211), (3692, 0.01849533160475181), (3693, 0.007977085191820528), (3694, 0.0), (3695, 0.015104907493823285), (3696, 0.0), (3697, 0.0180520526007208), (3698, 0.022531843738416643), (3699, 0.0), (3700, 0.0), (3701, 0.0), (3702, 0.0), (3703, 0.0), (3704, 0.022383741811365612), (3705, 0.0), (3706, 0.06038719652569717), (3707, 0.0), (3708, 0.0), (3709, 0.0), (3710, 0.05932920508399112), (3711, 0.0), (3712, 0.011543221762074531), (3713, 0.022659880038019414), (3714, 0.0), (3715, 0.031101796110488578), (3716, 0.0), (3717, 0.0), (3718, 0.0), (3719, 0.0), (3720, 0.0), (3721, 0.0), (3722, 0.0), (3723, 0.010537504293936437), (3724, 0.02039784956962759), (3725, 0.0), (3726, 0.017723241092801798), (3727, 0.027650187668233888), (3728, 0.024346512226960285), (3729, 0.010527734453374061), (3730, 0.009831560121525952), (3731, 0.07334758857590121), (3732, 0.0), (3733, 0.03948847088383541), (3734, 0.008271261733011074), (3735, 0.0), (3736, 0.0), (3737, 0.007687826889973182), (3738, 0.0), (3739, 0.0), (3740, 0.0), (3741, 0.014847600819770582), (3742, 0.0), (3743, 0.0), (3744, 0.047181191240248305), (3745, 0.014716073690422623), (3746, 0.0), (3747, 0.0), (3748, 0.008090170050929586), (3749, 0.01225360060598275), (3750, 0.014590886281491208), (3751, 0.0), (3752, 0.0), (3753, 0.0082428257789573), (3754, 0.0), (3755, 0.0), (3756, 0.0), (3757, 0.0), (3758, 0.0), (3759, 0.0), (3760, 0.0), (3761, 0.014732579291529161), (3762, 0.02054888256138243), (3763, 0.0), (3764, 0.006532336821179302), (3765, 0.020838225329832073), (3766, 0.03025949722173492), (3767, 0.0), (3768, 0.0), (3769, 0.0), (3770, 0.009583816480352562), (3771, 0.0), (3772, 0.0), (3773, 0.0), (3774, 0.024783201799982932), (3775, 0.03816922000409575), (3776, 0.0), (3777, 0.036721114283023375), (3778, 0.04314732997898357), (3779, 0.0), (3780, 0.010045397860024738), (3781, 0.0), (3782, 0.015272119530672954), (3783, 0.013482844215693889), (3784, 0.0), (3785, 0.01777664125743645), (3786, 0.0), (3787, 0.012486086799306054), (3788, 0.0), (3789, 0.021232066728094474), (3790, 0.0), (3791, 0.00888483296327276), (3792, 0.0), (3793, 0.0), (3794, 0.0), (3795, 0.0), (3796, 0.0), (3797, 0.0), (3798, 0.01169715141955143), (3799, 0.008393672587027884), (3800, 0.027452174774248918), (3801, 0.0), (3802, 0.0), (3803, 0.0), (3804, 0.0), (3805, 0.0), (3806, 0.0), (3807, 0.025929117038030015), (3808, 0.0), (3809, 0.0), (3810, 0.010611766962225336), (3811, 0.0), (3812, 0.007627727823306758), (3813, 0.016388248631212663), (3814, 0.014531859005697423), (3815, 0.02101898596700456), (3816, 0.0), (3817, 0.0), (3818, 0.0), (3819, 0.0), (3820, 0.0), (3821, 0.0), (3822, 0.0), (3823, 0.0), (3824, 0.016992847944763554), (3825, 0.0), (3826, 0.08377463447415313), (3827, 0.01711607250813009), (3828, 0.0), (3829, 0.04400159283604284), (3830, 0.013662877388494461), (3831, 0.0), (3832, 0.007040467916022771), (3833, 0.0), (3834, 0.0), (3835, 0.03307601157180187), (3836, 0.04994235436325975), (3837, 0.017057694338211783), (3838, 0.014992957396635101), (3839, 0.0), (3840, 0.007924844080579736), (3841, 0.011181527290564519), (3842, 0.0), (3843, 0.0), (3844, 0.006768233666168395), (3845, 0.017733318670740062), (3846, 0.011858704106682076), (3847, 0.0), (3848, 0.0), (3849, 0.0), (3850, 0.0), (3851, 0.009894161564836704), (3852, 0.0), (3853, 0.0), (3854, 0.020085390442803053), (3855, 0.010789956925059683), (3856, 0.021205436385791625), (3857, 0.0), (3858, 0.043660106233319534), (3859, 0.009570635948694005), (3860, 0.014446861867653352), (3861, 0.008720093919880673), (3862, 0.0), (3863, 0.037464602106602816), (3864, 0.007693125175247507), (3865, 0.0), (3866, 0.0), (3867, 0.0), (3868, 0.0512571290046225), (3869, 0.0), (3870, 0.0), (3871, 0.008379835006244923), (3872, 0.0), (3873, 0.01899233818857582), (3874, 0.014332997115751294), (3875, 0.04760488378194104), (3876, 0.013976805615143315), (3877, 0.0), (3878, 0.006457360763607644), (3879, 0.0), (3880, 0.0), (3881, 0.01636146664840459), (3882, 0.0), (3883, 0.016047143314634773), (3884, 0.006487109833059672), (3885, 0.0), (3886, 0.021016402519461054), (3887, 0.0), (3888, 0.0), (3889, 0.010693194009178683), (3890, 0.012224158118122377), (3891, 0.020494551935802872), (3892, 0.0), (3893, 0.0), (3894, 0.0), (3895, 0.0), (3896, 0.0), (3897, 0.0), (3898, 0.0), (3899, 0.02888450543783256), (3900, 0.017432619834326847), (3901, 0.05054042839975019), (3902, 0.04563506572631709), (3903, 0.028361251324006714), (3904, 0.010477359578362905), (3905, 0.009396276763724105), (3906, 0.0), (3907, 0.011707617081581821), (3908, 0.0), (3909, 0.0), (3910, 0.009766458025712788), (3911, 0.013137140170209416), (3912, 0.0), (3913, 0.0), (3914, 0.0), (3915, 0.0405980518275748), (3916, 0.0), (3917, 0.0), (3918, 0.0), (3919, 0.04759492540673315), (3920, 0.0), (3921, 0.026855635229383848), (3922, 0.0), (3923, 0.0078014364142147625), (3924, 0.007284797028938278), (3925, 0.008426730502485349), (3926, 0.0), (3927, 0.0), (3928, 0.02132746524052137), (3929, 0.014761019001823502), (3930, 0.018973502995613397), (3931, 0.0), (3932, 0.0), (3933, 0.0), (3934, 0.009453154171934165), (3935, 0.03113850519679518), (3936, 0.0), (3937, 0.0), (3938, 0.0), (3939, 0.010896300306238869), (3940, 0.012204849860793059), (3941, 0.023526417365363865), (3942, 0.0), (3943, 0.0), (3944, 0.0), (3945, 0.02377355979031142), (3946, 0.010616156537499057), (3947, 0.0), (3948, 0.012912343267962324), (3949, 0.0), (3950, 0.011075246006879017), (3951, 0.0), (3952, 0.0), (3953, 0.013314458533142295), (3954, 0.012810917907342742), (3955, 0.008658709611248015), (3956, 0.009507042014931572), (3957, 0.0), (3958, 0.03975927734838098), (3959, 0.0), (3960, 0.011208011365900031), (3961, 0.02834782101714372), (3962, 0.0), (3963, 0.012635119822488158), (3964, 0.0), (3965, 0.010855305670119175), (3966, 0.00653484682371905), (3967, 0.0), (3968, 0.0), (3969, 0.0), (3970, 0.0), (3971, 0.015667316419933252), (3972, 0.0), (3973, 0.0), (3974, 0.0), (3975, 0.0), (3976, 0.0), (3977, 0.0), (3978, 0.012716648587636086), (3979, 0.0), (3980, 0.0), (3981, 0.0), (3982, 0.0), (3983, 0.0), (3984, 0.0), (3985, 0.0), (3986, 0.06311639786853383), (3987, 0.008367155631385747), (3988, 0.0), (3989, 0.0), (3990, 0.030766605525094887), (3991, 0.013165262906867486), (3992, 0.0), (3993, 0.009024282560286132), (3994, 0.016225695885044467), (3995, 0.0), (3996, 0.0), (3997, 0.0), (3998, 0.0), (3999, 0.0), (4000, 0.050877816759891135), (4001, 0.0), (4002, 0.012320134031361311), (4003, 0.0), (4004, 0.00895918568433439), (4005, 0.0), (4006, 0.0), (4007, 0.0), (4008, 0.025900174876150903), (4009, 0.0), (4010, 0.04253633709272485), (4011, 0.026073401609401636), (4012, 0.0), (4013, 0.0), (4014, 0.031964574824924166), (4015, 0.0), (4016, 0.00803215580817877), (4017, 0.007743872139531773), (4018, 0.0), (4019, 0.0756860367328529), (4020, 0.0), (4021, 0.0), (4022, 0.0), (4023, 0.0), (4024, 0.04282031708119671), (4025, 0.0), (4026, 0.0), (4027, 0.009494082173349235), (4028, 0.010410356410120268), (4029, 0.0), (4030, 0.011279366280457292), (4031, 0.021797305482919405), (4032, 0.0), (4033, 0.0), (4034, 0.013005231333388266), (4035, 0.011950214903866599), (4036, 0.0), (4037, 0.0055704577622167), (4038, 0.0), (4039, 0.008057902914735963), (4040, 0.0), (4041, 0.0), (4042, 0.008052841574023698), (4043, 0.022874743257510842), (4044, 0.011444169129663928), (4045, 0.019706471009654662), (4046, 0.0), (4047, 0.013893469370018063), (4048, 0.009703249138268722), (4049, 0.03948245888377261), (4050, 0.020225626185213737), (4051, 0.0), (4052, 0.0), (4053, 0.0), (4054, 0.011941707199322542), (4055, 0.01634125789768932), (4056, 0.0), (4057, 0.0), (4058, 0.0), (4059, 0.0), (4060, 0.0), (4061, 0.04098555818439269), (4062, 0.006894050236021928), (4063, 0.01134406849026931), (4064, 0.0), (4065, 0.023126182739454795), (4066, 0.011477779784452627), (4067, 0.06468823640492011), (4068, 0.0), (4069, 0.0), (4070, 0.008313275490403326), (4071, 0.013767583319657849), (4072, 0.0), (4073, 0.0), (4074, 0.05339310145427384), (4075, 0.0), (4076, 0.0), (4077, 0.01690821326074973), (4078, 0.006366893201221683), (4079, 0.0), (4080, 0.006703678491083524), (4081, 0.033571904292369316), (4082, 0.0), (4083, 0.0), (4084, 0.0060297535265453365), (4085, 0.006988302670249034), (4086, 0.0), (4087, 0.0), (4088, 0.0), (4089, 0.0), (4090, 0.008975742793508934), (4091, 0.0), (4092, 0.0), (4093, 0.008759701939699664), (4094, 0.0), (4095, 0.0), (4096, 0.0), (4097, 0.0), (4098, 0.007017512835716619), (4099, 0.012118740167485216), (4100, 0.025209277422225077), (4101, 0.02984825111784638), (4102, 0.0), (4103, 0.0), (4104, 0.0), (4105, 0.021838522479097386), (4106, 0.00750975282349853), (4107, 0.0), (4108, 0.024128735922684996), (4109, 0.0), (4110, 0.0), (4111, 0.0), (4112, 0.0), (4113, 0.007770958680253429), (4114, 0.0), (4115, 0.02919507860779071), (4116, 0.0), (4117, 0.00877361521253779), (4118, 0.0), (4119, 0.027588460675542457), (4120, 0.0), (4121, 0.0), (4122, 0.0), (4123, 0.010282747292222318), (4124, 0.0), (4125, 0.021412021725790376), (4126, 0.0), (4127, 0.016874911688444363), (4128, 0.0), (4129, 0.009141751087073633), (4130, 0.0), (4131, 0.0), (4132, 0.01030907538547485), (4133, 0.0), (4134, 0.03185801473512398), (4135, 0.03034215730720765), (4136, 0.0224527508138719), (4137, 0.0), (4138, 0.03566559751098), (4139, 0.0), (4140, 0.0), (4141, 0.0), (4142, 0.013489089319139114), (4143, 0.009484449974367246), (4144, 0.0), (4145, 0.01135858554346815), (4146, 0.016961193550468115), (4147, 0.0), (4148, 0.0), (4149, 0.01091060911891802), (4150, 0.008815352438097229), (4151, 0.0), (4152, 0.0), (4153, 0.010807064900590226), (4154, 0.02515527003760749), (4155, 0.008022805441164954), (4156, 0.0), (4157, 0.04672326602756263), (4158, 0.010166610826507569), (4159, 0.027097549999088394), (4160, 0.032700929227915614), (4161, 0.0), (4162, 0.01280818932302969), (4163, 0.007945973168940138), (4164, 0.0), (4165, 0.0), (4166, 0.0), (4167, 0.017018261756954187), (4168, 0.0), (4169, 0.0), (4170, 0.02426606828516376), (4171, 0.05993587014294227), (4172, 0.014240148911729355), (4173, 0.0), (4174, 0.0), (4175, 0.02847532031306435), (4176, 0.0059977434232200205), (4177, 0.02442512223318974), (4178, 0.0), (4179, 0.0), (4180, 0.0), (4181, 0.009290671886952871), (4182, 0.012652939026364458), (4183, 0.0), (4184, 0.0), (4185, 0.01787954645229561), (4186, 0.0), (4187, 0.0), (4188, 0.0), (4189, 0.02090349857097481), (4190, 0.0), (4191, 0.015887486460908373), (4192, 0.0), (4193, 0.013378826247199669), (4194, 0.014673250459340379), (4195, 0.02595005776499123), (4196, 0.0), (4197, 0.0), (4198, 0.0), (4199, 0.0), (4200, 0.0), (4201, 0.006663148466740275), (4202, 0.006972926297986264), (4203, 0.01128219855350391), (4204, 0.0), (4205, 0.014871939999252352), (4206, 0.0), (4207, 0.0), (4208, 0.0), (4209, 0.006975619388872236), (4210, 0.0), (4211, 0.006855638440773775), (4212, 0.0), (4213, 0.0), (4214, 0.0), (4215, 0.006942043241938017), (4216, 0.014930220036006038), (4217, 0.0), (4218, 0.0), (4219, 0.0), (4220, 0.0), (4221, 0.010847256789363), (4222, 0.007928596003739038), (4223, 0.006594651981576824), (4224, 0.0), (4225, 0.0), (4226, 0.0), (4227, 0.0), (4228, 0.023124121155693223), (4229, 0.0), (4230, 0.0), (4231, 0.0), (4232, 0.03380813003620217), (4233, 0.0), (4234, 0.013089931475560947), (4235, 0.0), (4236, 0.0), (4237, 0.019859000551945935), (4238, 0.004974399205100149), (4239, 0.010284061073243053), (4240, 0.0), (4241, 0.0), (4242, 0.01301319591824201), (4243, 0.0), (4244, 0.0), (4245, 0.0), (4246, 0.0), (4247, 0.0), (4248, 0.04725131610703401), (4249, 0.0), (4250, 0.0), (4251, 0.028595865603871413), (4252, 0.03676759265229673), (4253, 0.0), (4254, 0.014417176332543883), (4255, 0.009754756277995264), (4256, 0.014501078993118867), (4257, 0.0), (4258, 0.0), (4259, 0.06497487033324854), (4260, 0.0), (4261, 0.0), (4262, 0.02666615061906643), (4263, 0.007049562716669816), (4264, 0.0), (4265, 0.0), (4266, 0.015157858290064084), (4267, 0.01617106472761811), (4268, 0.0), (4269, 0.029500682660135384), (4270, 0.0), (4271, 0.0), (4272, 0.0), (4273, 0.0), (4274, 0.0), (4275, 0.0), (4276, 0.007505350494218533), (4277, 0.0), (4278, 0.0), (4279, 0.01284473753166812), (4280, 0.0), (4281, 0.008198017274860058), (4282, 0.0), (4283, 0.006797438412790863), (4284, 0.024031124204689506), (4285, 0.026926060504764725), (4286, 0.08681566030519343), (4287, 0.007061402370730534), (4288, 0.0), (4289, 0.0), (4290, 0.0), (4291, 0.010580982574691427), (4292, 0.0), (4293, 0.0), (4294, 0.0), (4295, 0.0), (4296, 0.0), (4297, 0.0), (4298, 0.008396574538779566), (4299, 0.015296737606353887), (4300, 0.012054083559501305), (4301, 0.02670309566802371), (4302, 0.0), (4303, 0.0), (4304, 0.0), (4305, 0.0), (4306, 0.0), (4307, 0.02027678167973254), (4308, 0.0), (4309, 0.01886116926594285), (4310, 0.020407436347161557), (4311, 0.011702772161717894), (4312, 0.01232968899791902), (4313, 0.0221154425284038), (4314, 0.0), (4315, 0.014561627236425422), (4316, 0.007286724694585054), (4317, 0.009229937759931937), (4318, 0.0), (4319, 0.011804948341464004), (4320, 0.0080616690389819), (4321, 0.007449032234209265), (4322, 0.0), (4323, 0.014505849062434082), (4324, 0.011397545179414489), (4325, 0.0187916718127591), (4326, 0.006306386425977438), (4327, 0.0), (4328, 0.0), (4329, 0.00946156391638521), (4330, 0.013339611449675765), (4331, 0.0069057152228256865), (4332, 0.006959407336426194), (4333, 0.0), (4334, 0.010466798205564731), (4335, 0.01954465987316676), (4336, 0.0), (4337, 0.007466097070384601), (4338, 0.0), (4339, 0.007705367995453795), (4340, 0.0), (4341, 0.0), (4342, 0.016345047139285012), (4343, 0.0), (4344, 0.0069168514760504386), (4345, 0.0), (4346, 0.0), (4347, 0.0), (4348, 0.010279414425006754), (4349, 0.0), (4350, 0.0), (4351, 0.0), (4352, 0.0), (4353, 0.00735179997133199), (4354, 0.010544244642676618), (4355, 0.008436740826172887), (4356, 0.00897570768650554), (4357, 0.0), (4358, 0.0), (4359, 0.010515886724059518), (4360, 0.0), (4361, 0.0), (4362, 0.0), (4363, 0.0), (4364, 0.010336587868606409), (4365, 0.0), (4366, 0.027612458923725162), (4367, 0.0), (4368, 0.020313272853936592), (4369, 0.009050504001953053), (4370, 0.0), (4371, 0.015014146476232849), (4372, 0.010248972413632911), (4373, 0.012441677058630703), (4374, 0.013159816905769874), (4375, 0.013966115238895214), (4376, 0.05898394046587317), (4377, 0.0), (4378, 0.017079201004236523), (4379, 0.010779931259819155), (4380, 0.03732856954484429), (4381, 0.007236203203664627), (4382, 0.0), (4383, 0.006779898062742357), (4384, 0.0), (4385, 0.02926566390593907), (4386, 0.03832417689069783), (4387, 0.0), (4388, 0.019685911528841915), (4389, 0.0), (4390, 0.0), (4391, 0.010557549628618526), (4392, 0.00824140627859795), (4393, 0.007637377889527422), (4394, 0.0), (4395, 0.0), (4396, 0.0), (4397, 0.007296297632798609), (4398, 0.0), (4399, 0.02928773651276729), (4400, 0.0), (4401, 0.0), (4402, 0.02231261000554386), (4403, 0.0), (4404, 0.0), (4405, 0.011093805139819113), (4406, 0.0), (4407, 0.012062834844997225), (4408, 0.0), (4409, 0.0), (4410, 0.01629892180349562), (4411, 0.013203607611832544), (4412, 0.0), (4413, 0.0), (4414, 0.0), (4415, 0.015217021579509712), (4416, 0.0), (4417, 0.0), (4418, 0.01783620489493806), (4419, 0.04019290540275951), (4420, 0.0), (4421, 0.01625908271771087), (4422, 0.0), (4423, 0.012290478178032313), (4424, 0.0), (4425, 0.0), (4426, 0.0), (4427, 0.0), (4428, 0.009626477628364511), (4429, 0.08579573108886168), (4430, 0.014941879112273206), (4431, 0.0), (4432, 0.007629672062006415), (4433, 0.0), (4434, 0.0), (4435, 0.0), (4436, 0.012820761621720406), (4437, 0.058715114803180396), (4438, 0.0), (4439, 0.010192062743404725), (4440, 0.03327886421754148), (4441, 0.04120959817235419), (4442, 0.0), (4443, 0.0), (4444, 0.0), (4445, 0.0), (4446, 0.0), (4447, 0.031934716364005813), (4448, 0.027599229831738882), (4449, 0.0), (4450, 0.0), (4451, 0.0), (4452, 0.0), (4453, 0.03719056285563316), (4454, 0.0), (4455, 0.0), (4456, 0.0), (4457, 0.008297120517102215), (4458, 0.0), (4459, 0.0), (4460, 0.0), (4461, 0.040492903719984326), (4462, 0.0), (4463, 0.026054456608064828), (4464, 0.0), (4465, 0.008522709699883233), (4466, 0.0), (4467, 0.0), (4468, 0.0), (4469, 0.0), (4470, 0.0), (4471, 0.0), (4472, 0.011470042967848775), (4473, 0.0), (4474, 0.0), (4475, 0.0), (4476, 0.018566280913154223), (4477, 0.00980625881589999), (4478, 0.0), (4479, 0.008237831005065298), (4480, 0.0), (4481, 0.013491888151442982), (4482, 0.008008218823441972), (4483, 0.0666158526148974), (4484, 0.0), (4485, 0.03735781472681553), (4486, 0.007373802621914797), (4487, 0.0), (4488, 0.0), (4489, 0.013144149450139678), (4490, 0.0), (4491, 0.0), (4492, 0.0), (4493, 0.06215128534995349), (4494, 0.0), (4495, 0.0), (4496, 0.08214979239212762), (4497, 0.016927894149756383), (4498, 0.014471006451738938), (4499, 0.029516980106046434), (4500, 0.0), (4501, 0.009848753219999243), (4502, 0.07422214378576913), (4503, 0.0), (4504, 0.0), (4505, 0.0), (4506, 0.022325070461431798), (4507, 0.0), (4508, 0.0), (4509, 0.0), (4510, 0.0), (4511, 0.0), (4512, 0.0), (4513, 0.01935722395625998), (4514, 0.03683360738007324), (4515, 0.011041397272970203), (4516, 0.011777976901405973), (4517, 0.013540189219181152), (4518, 0.01581932680654044), (4519, 0.0), (4520, 0.0), (4521, 0.0), (4522, 0.020913187065519864), (4523, 0.00913406442430496), (4524, 0.0), (4525, 0.0), (4526, 0.013051976810792572), (4527, 0.029107796963739295), (4528, 0.0), (4529, 0.012405187694001965), (4530, 0.0), (4531, 0.0), (4532, 0.0), (4533, 0.0), (4534, 0.050516133303275555), (4535, 0.006364180435057272), (4536, 0.0), (4537, 0.016464472969068236), (4538, 0.0), (4539, 0.03329918001750846), (4540, 0.0), (4541, 0.03819518656294197), (4542, 0.0), (4543, 0.0), (4544, 0.0), (4545, 0.022139279660780668), (4546, 0.0), (4547, 0.015368387337675775), (4548, 0.0), (4549, 0.0), (4550, 0.0), (4551, 0.0), (4552, 0.013764745811633642), (4553, 0.0), (4554, 0.02004647404630841), (4555, 0.0), (4556, 0.0), (4557, 0.0), (4558, 0.031855464944720066), (4559, 0.0), (4560, 0.01220122720600175), (4561, 0.0), (4562, 0.0), (4563, 0.006676958673429889), (4564, 0.0), (4565, 0.008620011481150562), (4566, 0.0), (4567, 0.0), (4568, 0.0), (4569, 0.025934193095598215), (4570, 0.0), (4571, 0.0), (4572, 0.0), (4573, 0.017756680095987257), (4574, 0.0), (4575, 0.02045528529079919), (4576, 0.0), (4577, 0.0), (4578, 0.0), (4579, 0.02041364189361822), (4580, 0.014275264036453895), (4581, 0.0), (4582, 0.011942114794363015), (4583, 0.015058290457586946), (4584, 0.014736830700886876), (4585, 0.013472584668708851), (4586, 0.019228144470772677), (4587, 0.0), (4588, 0.026886997042638538), (4589, 0.0), (4590, 0.0), (4591, 0.0), (4592, 0.007802911318822757), (4593, 0.0), (4594, 0.006218270122329762), (4595, 0.0), (4596, 0.0), (4597, 0.0), (4598, 0.0), (4599, 0.022446058360219668), (4600, 0.0), (4601, 0.031424099140525456), (4602, 0.0), (4603, 0.0), (4604, 0.0), (4605, 0.008139796885495054), (4606, 0.0), (4607, 0.0), (4608, 0.018002514834528333), (4609, 0.0), (4610, 0.010814180766755999), (4611, 0.0), (4612, 0.033229766030383426), (4613, 0.011286534551003277), (4614, 0.0), (4615, 0.0), (4616, 0.0), (4617, 0.0), (4618, 0.014206376875173975), (4619, 0.0), (4620, 0.009331088884753482), (4621, 0.0), (4622, 0.0), (4623, 0.013067202845340747), (4624, 0.0), (4625, 0.01073491773519967), (4626, 0.0062150411117779325), (4627, 0.0), (4628, 0.0), (4629, 0.0), (4630, 0.0), (4631, 0.008165510291387162), (4632, 0.0), (4633, 0.0), (4634, 0.0), (4635, 0.0), (4636, 0.0), (4637, 0.0), (4638, 0.016581008268645947), (4639, 0.010944182363613308), (4640, 0.040038142886505514), (4641, 0.026035066142700986), (4642, 0.01963335542848825), (4643, 0.0), (4644, 0.0), (4645, 0.014400414503471211), (4646, 0.02877029142399408), (4647, 0.0), (4648, 0.006821938608751456), (4649, 0.01789385221325293), (4650, 0.0), (4651, 0.0), (4652, 0.02834740121740435), (4653, 0.0), (4654, 0.013930211988231791), (4655, 0.028779053523713283), (4656, 0.008728969138011711), (4657, 0.0), (4658, 0.011158399511599174), (4659, 0.009449054469826785), (4660, 0.0), (4661, 0.0), (4662, 0.0), (4663, 0.014092249487782574), (4664, 0.019504623746717506), (4665, 0.0), (4666, 0.022287317873931754), (4667, 0.0), (4668, 0.0), (4669, 0.007716600212104126), (4670, 0.016960111931970796), (4671, 0.0), (4672, 0.006389822283773957), (4673, 0.0), (4674, 0.0), (4675, 0.053274110339293204), (4676, 0.01526181479705111), (4677, 0.01737646364799617), (4678, 0.0085904760831299), (4679, 0.06458518170528361), (4680, 0.04308807935594881), (4681, 0.0), (4682, 0.0), (4683, 0.0), (4684, 0.0), (4685, 0.0), (4686, 0.0), (4687, 0.0), (4688, 0.023898949741009378), (4689, 0.0), (4690, 0.012065865665057227), (4691, 0.0), (4692, 0.0), (4693, 0.0), (4694, 0.0), (4695, 0.015740266705834553), (4696, 0.023340425346048684), (4697, 0.0), (4698, 0.0), (4699, 0.0), (4700, 0.0), (4701, 0.0), (4702, 0.0), (4703, 0.0), (4704, 0.007084895871341259), (4705, 0.0), (4706, 0.0405336956068904), (4707, 0.0), (4708, 0.0), (4709, 0.008605319922942186), (4710, 0.0), (4711, 0.0), (4712, 0.0), (4713, 0.024801851182490217), (4714, 0.0), (4715, 0.0), (4716, 0.0), (4717, 0.0), (4718, 0.02369510216434525), (4719, 0.0), (4720, 0.00799351528089374), (4721, 0.0), (4722, 0.0), (4723, 0.04577378285925117), (4724, 0.02661787913107628), (4725, 0.0), (4726, 0.01410551953058419), (4727, 0.0), (4728, 0.0), (4729, 0.012422453195014758), (4730, 0.02389480917090625), (4731, 0.0), (4732, 0.0), (4733, 0.007788802420440072), (4734, 0.0), (4735, 0.03990723539940437), (4736, 0.012628287069101376), (4737, 0.0), (4738, 0.0), (4739, 0.009505738181083067), (4740, 0.0), (4741, 0.0), (4742, 0.0), (4743, 0.0), (4744, 0.01829275857463281), (4745, 0.0), (4746, 0.0), (4747, 0.026400956971324132), (4748, 0.0), (4749, 0.0), (4750, 0.0), (4751, 0.0), (4752, 0.0), (4753, 0.0), (4754, 0.044286586858986995), (4755, 0.0), (4756, 0.013610211792019971), (4757, 0.0), (4758, 0.0), (4759, 0.0), (4760, 0.0), (4761, 0.0), (4762, 0.014697476447384906), (4763, 0.0), (4764, 0.0), (4765, 0.023900731672762868), (4766, 0.0), (4767, 0.0), (4768, 0.0), (4769, 0.0), (4770, 0.0), (4771, 0.0), (4772, 0.061922689029153474), (4773, 0.0), (4774, 0.014932109690384575), (4775, 0.0), (4776, 0.010645480411338773), (4777, 0.0), (4778, 0.010757886130397312), (4779, 0.0), (4780, 0.0), (4781, 0.0), (4782, 0.021437118421298723), (4783, 0.0), (4784, 0.0), (4785, 0.0), (4786, 0.0), (4787, 0.0), (4788, 0.011713455958239848), (4789, 0.0), (4790, 0.0), (4791, 0.046656829548406505), (4792, 0.0), (4793, 0.00941076345786592), (4794, 0.0), (4795, 0.019950331459106123), (4796, 0.010414725358537085), (4797, 0.0), (4798, 0.0), (4799, 0.007052394299213523), (4800, 0.0), (4801, 0.054409388386507114), (4802, 0.0)]\n"
          ]
        }
      ]
    },
    {
      "cell_type": "code",
      "source": [
        "len(similarity_score)"
      ],
      "metadata": {
        "colab": {
          "base_uri": "https://localhost:8080/"
        },
        "id": "mP8XA0YjEOLX",
        "outputId": "40453274-f71e-4187-bb5d-846f496d114c"
      },
      "execution_count": 22,
      "outputs": [
        {
          "output_type": "execute_result",
          "data": {
            "text/plain": [
              "4803"
            ]
          },
          "metadata": {},
          "execution_count": 22
        }
      ]
    },
    {
      "cell_type": "code",
      "source": [
        "sorted_similar_movies = sorted(similarity_score, key = lambda x:x[1], reverse = True)\n",
        "print(sorted_similar_movies)"
      ],
      "metadata": {
        "colab": {
          "base_uri": "https://localhost:8080/"
        },
        "id": "mk-e_uY0EQ2r",
        "outputId": "9be843bc-ca3e-44f6-e2d3-ef5189f58900"
      },
      "execution_count": 23,
      "outputs": [
        {
          "output_type": "stream",
          "name": "stdout",
          "text": [
            "[(8, 1.0000000000000002), (114, 0.5456239713589984), (113, 0.5083315474915406), (197, 0.46897705093795383), (276, 0.353818535169164), (191, 0.31722581320954696), (331, 0.15334943778902627), (995, 0.14546475582122728), (3290, 0.13273955684096359), (1849, 0.1320426272424173), (3599, 0.12030840676604637), (335, 0.11655563877706489), (728, 0.109839223282379), (3681, 0.10934565798794098), (1686, 0.1085620479429687), (2568, 0.10737480711241786), (37, 0.1028358014453989), (390, 0.10229015350434441), (80, 0.10061863744012264), (3670, 0.10048668644970972), (189, 0.09925364377614183), (2366, 0.09600495834154432), (38, 0.09578653678763513), (3125, 0.09535031034376198), (305, 0.09469916520828656), (743, 0.09346108430207564), (842, 0.09279364329650759), (103, 0.0904532484617638), (3364, 0.08991531144031988), (1995, 0.08797907181869326), (2939, 0.08795268431174355), (486, 0.0873505390941372), (4286, 0.08681566030519343), (4429, 0.08579573108886168), (734, 0.08554943013451863), (2267, 0.0850040522984989), (1438, 0.08484096165634887), (3826, 0.08377463447415313), (1822, 0.08375719354209413), (2533, 0.08324646237267729), (3510, 0.08301041558059037), (62, 0.08235386638836867), (4496, 0.08214979239212762), (518, 0.08067717415925822), (2142, 0.08011318664262991), (464, 0.07885433673604487), (2294, 0.07883951091580808), (208, 0.07848950606284327), (1984, 0.07717899854315559), (3013, 0.07675378058706245), (109, 0.07645457812710428), (2776, 0.07609429293942414), (291, 0.07599065102620473), (966, 0.07592068862451015), (4019, 0.0756860367328529), (1111, 0.07548224268323629), (2445, 0.07544178201674145), (636, 0.07463401900214124), (4502, 0.07422214378576913), (234, 0.07404917854813921), (3263, 0.07401138913108395), (1785, 0.07365473013093757), (2364, 0.07350870621777449), (3731, 0.07334758857590121), (3285, 0.07274128639951943), (937, 0.07199734597636305), (536, 0.071855552914415), (3342, 0.07095048589369979), (1820, 0.07052245239548537), (237, 0.07014906996720119), (2213, 0.07006465663733555), (591, 0.0698727406810159), (791, 0.06930690079812844), (2826, 0.06815378031728048), (1668, 0.0675767389390251), (2346, 0.06739408359956134), (2343, 0.06696246883085992), (1695, 0.06671444479680948), (4483, 0.0666158526148974), (565, 0.06634596860711932), (2233, 0.0659723350327224), (1734, 0.06589218701227742), (133, 0.065301242137221), (4259, 0.06497487033324854), (4067, 0.06468823640492011), (1918, 0.06464661276181989), (2250, 0.06463432852588434), (4679, 0.06458518170528361), (143, 0.06434046676648056), (899, 0.06379796348819557), (1481, 0.0635883889237079), (803, 0.06349531673216909), (1912, 0.06324646042943005), (1030, 0.06319066760295097), (3986, 0.06311639786853383), (81, 0.0628535108064181), (4493, 0.06215128534995349), (4772, 0.061922689029153474), (1999, 0.06180932172187527), (583, 0.061655053858712616), (969, 0.06125166717561968), (63, 0.061211142376685075), (20, 0.06092182196852157), (3382, 0.06090040595563268), (2846, 0.060673728841544136), (3706, 0.06038719652569717), (545, 0.06034827849695106), (73, 0.06009201756837707), (3558, 0.06005426796634256), (4171, 0.05993587014294227), (2156, 0.059884414587087736), (3106, 0.059422787729482576), (3710, 0.05932920508399112), (2163, 0.05921256622189133), (4376, 0.05898394046587317), (4437, 0.058715114803180396), (1238, 0.0586389700737875), (3506, 0.05851784523918645), (254, 0.05833368193007135), (90, 0.05800289678453696), (403, 0.05798332155787664), (2565, 0.05795510960448855), (12, 0.05764859285467415), (925, 0.057354197597140874), (1423, 0.05632519906783064), (2899, 0.056032625476542676), (1198, 0.05594861289859382), (1420, 0.05590067008735973), (107, 0.05584356051023877), (1718, 0.05582209888735678), (364, 0.0557456409460773), (1280, 0.05562958176764308), (2876, 0.055610167732637224), (2511, 0.05558209630748866), (690, 0.05555205189529732), (659, 0.05531816403064656), (1474, 0.0551170069344281), (2011, 0.055072896050233355), (1884, 0.05484519691126731), (2326, 0.054711379742179767), (4801, 0.054409388386507114), (326, 0.054212226840575375), (1375, 0.05419048606789109), (2169, 0.05368617892901223), (1004, 0.05351549934176926), (4074, 0.05339310145427384), (4675, 0.053274110339293204), (2037, 0.05312665997772475), (1386, 0.05280865707143553), (758, 0.052622371987591496), (2103, 0.05245084771875377), (55, 0.0523363970571488), (3476, 0.05225925745776117), (3398, 0.05190421896076188), (1273, 0.05162328254810416), (1148, 0.051312334910460076), (3868, 0.0512571290046225), (917, 0.051205047813616705), (88, 0.0511696266104871), (2048, 0.05110149598907987), (383, 0.05104739379116861), (4000, 0.050877816759891135), (2861, 0.050843716617785556), (2188, 0.050690352579292275), (3901, 0.05054042839975019), (4534, 0.050516133303275555), (1031, 0.05040156127439509), (6, 0.05035316010136349), (1761, 0.05028698852389308), (1079, 0.050186577975872025), (3202, 0.05015642988566049), (661, 0.050052952016495136), (1331, 0.04995160786429058), (3836, 0.04994235436325975), (1594, 0.049581932020299486), (3266, 0.04951615006753591), (2963, 0.04943884108585962), (2613, 0.049098919691870836), (410, 0.048950137650675525), (585, 0.04890730295818904), (2828, 0.0488472836817679), (3362, 0.04878532151340918), (2514, 0.04878295881213668), (2449, 0.048590724609742245), (2753, 0.04827438308541213), (1987, 0.04824773881314993), (2266, 0.04799619735216052), (836, 0.04782961332341898), (1219, 0.047612090415518685), (3875, 0.04760488378194104), (3919, 0.04759492540673315), (497, 0.047576875062232266), (3431, 0.04754392381967384), (1895, 0.04750578326828863), (1196, 0.047434264969759735), (2966, 0.047259454292770564), (4248, 0.04725131610703401), (3744, 0.047181191240248305), (4157, 0.04672326602756263), (4791, 0.046656829548406505), (294, 0.04658538274069644), (2545, 0.04648101019853429), (2477, 0.04644865163951935), (2334, 0.046301615467016784), (2916, 0.04629078430726018), (707, 0.04620048866202208), (1764, 0.04603976405318151), (1095, 0.045923366526719966), (2902, 0.045896723245006474), (2686, 0.04579551161729884), (1577, 0.04578180941581944), (4723, 0.04577378285925117), (2469, 0.045671281068331286), (3902, 0.04563506572631709), (1794, 0.04535015122659529), (2923, 0.0452812145037587), (2438, 0.04525356733579468), (1184, 0.04520639766203314), (1494, 0.04514950047800346), (1603, 0.04514557222760252), (633, 0.04495550156994343), (2944, 0.04470716631918573), (1906, 0.04454913899908673), (2515, 0.044426764886619306), (3271, 0.04440236961655568), (4754, 0.044286586858986995), (1524, 0.04424886614995148), (2425, 0.044171237876512226), (672, 0.04403239784047048), (3829, 0.04400159283604284), (1612, 0.043931281238706016), (268, 0.043920167098702584), (419, 0.043860880720692004), (2798, 0.04381774007799031), (3858, 0.043660106233319534), (660, 0.043279542656747855), (2371, 0.043248938063316825), (3778, 0.04314732997898357), (3284, 0.04312462665168586), (488, 0.043115985282277995), (4680, 0.04308807935594881), (4024, 0.04282031708119671), (1878, 0.04278821900444078), (96, 0.042769381762091586), (215, 0.042729003586004566), (3559, 0.0426694405353623), (572, 0.04257480264850803), (4010, 0.04253633709272485), (156, 0.042481724269856885), (935, 0.042470068207468285), (1940, 0.04239573213974787), (1279, 0.042345215371852665), (196, 0.042332192507718774), (1900, 0.04204804130160302), (289, 0.04191642289108012), (2226, 0.04190893376663145), (2604, 0.04186267735198172), (784, 0.04177416607876937), (1656, 0.04176419697768742), (459, 0.04171567120755354), (106, 0.04138511828390984), (1175, 0.04132148832657058), (1519, 0.04128405315076448), (1469, 0.0412206985523586), (221, 0.04121130761541704), (4441, 0.04120959817235419), (356, 0.041146136779679196), (3187, 0.041133422870577974), (1119, 0.04111544098287084), (1870, 0.041054632222533374), (2525, 0.04101654835731503), (4061, 0.04098555818439269), (1571, 0.04097282335882221), (2297, 0.040956575556814194), (2086, 0.04084972839650766), (3480, 0.04084518684111288), (92, 0.04082350131912627), (370, 0.04076031379182874), (18, 0.040759163868134746), (2544, 0.040632263950298154), (1624, 0.04060868594316356), (1968, 0.04060362177680939), (3915, 0.0405980518275748), (1932, 0.04058117772835462), (1, 0.04056180271185782), (4706, 0.0405336956068904), (3208, 0.04049778349044477), (4461, 0.040492903719984326), (23, 0.04046906064636289), (2997, 0.04046304450371425), (1816, 0.04040899621461723), (32, 0.04040536178666091), (1013, 0.04023112093664395), (4419, 0.04019290540275951), (117, 0.04012406080736922), (3218, 0.04009228914541985), (4640, 0.040038142886505514), (4735, 0.03990723539940437), (1501, 0.03984569487607672), (190, 0.03980372276405695), (3958, 0.03975927734838098), (2416, 0.03965565132808524), (3332, 0.03961147203005707), (841, 0.03949305402806002), (3733, 0.03948847088383541), (4049, 0.03948245888377261), (1322, 0.039372048418655395), (2167, 0.039321252607444096), (3270, 0.03930416237177694), (522, 0.039243105147529156), (129, 0.0392308668530781), (3024, 0.039144914919739704), (1402, 0.039008379371693894), (1871, 0.03895884127847062), (2901, 0.03881998548720847), (2527, 0.03869366528755984), (2392, 0.038629143659135154), (2785, 0.038598923495360746), (2589, 0.03850606859022507), (42, 0.0385005835586864), (1841, 0.038491679130868414), (374, 0.03846244536953018), (1467, 0.038418270875609076), (678, 0.03840880469809267), (30, 0.03836624889966217), (4386, 0.03832417689069783), (3370, 0.03824098999759279), (4541, 0.03819518656294197), (2745, 0.038174029208096476), (3775, 0.03816922000409575), (2747, 0.03806823809862963), (332, 0.038008947006078174), (744, 0.03785052419698179), (1977, 0.0378466539639828), (1747, 0.037816805750086724), (1824, 0.03778115922365263), (1520, 0.037780188534327706), (2117, 0.03769479881973081), (715, 0.03751519873950051), (3863, 0.037464602106602816), (354, 0.03745381930123227), (2351, 0.03745204826676265), (1259, 0.037410686437593), (4485, 0.03735781472681553), (3388, 0.03734303663694324), (336, 0.03733588769797583), (4380, 0.03732856954484429), (187, 0.03726127703699419), (2333, 0.037237874483942404), (1904, 0.03720241955816208), (4453, 0.03719056285563316), (69, 0.03716124911004351), (179, 0.03701495740703037), (1108, 0.03698458861054986), (2681, 0.03690507619032845), (428, 0.036881485910441596), (569, 0.036866678874381734), (2547, 0.036866384479038), (4514, 0.03683360738007324), (4252, 0.03676759265229673), (3777, 0.036721114283023375), (2653, 0.03668134813646089), (612, 0.036510132544721394), (1022, 0.03648104036851921), (3522, 0.03640748593519746), (2466, 0.03639305958197177), (435, 0.03636691111596522), (301, 0.03634630665364886), (2061, 0.036151652392441495), (1827, 0.03614948852249547), (3288, 0.036054079015453), (781, 0.03601769460212585), (2852, 0.035998039355886545), (2253, 0.03598687069823263), (2488, 0.03595167278862402), (977, 0.0358726952283891), (1306, 0.035855661279709176), (1369, 0.03581887834627834), (126, 0.03580418246842609), (644, 0.035790989254333244), (2567, 0.03575027765114049), (34, 0.03572276330122187), (292, 0.03571345569397402), (1361, 0.035695403854165586), (4138, 0.03566559751098), (177, 0.03563713444399777), (458, 0.03563365120165359), (29, 0.03563108498973076), (1082, 0.03558129796469754), (2029, 0.03556137701393229), (810, 0.035434579574217404), (2281, 0.0352598416328014), (309, 0.035230493349948586), (3276, 0.035171527414484274), (2571, 0.03503740171052461), (3406, 0.03501733386181959), (2540, 0.035006714595834695), (2679, 0.03498636329756072), (1628, 0.03496650071058405), (546, 0.03485455220251469), (2, 0.03484297090109418), (485, 0.034791816979076774), (2330, 0.03476394152058237), (3137, 0.03471787371851143), (467, 0.034668057910760657), (2835, 0.034586068532710436), (324, 0.03453799925058211), (608, 0.034531289907872964), (2049, 0.034472755830576976), (2314, 0.03432782301823471), (1861, 0.03426422030732654), (578, 0.03424812425221087), (748, 0.03414690798511981), (2172, 0.03414304334971861), (78, 0.03409631645585154), (3607, 0.03400280055495035), (277, 0.0339948839638684), (1157, 0.033990238283138866), (1085, 0.03398380380154199), (2793, 0.033920787580647024), (3448, 0.033902653613593535), (3144, 0.03386036153243785), (142, 0.03384950248793576), (1781, 0.03384338697829037), (2687, 0.03382408453682639), (4232, 0.03380813003620217), (1541, 0.03377906003675418), (3588, 0.03377210816402846), (384, 0.03374717373785372), (2810, 0.03364645614156361), (2493, 0.03363349205039051), (1390, 0.033609029231686655), (2867, 0.033603110554350044), (4081, 0.033571904292369316), (2114, 0.03356332463705288), (2184, 0.033459870002300565), (131, 0.03332144672318667), (4539, 0.03329918001750846), (448, 0.03329110003744441), (2303, 0.033288460926919984), (4440, 0.03327886421754148), (4612, 0.033229766030383426), (2739, 0.03312734537590201), (72, 0.033113482263699506), (288, 0.033082458437941456), (3835, 0.03307601157180187), (3594, 0.03302577865556243), (2269, 0.0330039005701421), (1000, 0.03283366409158083), (2036, 0.03281086955448471), (4160, 0.032700929227915614), (3058, 0.03269795661859486), (1682, 0.03265347403724776), (2040, 0.032614852392829144), (2824, 0.03260537785217038), (2805, 0.03254735877139356), (3253, 0.03241063757982414), (1214, 0.03238736972853853), (2740, 0.03235343783225581), (2618, 0.03224310325143602), (3049, 0.032126938477195305), (3, 0.03210611152276799), (423, 0.03210227489556122), (2562, 0.032079846682253284), (628, 0.032058119077828906), (14, 0.03203559400312493), (1340, 0.03198286141214137), (4014, 0.031964574824924166), (4447, 0.031934716364005813), (1439, 0.03189569238764289), (4134, 0.03185801473512398), (4558, 0.031855464944720066), (1206, 0.031849660917938186), (1086, 0.03173364685079378), (1061, 0.03172025332516763), (960, 0.03171615086399417), (48, 0.031689368246965555), (747, 0.03168639208248671), (931, 0.03168396123999586), (1973, 0.031575228149059394), (1100, 0.031560347338686026), (1038, 0.031553312968776004), (1172, 0.031495947395536635), (3329, 0.03148331426980769), (2633, 0.03145545526464998), (4601, 0.031424099140525456), (2645, 0.03142071849228459), (2099, 0.031390759663364014), (1909, 0.03131747522689579), (225, 0.03120014014880755), (3935, 0.03113850519679518), (2994, 0.031129175171197097), (717, 0.031115579084382294), (3715, 0.031101796110488578), (494, 0.03107666159388835), (40, 0.031019695166406222), (46, 0.030996563008783486), (1359, 0.03093493520052642), (1074, 0.03087616812287887), (2592, 0.03085232714593035), (1939, 0.030809388061029744), (1988, 0.030807409419659367), (3990, 0.030766605525094887), (5, 0.030672926634831597), (1478, 0.03063523429526882), (2914, 0.03061339954936833), (271, 0.030590050161500834), (2614, 0.03058446312548397), (1303, 0.0305606772584731), (3613, 0.03035658195804337), (656, 0.030355389318566264), (1819, 0.030353017714348663), (4135, 0.03034215730720765), (302, 0.03030718247314521), (243, 0.030273266061100295), (269, 0.030268476080741635), (3766, 0.03025949722173492), (11, 0.030252969621032817), (1078, 0.030249507461655327), (1451, 0.03024182113115356), (812, 0.030236563213911105), (3257, 0.030231401688629523), (2247, 0.030190653350445646), (3220, 0.030160325654768227), (1040, 0.030131811195284817), (604, 0.030118168005018056), (501, 0.03007810752873325), (1191, 0.030059868808696093), (3059, 0.030038721626375497), (1857, 0.02996409175623083), (4101, 0.02984825111784638), (457, 0.029813369790854534), (2019, 0.029702347674887185), (1287, 0.029661490510334638), (721, 0.029655344636237337), (905, 0.029649119715811304), (0, 0.02960930964063025), (1551, 0.029590474631427152), (15, 0.029528033334071554), (4499, 0.029516980106046434), (1920, 0.029509564979232544), (4269, 0.029500682660135384), (175, 0.02949495124679519), (138, 0.029493773499584562), (1620, 0.029475712264976524), (341, 0.029465296580881113), (1856, 0.02944518753388613), (3237, 0.029423665949066417), (1428, 0.029413793499916165), (2601, 0.029400463914568485), (946, 0.029390109010710857), (3366, 0.029380698291966805), (4399, 0.02928773651276729), (4385, 0.02926566390593907), (4115, 0.02919507860779071), (870, 0.02916422947702746), (602, 0.029114957868142527), (195, 0.0291090704206556), (2476, 0.029108748014922223), (4527, 0.029107796963739295), (121, 0.029072450972293783), (261, 0.02906689749225592), (2586, 0.029053425106181096), (2922, 0.029029954722215104), (2268, 0.029022019568517063), (2123, 0.028985076781647866), (329, 0.028978755385522192), (714, 0.028942134546482853), (1348, 0.028900381143007334), (1192, 0.028896726675105025), (3899, 0.02888450543783256), (539, 0.02886468900676711), (1134, 0.028807545850319735), (4655, 0.028779053523713283), (4646, 0.02877029142399408), (554, 0.02869468465833576), (2127, 0.028693737036190083), (558, 0.028652673828270487), (420, 0.028617399212657248), (4251, 0.028595865603871413), (235, 0.02859528758822788), (452, 0.02856500777421455), (505, 0.028535951317922924), (3579, 0.028504444177011284), (1579, 0.028504109022040144), (674, 0.0284914520863083), (4175, 0.02847532031306435), (425, 0.02845892118788408), (213, 0.028456810051752473), (479, 0.02844068679034798), (2115, 0.02843361001694651), (1029, 0.028413905094727174), (2588, 0.02837912279336828), (3903, 0.028361251324006714), (3961, 0.02834782101714372), (4652, 0.02834740121740435), (2069, 0.028345415283434566), (293, 0.028306917269543836), (2708, 0.028302073273436146), (1512, 0.0282459790731017), (627, 0.0282176937881736), (1224, 0.02819991795890209), (1933, 0.028045953943241227), (343, 0.028028509935504167), (3483, 0.027980753451924384), (676, 0.027940730536720495), (1958, 0.027895769625327443), (2151, 0.02784296451454863), (71, 0.027804340141905796), (3429, 0.027758304944813236), (3727, 0.027650187668233888), (4366, 0.027612458923725162), (4448, 0.027599229831738882), (814, 0.027594312984929377), (4119, 0.027588460675542457), (1132, 0.027504835558813074), (942, 0.027480353802974554), (706, 0.02746446115348218), (3800, 0.027452174774248918), (127, 0.027444238462326777), (381, 0.027432453899496497), (2302, 0.0274314933915727), (2526, 0.027369216285139837), (2802, 0.027339758799048146), (2576, 0.027331095354669734), (832, 0.02731589331291691), (2265, 0.027311729689193216), (3637, 0.02719233799625225), (3163, 0.027114733070890806), (4159, 0.027097549999088394), (1234, 0.0270813189355985), (2262, 0.027045784407893292), (3247, 0.026940984015429027), (2279, 0.026926612276682797), (4285, 0.026926060504764725), (358, 0.026907496452734738), (4588, 0.026886997042638538), (3921, 0.026855635229383848), (1277, 0.026807041010969028), (3238, 0.026792502749992203), (1555, 0.02674679067093602), (2285, 0.026745915707387328), (22, 0.02674203211210104), (2952, 0.026717516285191836), (4301, 0.02670309566802371), (4262, 0.02666615061906643), (3440, 0.026637698005602638), (4724, 0.02661787913107628), (778, 0.0265983458546836), (3053, 0.02659203019722356), (1731, 0.026559303705275743), (859, 0.0265316395181989), (513, 0.026422339205136543), (4747, 0.026400956971324132), (86, 0.026399463343791868), (632, 0.026365805489978248), (199, 0.026345504495867228), (2851, 0.026306823963937454), (368, 0.026283871164070924), (3087, 0.026262086061865846), (316, 0.026257234588729538), (2692, 0.026251979098501067), (2772, 0.026235797415585675), (380, 0.026227626170609704), (1239, 0.02617326858944176), (320, 0.026148070378367777), (1600, 0.02612042930611915), (689, 0.026105303312107288), (3616, 0.026089186665602636), (2054, 0.026083693276650916), (4011, 0.026073401609401636), (1362, 0.02606549656747383), (4463, 0.026054456608064828), (185, 0.02604689827487578), (4641, 0.026035066142700986), (547, 0.026007970218462132), (188, 0.02599662720114701), (2536, 0.025974884145261196), (2967, 0.025963142695367727), (4195, 0.02595005776499123), (3400, 0.025944580815326936), (592, 0.025940765301951718), (4569, 0.025934193095598215), (3807, 0.025929117038030015), (911, 0.02590596378542895), (4008, 0.025900174876150903), (934, 0.02586903306755731), (2517, 0.025856863565605827), (1366, 0.025828757100894457), (3014, 0.02571020354555021), (471, 0.025705114928825205), (1506, 0.025681207359989952), (19, 0.025677162630943936), (1292, 0.02566049922542723), (3225, 0.02562929792447756), (2541, 0.02562911802845557), (1610, 0.025582421933537436), (3176, 0.02556442816270929), (1289, 0.025537798621963315), (3445, 0.025511077494461), (2621, 0.025501494462816132), (1005, 0.025438507231172303), (444, 0.0253909793960804), (1440, 0.02538569020147321), (3472, 0.025331398142577066), (528, 0.02526783072148114), (4100, 0.025209277422225077), (2349, 0.025197946058736435), (4154, 0.02515527003760749), (2577, 0.02513585587053002), (184, 0.025120609993703996), (3350, 0.025052788475528925), (883, 0.025051664183472776), (1270, 0.02497207688254778), (2185, 0.024967363481950916), (1380, 0.024946924199767143), (130, 0.024930062218045626), (1165, 0.02492764514063029), (3590, 0.024917413627285105), (1066, 0.02487710620198586), (1658, 0.024874285581801117), (2047, 0.024874125747977392), (945, 0.02486855521533701), (2556, 0.024856233074025312), (2800, 0.024804855421903346), (4713, 0.024801851182490217), (3774, 0.024783201799982932), (638, 0.024778181998539612), (1826, 0.024770492250986924), (759, 0.024759789827172293), (2559, 0.02474352331833729), (1775, 0.02469323304336795), (2296, 0.02467929628961023), (3267, 0.024670103133827878), (2512, 0.024653401399562368), (1057, 0.02464726757610718), (1263, 0.024622197317355068), (134, 0.024597138879716013), (993, 0.024580564655188153), (1787, 0.024562329630079156), (1780, 0.02455555952031936), (228, 0.02450654570991917), (3199, 0.02449286045933078), (1363, 0.02448420278074826), (1314, 0.024444630830955535), (4177, 0.02442512223318974), (2886, 0.02440308128206526), (1187, 0.024398808376096353), (1152, 0.02437224287549081), (100, 0.024370438018530297), (1062, 0.024362116164965617), (3441, 0.024354698728730414), (3728, 0.024346512226960285), (2979, 0.02434593396983089), (1081, 0.024332452530914886), (1698, 0.024332009526554454), (186, 0.024323226511772073), (153, 0.024321882694203323), (1789, 0.02427966822432289), (4170, 0.02426606828516376), (1035, 0.024258278611704476), (392, 0.02424334028537727), (2228, 0.024237590971890904), (2820, 0.024221651984050917), (833, 0.02422131652344685), (631, 0.024214730017388584), (1511, 0.024146075335292616), (3044, 0.024139932816502747), (4108, 0.024128735922684996), (874, 0.024123612901566782), (2733, 0.024110736487823515), (3006, 0.024075757287527075), (4284, 0.024031124204689506), (1911, 0.023984760019449908), (176, 0.023968007442662156), (416, 0.023943993150678626), (3029, 0.023941111937361405), (3114, 0.023940253199196834), (1137, 0.02391508807249785), (4765, 0.023900731672762868), (4688, 0.023898949741009378), (4730, 0.02389480917090625), (1812, 0.023894769101410543), (3283, 0.02389351847210676), (2947, 0.023838947740139674), (2429, 0.02383625837291161), (2355, 0.02383337339851885), (1979, 0.023829267275938145), (773, 0.02380814134491346), (10, 0.02379021016800665), (3945, 0.02377355979031142), (769, 0.023759695905361054), (4718, 0.02369510216434525), (124, 0.02366578304453645), (1255, 0.023658007799306442), (3001, 0.02364860516307985), (3088, 0.023637004696097568), (2496, 0.023634704419422625), (2389, 0.023629697451213752), (3252, 0.0236113342204394), (503, 0.02356428172541232), (587, 0.023557447736746853), (365, 0.023549257531902894), (3941, 0.023526417365363865), (1017, 0.023522351988087484), (2671, 0.023518875829321186), (2627, 0.023514806779295253), (2108, 0.023476512396792038), (3592, 0.023476293030284912), (525, 0.023459379507897893), (597, 0.02345685368590549), (139, 0.02343701658922571), (1854, 0.02339675334147088), (3529, 0.023394119626226017), (2847, 0.023390899574182618), (533, 0.023387797592923296), (2561, 0.02336798105524509), (1296, 0.023367563556704975), (1411, 0.02335965478462751), (4696, 0.023340425346048684), (1547, 0.023285444050490316), (1969, 0.02326796627449302), (1613, 0.02326700427840409), (1397, 0.023263545223879807), (1009, 0.023218419733035577), (1680, 0.0232173357447482), (2694, 0.023197289884366763), (3550, 0.023184215034032868), (2550, 0.023157326893430717), (3239, 0.02315255762347193), (1231, 0.023149529043001025), (2206, 0.023128372260476572), (4065, 0.023126182739454795), (4228, 0.023124121155693223), (413, 0.02306255155591622), (2316, 0.02305240195232786), (3619, 0.02304566214863284), (2530, 0.023014267756795513), (3393, 0.023012160804872457), (1539, 0.022985984583040818), (3532, 0.022966502131921175), (2132, 0.02296504230615364), (2718, 0.022950282714220165), (3240, 0.022949506101073974), (1338, 0.022939582435050503), (2505, 0.02292188925829977), (2234, 0.02291656911526491), (2405, 0.02288240079680543), (4043, 0.022874743257510842), (89, 0.02284361219811792), (563, 0.022813229145273624), (484, 0.02273976313293954), (820, 0.02268547110842082), (3626, 0.02266971844039315), (3713, 0.022659880038019414), (786, 0.022624447624551975), (1199, 0.022614507899622036), (2161, 0.022599921378234605), (3015, 0.022581844215759782), (2564, 0.022578771066052068), (2655, 0.02253823582490508), (3698, 0.022531843738416643), (1358, 0.022526937954104112), (1976, 0.02252027176092591), (1012, 0.022519158345946366), (1852, 0.022490649449515347), (2906, 0.022489298376786582), (2635, 0.022466040431807405), (211, 0.02245699381913662), (4136, 0.0224527508138719), (4599, 0.022446058360219668), (1332, 0.02244153014646898), (154, 0.022421177510086154), (914, 0.02239681846348599), (1307, 0.022392540740341044), (2825, 0.02238632441804071), (3704, 0.022383741811365612), (2176, 0.022356082717708975), (120, 0.022339960277129343), (4506, 0.022325070461431798), (987, 0.022324192273190494), (4402, 0.02231261000554386), (2223, 0.02230094111799196), (3308, 0.02228821281269219), (4666, 0.022287317873931754), (482, 0.02228444883059915), (327, 0.022276317894064993), (3680, 0.02227367381435531), (3424, 0.02227292852166664), (2611, 0.022234977868621126), (265, 0.022224807526040655), (3373, 0.022223484280024457), (431, 0.022197953619633084), (2356, 0.022186697170761847), (2278, 0.022174373415124175), (869, 0.022142125307555625), (4545, 0.022139279660780668), (3562, 0.02213421616127569), (4313, 0.0221154425284038), (1855, 0.02210070980285799), (2815, 0.022092471427665294), (809, 0.022072006607479426), (258, 0.022032292109636625), (654, 0.02199944629476592), (3183, 0.021993897004052514), (1431, 0.021984019551919344), (456, 0.02196008141227347), (3023, 0.021945361626716203), (1230, 0.021931120840500064), (3356, 0.02192151664924764), (1246, 0.021887731645129242), (322, 0.021872020015572702), (1804, 0.021863856497905627), (4105, 0.021838522479097386), (4031, 0.021797305482919405), (2205, 0.02177800648017033), (1076, 0.021748459086283686), (555, 0.021712772900199892), (509, 0.02170848783496064), (1193, 0.021693794170929856), (422, 0.021691635612607122), (898, 0.021685615683642405), (722, 0.021669271166855367), (1203, 0.02166420421937547), (1073, 0.021657676799381756), (3333, 0.02161704962619897), (1028, 0.02156727118238188), (3466, 0.02153609878537418), (1652, 0.021515362053099014), (411, 0.02147678623513874), (3679, 0.021458847093542014), (4782, 0.021437118421298723), (4125, 0.021412021725790376), (3292, 0.021400040624189445), (2157, 0.02139887502496765), (906, 0.021391833591064727), (901, 0.021359809546425815), (932, 0.021354833968233317), (2337, 0.021343201472076006), (3928, 0.02132746524052137), (3602, 0.021311261034715926), (1516, 0.021292125577721036), (160, 0.02126897838281782), (330, 0.02124575238307979), (2249, 0.021235354804021157), (3789, 0.021232066728094474), (3856, 0.021205436385791625), (1324, 0.021196462707015425), (3004, 0.02118073531947571), (61, 0.021089609311466195), (3552, 0.021079308237014822), (2272, 0.02107703247202806), (3168, 0.021073628907625316), (3815, 0.02101898596700456), (3886, 0.021016402519461054), (101, 0.02100167400457151), (118, 0.0209921957950346), (363, 0.0209913519485317), (270, 0.020983684511416995), (382, 0.0209783597196328), (830, 0.020969923622140972), (2375, 0.020942705932299032), (4522, 0.020913187065519864), (4189, 0.02090349857097481), (3403, 0.02089587913031273), (2007, 0.020887360668990152), (3394, 0.020880058665138437), (2490, 0.020859533879361264), (9, 0.020858347217226243), (1126, 0.020858115101648037), (710, 0.02084877958024793), (3434, 0.020843343151788082), (3765, 0.020838225329832073), (933, 0.020837363285947555), (3344, 0.020808833892357475), (3399, 0.020795053459494235), (267, 0.020785834157341802), (1544, 0.020779356671420546), (2688, 0.020775458792274836), (3494, 0.02076916382970781), (1580, 0.020731057056370635), (648, 0.02071923553572096), (1382, 0.020705509069849554), (783, 0.020704851164272516), (1139, 0.02069649670269986), (2390, 0.02067345565794316), (242, 0.020669383181117836), (17, 0.02065949883376596), (262, 0.02064896624269213), (731, 0.020616543724590014), (111, 0.020594278082948732), (1578, 0.020583126047524027), (490, 0.02057097647569465), (3762, 0.02054888256138243), (2209, 0.020544829461370005), (1885, 0.020543118488774707), (35, 0.020533738185105302), (1337, 0.02052279159615935), (3891, 0.020494551935802872), (2312, 0.020487968981399825), (241, 0.0204784158948376), (391, 0.02046576105515928), (1961, 0.020460402364162758), (4575, 0.02045528529079919), (50, 0.02044811618555501), (2444, 0.02044644328576597), (1967, 0.020439347273805863), (1983, 0.020433735008460668), (1583, 0.02042951172926803), (4579, 0.02041364189361822), (115, 0.02040831341778418), (4310, 0.020407436347161557), (3724, 0.02039784956962759), (2437, 0.020397684121938937), (1123, 0.020349060775654675), (472, 0.020317661393617646), (4368, 0.020313272853936592), (172, 0.020311980695620357), (4307, 0.02027678167973254), (3281, 0.020268261226570786), (4050, 0.020225626185213737), (57, 0.020220556706782022), (915, 0.02022011638315603), (2657, 0.02021434810643277), (168, 0.02016151589312489), (146, 0.02014011393823848), (807, 0.02012903565012864), (430, 0.020126986754502807), (1266, 0.020097195475447086), (687, 0.020088540143077392), (3854, 0.020085390442803053), (813, 0.020070942434549842), (4554, 0.02004647404630841), (443, 0.020045940781232667), (4795, 0.019950331459106123), (2491, 0.019945458576651108), (3129, 0.019943390856596965), (763, 0.019942094082116592), (3369, 0.019934334951952553), (2202, 0.019924030582733204), (2925, 0.01991261595696907), (2165, 0.019909744853390164), (98, 0.019891569503635607), (1922, 0.019889210190933104), (2207, 0.019873239566271052), (349, 0.019867548837034836), (3479, 0.01986636673995607), (4237, 0.019859000551945935), (159, 0.01984856933034166), (1986, 0.019842031207859337), (2461, 0.01982856230954912), (426, 0.01981934918998744), (2369, 0.019810033566279178), (3446, 0.01977959831376992), (502, 0.019736360915548753), (1914, 0.01973584127732432), (4045, 0.019706471009654662), (4388, 0.019685911528841915), (1453, 0.01968413615462307), (3171, 0.01967705291638379), (3593, 0.019662853988624898), (2352, 0.019656242725319125), (1509, 0.0196471630199987), (325, 0.019636793030574706), (4642, 0.01963335542848825), (742, 0.01961280580953601), (1834, 0.019574870743540945), (4335, 0.01954465987316676), (4664, 0.019504623746717506), (698, 0.019498042895178643), (1164, 0.019495674324422674), (1777, 0.019494279921006115), (1913, 0.01949325511734638), (1432, 0.019488541445563994), (206, 0.01948303390091973), (223, 0.01947212758162966), (238, 0.019424707280585936), (340, 0.01941303723837296), (339, 0.01937062489975664), (848, 0.01935854961748419), (4513, 0.01935722395625998), (664, 0.01935459820447962), (681, 0.019342514765107902), (3111, 0.01932684169706692), (3390, 0.019321622548017912), (461, 0.019316399607545245), (2237, 0.019305751135690125), (2282, 0.01929730332884282), (637, 0.019289077632046212), (755, 0.019284724190193607), (3128, 0.019237935875276287), (4586, 0.019228144470772677), (232, 0.019175368307722155), (635, 0.019169601094542625), (1942, 0.019146349732738363), (530, 0.019142919221603837), (3293, 0.019117296537046403), (77, 0.01911316501774308), (510, 0.019101100663802342), (646, 0.01908536120107078), (1016, 0.019083722946183636), (2859, 0.01907114755246089), (1533, 0.019059205365800875), (201, 0.019037297568932555), (1821, 0.0190366517854263), (3873, 0.01899233818857582), (3930, 0.018973502995613397), (483, 0.018973113951905627), (2270, 0.018920575088011267), (2812, 0.01891397945934556), (2162, 0.01889163108556721), (1063, 0.01888184336146198), (1257, 0.01888030673143045), (4309, 0.01886116926594285), (1838, 0.01885895224545865), (858, 0.01885105818185144), (975, 0.018834766924405933), (149, 0.01882331393486717), (2134, 0.018794280025269262), (4325, 0.0187916718127591), (800, 0.018781495659626536), (2538, 0.01878114700078802), (67, 0.018769331891040096), (128, 0.018759398915757283), (2407, 0.01875908226688586), (3297, 0.01874990897342845), (853, 0.018744580660017385), (1053, 0.018740717199313014), (816, 0.018737918077956415), (182, 0.018737823924856102), (762, 0.018729231479106496), (3305, 0.018722606430364813), (137, 0.01871369909726854), (3280, 0.018711136679541523), (2003, 0.018710090119238888), (1710, 0.018690232435843158), (181, 0.018683250383891632), (1570, 0.018676964652243257), (2439, 0.018630293406098557), (315, 0.01862814316965798), (3495, 0.0186041731222384), (950, 0.01858451704347759), (2329, 0.018573375343466703), (4476, 0.018566280913154223), (521, 0.01856575380592235), (2175, 0.01856058415915681), (1376, 0.01855083831564166), (36, 0.018502536734312437), (3692, 0.01849533160475181), (297, 0.018493255140351564), (1068, 0.018467406532741586), (2807, 0.01843839342834018), (1302, 0.01843185846586337), (1584, 0.01839008332983246), (2757, 0.01834024188412542), (561, 0.018339454598865098), (2529, 0.01833768403029215), (466, 0.018312017749315356), (4744, 0.01829275857463281), (1092, 0.018282288510868598), (3167, 0.01828193820450503), (741, 0.01827088248213837), (144, 0.018248395464228222), (746, 0.01819724011923374), (3184, 0.018180083262244576), (818, 0.018153156066577112), (2318, 0.018127486622401778), (704, 0.01811372780471024), (863, 0.018093356085368127), (1037, 0.018070036955281952), (3037, 0.01806277638267525), (2191, 0.018054867903313707), (3697, 0.0180520526007208), (207, 0.01804550095807538), (2255, 0.01803567132211397), (618, 0.0180288862138867), (1426, 0.01801206974895933), (4608, 0.018002514834528333), (3481, 0.017967120098740092), (2722, 0.01796563914674107), (912, 0.01795515712205614), (1034, 0.017953617840830164), (2717, 0.017951124004080256), (53, 0.01792766693420196), (2105, 0.01791393116083587), (95, 0.01790068201051717), (3688, 0.017898292484658566), (4649, 0.01789385221325293), (379, 0.017885610649905206), (87, 0.017884928229648635), (4185, 0.01787954645229561), (102, 0.017875448473007892), (2790, 0.01786388155158687), (825, 0.017859772607045833), (2066, 0.017842688792531185), (3620, 0.017839228822465254), (4418, 0.01783620489493806), (2372, 0.017830651268098664), (1336, 0.01781703047516691), (1575, 0.017816195837399934), (348, 0.01781616958846137), (1868, 0.01778487802774928), (1587, 0.017784780935683808), (3785, 0.01777664125743645), (2690, 0.0177684226597411), (4573, 0.017756680095987257), (3233, 0.017747586262981556), (512, 0.017742076550944435), (74, 0.017738641219276013), (3845, 0.017733318670740062), (3726, 0.017723241092801798), (2969, 0.01771371100913986), (598, 0.017706768219609773), (2553, 0.017690319317753028), (896, 0.017664975116307692), (2121, 0.01765970867121769), (2827, 0.01764713723576592), (2116, 0.01761836287034208), (52, 0.017615640902701565), (141, 0.017607852969729325), (1445, 0.017582241759702574), (441, 0.017581460165427443), (2758, 0.017575926776249196), (3628, 0.01756661838346017), (1388, 0.01755804830723573), (543, 0.01755021405387097), (3086, 0.017540477733027957), (575, 0.01752934469303434), (2220, 0.01752591126951237), (751, 0.017511478113172784), (2755, 0.0174985855811403), (3173, 0.017489175296532527), (1116, 0.017478233460149675), (202, 0.017467168167534616), (2659, 0.017442226278384283), (1001, 0.017435466648717486), (3900, 0.017432619834326847), (2634, 0.01741975463022802), (359, 0.01741334676427527), (227, 0.01740146447232163), (220, 0.017395640927439313), (3079, 0.017389832296971733), (2933, 0.017382528490868087), (4677, 0.01737646364799617), (524, 0.017331508758239536), (1320, 0.017324209381772777), (3065, 0.017314252733746385), (653, 0.017306977379327633), (2064, 0.01728368883249637), (1754, 0.01725578748943513), (3352, 0.017253070435455983), (3291, 0.017246551722181574), (2129, 0.01723949430523839), (104, 0.017229040056982482), (581, 0.0172178752353599), (2501, 0.017205943747337724), (596, 0.017204464154198757), (1202, 0.01719449513847167), (66, 0.01719149942540181), (84, 0.01716676731140102), (617, 0.017155270075843103), (278, 0.017147461373327445), (972, 0.017122444188029808), (3827, 0.01711607250813009), (2147, 0.0171042471704535), (1274, 0.0170940185407856), (1569, 0.0170899288068932), (360, 0.017087641922780058), (152, 0.017081918556098884), (4378, 0.017079201004236523), (1562, 0.017078517436525605), (1490, 0.017076391393407074), (2363, 0.017070497756670553), (3837, 0.017057694338211783), (369, 0.01702542983793439), (4167, 0.017018261756954187), (167, 0.01701261706624382), (1990, 0.01701064253747186), (3824, 0.016992847944763554), (4146, 0.016961193550468115), (4670, 0.016960111931970796), (785, 0.016944551011044695), (1176, 0.016938806039289763), (4497, 0.016927894149756383), (1825, 0.016925880678326132), (4077, 0.01690821326074973), (178, 0.01690280325642475), (4127, 0.016874911688444363), (1964, 0.01685454507682252), (1253, 0.01683556123509152), (2104, 0.01682456288672355), (1433, 0.01681969205748905), (1457, 0.016819250687846447), (387, 0.016787416805892175), (2678, 0.01678203278317873), (771, 0.016768515566724353), (3383, 0.016754063578362604), (256, 0.016753921122190173), (1719, 0.016707523163273556), (3508, 0.016706129665371786), (1468, 0.01669308647045064), (2433, 0.016682485236102045), (1496, 0.0166758105541803), (112, 0.016674229073740023), (3146, 0.016657991316027253), (275, 0.01664559158900007), (352, 0.016643390099912194), (902, 0.016641857031902997), (1071, 0.01658252097246933), (4638, 0.016581008268645947), (2386, 0.0165727936678878), (3627, 0.016571433781228145), (2328, 0.016535070440197922), (2238, 0.01652026068950818), (2993, 0.016510289978332038), (544, 0.016496395311077557), (54, 0.01648505764641417), (4537, 0.016464472969068236), (2474, 0.01645561879035832), (665, 0.01643693786562973), (922, 0.01643588650128925), (3813, 0.016388248631212663), (989, 0.016367916472721587), (3881, 0.01636146664840459), (1963, 0.01634737229277061), (4342, 0.016345047139285012), (978, 0.016342284730914654), (4055, 0.01634125789768932), (2183, 0.01632580515576197), (1807, 0.016323103198624043), (4410, 0.01629892180349562), (3427, 0.01627586460934178), (4421, 0.01625908271771087), (2590, 0.016251838827428207), (1084, 0.016232685669712782), (3994, 0.016225695885044467), (3601, 0.016193251693371657), (1019, 0.016192724621221205), (3056, 0.016191770457775298), (3544, 0.016179829089605777), (3568, 0.01617363689602226), (752, 0.016172921783901027), (4267, 0.01617106472761811), (1365, 0.01616904325996814), (2822, 0.016165885320101044), (3501, 0.016158312699884454), (1159, 0.01615768205711066), (313, 0.016154827712402696), (2816, 0.016150638487797294), (2780, 0.0161431654926777), (1839, 0.016127108152748183), (3405, 0.016125586896931804), (2457, 0.016116572107815027), (170, 0.01611299978352599), (2404, 0.01610582368432003), (566, 0.01610407717504473), (1405, 0.01607747577536283), (568, 0.016062654264976262), (1044, 0.01606047515234826), (136, 0.016055522397382664), (3883, 0.016047143314634773), (1367, 0.016034110206011844), (962, 0.016033883540759155), (3685, 0.01603064087788323), (677, 0.016028415860172413), (1364, 0.016005365052791293), (1908, 0.016002989480251136), (1155, 0.0159915162290461), (2187, 0.015985321228942823), (1131, 0.015963786145482477), (1333, 0.015941826812028045), (59, 0.015926933141618985), (24, 0.015909354241301518), (1746, 0.01590624812558692), (2667, 0.01590078709354871), (4191, 0.015887486460908373), (862, 0.01587870466676576), (675, 0.0158272972523395), (4518, 0.01581932680654044), (3170, 0.015810539066099943), (2617, 0.01578851522559343), (1145, 0.015772855060586927), (2731, 0.015772449585803216), (2483, 0.015771417469514302), (3215, 0.015770971710117095), (282, 0.015769180076136657), (2766, 0.01575026839977947), (4695, 0.015740266705834553), (1200, 0.015735949113625476), (1531, 0.01571266035443049), (923, 0.015703705878501527), (399, 0.01570055644295111), (3031, 0.01568875120165254), (3971, 0.015667316419933252), (2001, 0.015647008242202325), (1657, 0.015624665775365035), (788, 0.015606500539694593), (3158, 0.015596028639645541), (1527, 0.01557545760801897), (171, 0.015574914298001697), (412, 0.015568044322659388), (1796, 0.015552789559486958), (1970, 0.015522107496488587), (492, 0.015497362278273875), (2726, 0.015493165124208648), (2989, 0.015440822610796871), (2339, 0.015430927807735615), (3327, 0.015423206818287212), (3287, 0.01542119898012142), (3684, 0.015411560665060532), (1207, 0.015401146071073214), (531, 0.015382643033911562), (4547, 0.015368387337675775), (342, 0.015349382905639381), (535, 0.015310877238709835), (2911, 0.015306196048746275), (730, 0.015303548394905143), (4299, 0.015296737606353887), (650, 0.015278623003781449), (3782, 0.015272119530672954), (4676, 0.01526181479705111), (1726, 0.015240183588497335), (4415, 0.015217021579509712), (1708, 0.015208037531373278), (3359, 0.015182053218102549), (1106, 0.015175404947229723), (754, 0.015173798465136678), (4266, 0.015157858290064084), (2572, 0.015154841664917216), (2965, 0.015141358977297521), (487, 0.015134121255843175), (3080, 0.015123896983226158), (3695, 0.015104907493823285), (584, 0.015081782977214452), (3082, 0.015080280877982528), (4583, 0.015058290457586946), (3492, 0.015056915026806875), (2259, 0.015054518374415508), (4371, 0.015014146476232849), (3488, 0.015008346376156473), (2348, 0.015005468861203157), (3068, 0.015004781506355907), (2985, 0.015004312168711988), (1941, 0.01500007280240987), (1874, 0.014994769147995243), (610, 0.014993163671074762), (3838, 0.014992957396635101), (799, 0.014990545629349029), (2045, 0.014978420626683055), (2085, 0.014965050799765033), (3647, 0.014959060901562236), (1291, 0.014956002244268315), (4430, 0.014941879112273206), (4774, 0.014932109690384575), (4216, 0.014930220036006038), (2097, 0.014907354981791701), (4205, 0.014871939999252352), (3213, 0.01485091355258916), (2136, 0.014847714588800428), (3741, 0.014847600819770582), (2091, 0.01484695195357687), (323, 0.014791128858831888), (1393, 0.014786806304799763), (954, 0.014786236632068994), (1052, 0.01477182078611179), (1697, 0.014770959241745457), (3929, 0.014761019001823502), (312, 0.01475480214636091), (4584, 0.014736830700886876), (3761, 0.014732579291529161), (2460, 0.014723104000243918), (1561, 0.01472082299064165), (3745, 0.014716073690422623), (1060, 0.014710104591997555), (1672, 0.01470218858832342), (4762, 0.014697476447384906), (2885, 0.014697464901601039), (3035, 0.014686937906115482), (4194, 0.014673250459340379), (1907, 0.014654094023381425), (1978, 0.014634639511649788), (1966, 0.014622777452844024), (3136, 0.014612981156875211), (3750, 0.014590886281491208), (4315, 0.014561627236425422), (245, 0.014545192043294651), (2023, 0.014532989140878859), (3814, 0.014531859005697423), (2869, 0.014521604927157277), (1945, 0.014512310672630084), (4323, 0.014505849062434082), (4256, 0.014501078993118867), (3186, 0.014500612926082776), (4498, 0.014471006451738938), (1010, 0.01445547710011645), (986, 0.014455099126177819), (3860, 0.014446861867653352), (4254, 0.014417176332543883), (4645, 0.014400414503471211), (2071, 0.014377185256515707), (2159, 0.01437014334599307), (1403, 0.014355735164844657), (1508, 0.014343771360757403), (3874, 0.014332997115751294), (626, 0.014332024725226284), (738, 0.014329222545426004), (1805, 0.014316715228118131), (2170, 0.014315951395891646), (1136, 0.014304886002702908), (1147, 0.014282319342255836), (4580, 0.014275264036453895), (2574, 0.014259898460095911), (2290, 0.0142448464804863), (1604, 0.01424425888402067), (4172, 0.014240148911729355), (4618, 0.014206376875173975), (1353, 0.01419492222742105), (393, 0.014187036032504135), (2068, 0.014168197033040134), (1607, 0.014166266587287655), (1149, 0.014154363037460494), (663, 0.014141534083802159), (3572, 0.014138097522029599), (4726, 0.01410551953058419), (1042, 0.014102287102976353), (4663, 0.014092249487782574), (787, 0.01405614315886116), (831, 0.014055283254611745), (2095, 0.014052818319164575), (3177, 0.014052209551453063), (3367, 0.014033552948800949), (3876, 0.013976805615143315), (4375, 0.013966115238895214), (588, 0.01396102279007796), (1721, 0.013948861478733268), (4654, 0.013930211988231791), (2652, 0.013927922783980813), (2154, 0.013923016287709377), (1454, 0.013916655737934627), (180, 0.01390991609959244), (3659, 0.01390484770670255), (990, 0.013901824869402274), (4047, 0.013893469370018063), (2787, 0.013888818877809725), (1269, 0.013855244823893347), (2631, 0.013851967944636787), (2394, 0.013839286635815115), (1879, 0.013812260114044654), (436, 0.013796446108625085), (2479, 0.013785229649926484), (2521, 0.01377331795854694), (4071, 0.013767583319657849), (4552, 0.013764745811633642), (314, 0.013729865348755341), (2033, 0.013666325162205856), (3830, 0.013662877388494461), (2650, 0.013656996131734593), (3450, 0.013650844709699482), (919, 0.013650705302154198), (1309, 0.013618782195430659), (4756, 0.013610211792019971), (1448, 0.013601716213481326), (2426, 0.013596787788465138), (838, 0.013580395763560802), (3022, 0.013563359816953311), (2313, 0.013562320437155303), (2057, 0.013561033476638309), (3310, 0.013553418611201004), (2663, 0.01354624916803549), (3371, 0.013544752267431938), (2131, 0.013544187131593716), (4517, 0.013540189219181152), (514, 0.013516356969223436), (4481, 0.013491888151442982), (4142, 0.013489089319139114), (3783, 0.013482844215693889), (2953, 0.013481942342467409), (4585, 0.013472584668708851), (1503, 0.013466235947412709), (1228, 0.013444877673588361), (2367, 0.013425420997622473), (776, 0.0133836292195948), (4193, 0.013378826247199669), (1646, 0.01336719163580929), (1422, 0.013362760126216046), (3118, 0.013360743126962083), (2897, 0.013358136042070805), (764, 0.013345605883432548), (2879, 0.01334511355282533), (4330, 0.013339611449675765), (3632, 0.013322848234674793), (296, 0.01332173602890376), (3953, 0.013314458533142295), (828, 0.013313347634415244), (2470, 0.013312210121257094), (2779, 0.013300414496518543), (421, 0.013257609571192317), (1899, 0.013227723798054987), (3354, 0.01321975878971252), (4411, 0.013203607611832544), (3116, 0.0131733808096585), (3991, 0.013165262906867486), (4374, 0.013159816905769874), (3126, 0.013152701663216323), (1842, 0.013148659720002533), (4489, 0.013144149450139678), (3153, 0.013137192290260226), (3911, 0.013137140170209416), (2256, 0.013136549989506403), (1144, 0.01311218488104679), (2070, 0.013105235158510975), (924, 0.013104593731696063), (1773, 0.01310375668722009), (299, 0.013094082007098506), (4234, 0.013089931475560947), (1880, 0.01308082059253158), (4623, 0.013067202845340747), (489, 0.013054280562401346), (4526, 0.013051976810792572), (4242, 0.01301319591824201), (4034, 0.013005231333388266), (2307, 0.012990155724811827), (198, 0.012984956068418338), (3201, 0.012976301117184784), (3377, 0.012973321145349893), (3229, 0.0129653540130959), (192, 0.012957576796867373), (953, 0.012948553442492846), (1599, 0.012924523269575551), (1404, 0.012917645075086193), (3948, 0.012912343267962324), (1890, 0.012911633555116632), (1694, 0.012909069046821472), (1806, 0.012874725215714268), (105, 0.012871307930918872), (4279, 0.01284473753166812), (4436, 0.012820761621720406), (3061, 0.012819592588346957), (2788, 0.012818518007111238), (3954, 0.012810917907342742), (4162, 0.01280818932302969), (148, 0.012804489774165624), (2598, 0.012780004971830098), (967, 0.012742793911441883), (3978, 0.012716648587636086), (3092, 0.012706754569432484), (3671, 0.012700531531498112), (2606, 0.012672325277044207), (1319, 0.012667941300916707), (4182, 0.012652939026364458), (890, 0.012652122369320314), (1893, 0.012638111855970956), (3963, 0.012635119822488158), (1783, 0.012633833854421154), (4736, 0.012628287069101376), (768, 0.012616318790003352), (3669, 0.012596196611319365), (2322, 0.012585839119825753), (2292, 0.01256757178972302), (1493, 0.012554990350450733), (589, 0.012551291131745124), (1543, 0.012545620418129183), (1242, 0.012537824575565031), (1742, 0.012537013566887729), (3012, 0.012520408138169884), (1446, 0.012519886336525381), (2799, 0.012513991660808873), (2166, 0.012500979672039168), (1665, 0.01250060446111885), (3787, 0.012486086799306054), (93, 0.012479751982164727), (4373, 0.012441677058630703), (473, 0.0124398705152544), (1950, 0.012428767057287765), (821, 0.012424303188142869), (1392, 0.012423736784667534), (4729, 0.012422453195014758), (2084, 0.012418496957908408), (1318, 0.012407792418287149), (4529, 0.012405187694001965), (451, 0.012402610343813276), (1760, 0.012382712890387846), (2581, 0.012359996811663866), (1897, 0.01235451415839959), (668, 0.012332999942693478), (4312, 0.01232968899791902), (2917, 0.012327517408902354), (4002, 0.012320134031361311), (1394, 0.01231989255062767), (217, 0.012312220892869371), (4423, 0.012290478178032313), (3119, 0.012285140666279682), (1901, 0.012280986005368455), (3306, 0.01227470789743737), (1449, 0.01225947703533018), (3749, 0.01225360060598275), (2713, 0.012242598100127039), (2789, 0.012241914142485136), (2192, 0.012227492622515062), (1846, 0.012226266760943969), (3890, 0.012224158118122377), (1648, 0.012223699661470343), (537, 0.012223210567515883), (3940, 0.012204849860793059), (4560, 0.01220122720600175), (1491, 0.012191307293572741), (1424, 0.012187368438460274), (2771, 0.012183682286194668), (693, 0.012180685794445565), (210, 0.012168345433869777), (826, 0.012167893184308382), (2494, 0.012152937744483202), (3045, 0.01213615608846654), (2696, 0.01212217026915792), (4099, 0.012118740167485216), (1110, 0.012113679080529622), (447, 0.012105046379058897), (2958, 0.012100308819857906), (2005, 0.012098876113923813), (2100, 0.012085581806844464), (1188, 0.012084689709779994), (1163, 0.012077964235996457), (3067, 0.012076146107769312), (1803, 0.012075659119938967), (4690, 0.012065865665057227), (4407, 0.012062834844997225), (2336, 0.012062771034029824), (2357, 0.01206147810938206), (2499, 0.012057793050253035), (4300, 0.012054083559501305), (2543, 0.012042235064944881), (1992, 0.012040085326038211), (2311, 0.0120224998147737), (2842, 0.011992429393537708), (3549, 0.011982230942135123), (470, 0.01198010471460164), (4035, 0.011950214903866599), (4582, 0.011942114794363015), (4054, 0.011941707199322542), (2858, 0.011934949496791254), (1094, 0.011932466052168984), (3347, 0.011907147321604661), (1553, 0.01187686758007678), (1495, 0.011876604418883918), (2833, 0.011871408050754652), (3846, 0.011858704106682076), (3085, 0.0118557605097896), (1069, 0.01184726679914904), (2240, 0.011841959868023038), (279, 0.011839893855373727), (2813, 0.011839473668694377), (1717, 0.011831223619471063), (1660, 0.011818521373246679), (2418, 0.011812570990394657), (4319, 0.011804948341464004), (3608, 0.011779194545650951), (4516, 0.011777976901405973), (2448, 0.01175183663324572), (1181, 0.011743887132550762), (2848, 0.01173725252682757), (864, 0.011733493772715186), (161, 0.01172056789733901), (666, 0.01171962274362803), (4788, 0.011713455958239848), (847, 0.011709546279404308), (3907, 0.011707617081581821), (4311, 0.011702772161717894), (173, 0.011697381885460932), (3798, 0.01169715141955143), (1712, 0.011688900882295895), (119, 0.011674918160764018), (1873, 0.01167385126969417), (2189, 0.011661211297804048), (1669, 0.011654390754896665), (3439, 0.011654119000802857), (792, 0.011650583375482877), (2651, 0.011645418768465646), (434, 0.011633872657866539), (662, 0.011629977907314024), (2280, 0.011609278399903665), (1377, 0.011603899487251804), (2365, 0.011595733019697437), (3631, 0.01159330476346268), (2017, 0.01157341858738299), (2403, 0.011572155026378709), (1368, 0.011571215601911282), (3375, 0.011571181158742939), (805, 0.011563648122463046), (1245, 0.011563332677219382), (1243, 0.011557743298863398), (3636, 0.011551976708567094), (1736, 0.011548625558404989), (1492, 0.011548370270963301), (1848, 0.01154472719687027), (3712, 0.011543221762074531), (3095, 0.011542347618107206), (936, 0.011509955954700262), (983, 0.0115011014176043), (1703, 0.011485937895049269), (1427, 0.011484931175613102), (4066, 0.011477779784452627), (4472, 0.011470042967848775), (740, 0.011466893238709768), (3430, 0.011464047222825697), (2320, 0.0114638224347729), (2301, 0.011446969095682654), (4044, 0.011444169129663928), (1124, 0.011435772671866315), (2518, 0.01143477967693061), (2414, 0.011431547563586438), (903, 0.011420760475754606), (3145, 0.01141137256528175), (2251, 0.0114109522841994), (3064, 0.011402043550971947), (4324, 0.011397545179414489), (1769, 0.0113756152825538), (463, 0.011364142593533272), (4145, 0.01135858554346815), (4063, 0.01134406849026931), (2002, 0.011341437617482448), (347, 0.01132970314034567), (1484, 0.011322259900676293), (1549, 0.011318665217180213), (2829, 0.011317261131921975), (407, 0.011315511070339917), (417, 0.011315152930016524), (605, 0.011314858308906587), (2410, 0.011314172549033939), (65, 0.01131280943223584), (559, 0.011303071306985189), (827, 0.01129991489220789), (4613, 0.011286534551003277), (4203, 0.01128219855350391), (4030, 0.011279366280457292), (64, 0.01127884134255769), (1707, 0.011273691730182247), (2575, 0.01127346189396697), (3402, 0.011272404531314761), (1434, 0.01126822313808371), (3423, 0.011245454113643407), (1699, 0.011240166919884022), (3368, 0.01123844866261193), (1674, 0.011234072718039898), (680, 0.01123189481298995), (624, 0.011216931246440439), (1902, 0.011212206793567733), (1529, 0.011209879030174563), (3960, 0.011208011365900031), (2415, 0.011205864498428081), (3246, 0.0111996373513031), (3294, 0.011192705912985785), (3214, 0.011187131898113118), (3841, 0.011181527290564519), (1161, 0.011171474446355276), (2685, 0.011163659733357364), (4658, 0.011158399511599174), (1515, 0.011154828344691428), (1141, 0.011154288659378916), (894, 0.011149124538616093), (1799, 0.011147348608527686), (3455, 0.011143337441908645), (753, 0.01114074976418161), (2531, 0.011127809189122225), (1991, 0.011109383082624335), (3667, 0.011108204528920338), (2539, 0.011106573696963707), (2342, 0.01110411042767901), (2258, 0.011101468982292346), (4405, 0.011093805139819113), (3467, 0.011092772774189345), (921, 0.01107863091930724), (3950, 0.011075246006879017), (3182, 0.01106435564344089), (3672, 0.01105361966501586), (2610, 0.011046045852719856), (4515, 0.011041397272970203), (2937, 0.011027446739265095), (2362, 0.011022580301050322), (3464, 0.011018920364172761), (968, 0.011017396138139833), (3212, 0.011012163347514198), (1793, 0.010975354011848472), (2738, 0.010960472014332225), (1642, 0.010959508078250966), (1643, 0.010950685001049811), (3392, 0.010947675562553586), (4639, 0.010944182363613308), (1792, 0.010941501043062098), (1213, 0.010934111058423691), (1050, 0.010933452472527822), (576, 0.010931016340611804), (3437, 0.01092629078158235), (4149, 0.01091060911891802), (927, 0.010899435649592731), (3939, 0.010896300306238869), (1497, 0.010895469738390149), (2263, 0.010873050945316032), (253, 0.010868865125625963), (3965, 0.010855305670119175), (3603, 0.010848761970458006), (4221, 0.010847256789363), (496, 0.010844679888509755), (3511, 0.010842701248490261), (3609, 0.01083450328055136), (4610, 0.010814180766755999), (2179, 0.010809548567287181), (4153, 0.010807064900590226), (3855, 0.010789956925059683), (2325, 0.010789077129879593), (3600, 0.010782037452611026), (4379, 0.010779931259819155), (1186, 0.010778751318434789), (280, 0.010769998793834218), (1308, 0.010758352682093016), (4778, 0.010757886130397312), (3017, 0.010752733074021366), (3020, 0.010752205601262797), (2465, 0.010751428677729592), (1043, 0.010737765661856193), (2639, 0.010737068975466947), (4625, 0.01073491773519967), (620, 0.010734371813413846), (1626, 0.010734253449796513), (540, 0.01073276065368093), (3515, 0.010721397176418054), (255, 0.010715670118636845), (3889, 0.010693194009178683), (1886, 0.010689401605671688), (2354, 0.01068838675055496), (1631, 0.010676243512086214), (465, 0.010674904889420809), (2112, 0.010657687376171449), (2889, 0.010654108381591337), (1247, 0.010649800169725427), (224, 0.010647985959803161), (2907, 0.01064672022808041), (4776, 0.010645480411338773), (1574, 0.010644363985864413), (606, 0.010632974699910919), (1667, 0.010621821701029321), (3946, 0.010616156537499057), (3810, 0.010611766962225336), (1965, 0.010594456563100466), (1598, 0.01058628896472022), (1952, 0.010581643599164406), (2832, 0.010581545477431124), (4291, 0.010580982574691427), (3546, 0.010576435398592035), (1936, 0.010573570350164473), (3570, 0.010573441024048847), (4391, 0.010557549628618526), (3404, 0.010554868273767027), (4354, 0.010544244642676618), (1733, 0.010537997813559992), (3723, 0.010537504293936437), (3729, 0.010527734453374061), (2427, 0.01051933222269598), (1389, 0.010517259673777478), (4359, 0.010515886724059518), (2926, 0.010507264971380778), (3678, 0.010488467926273386), (264, 0.010484408945739269), (1518, 0.01047832331593919), (3904, 0.010477359578362905), (2628, 0.010473865832869063), (4334, 0.010466798205564731), (651, 0.010439019610837165), (3190, 0.010438628111051269), (3043, 0.010426571653932914), (4796, 0.010414725358537085), (4028, 0.010410356410120268), (1802, 0.010408166792633193), (2921, 0.010406855865826648), (3469, 0.010397028449346545), (3372, 0.010373635490331209), (3319, 0.010373553132310281), (699, 0.010369638865691764), (2555, 0.010366234948733401), (1592, 0.010351880314116985), (835, 0.010336844792364736), (4364, 0.010336587868606409), (3224, 0.010330776266038472), (3075, 0.010323801725669676), (4132, 0.01030907538547485), (2377, 0.010305453785687072), (1687, 0.010295237549939378), (3491, 0.01028764626035253), (4239, 0.010284061073243053), (4123, 0.010282747292222318), (4348, 0.010279414425006754), (2078, 0.01027655223435285), (4372, 0.010248972413632911), (2324, 0.010226962242898563), (1898, 0.010226247060475532), (3554, 0.010225424982231697), (1635, 0.01021319220185676), (1444, 0.010205037615882465), (837, 0.010197766717915868), (453, 0.01019689608560607), (4439, 0.010192062743404725), (3003, 0.010176244382236068), (3334, 0.010174935327013971), (4158, 0.010166610826507569), (571, 0.010165498210597354), (3250, 0.010154537880003528), (3536, 0.01015286045341798), (2378, 0.010146148661022179), (2204, 0.010145588959710142), (3338, 0.01014218528817406), (3151, 0.010141857901075541), (3160, 0.010132253283265079), (1843, 0.010130966324664), (3030, 0.010128968967121735), (506, 0.010106422226079275), (3112, 0.0100962133617235), (2182, 0.010089404250505538), (897, 0.010088040753831443), (793, 0.010075253238208305), (2884, 0.010073858228901006), (2609, 0.010072626361820127), (2119, 0.010072571596954861), (3407, 0.010053649352756369), (3780, 0.010045397860024738), (2020, 0.010043767151730464), (3275, 0.010027542082553326), (614, 0.010021083933620492), (2579, 0.010002876088560632), (1407, 0.010000453300628107), (3386, 0.009996730446444587), (418, 0.009996217794312931), (3580, 0.00995836128967962), (1644, 0.009947891254705507), (504, 0.009944341798406208), (3451, 0.009941264564415494), (2676, 0.009913512342656017), (3459, 0.009910348906525519), (3851, 0.009894161564836704), (2875, 0.009890315760686939), (2748, 0.009889295070307927), (881, 0.00988515843460622), (350, 0.009883519460471661), (766, 0.00988218308757493), (460, 0.009873348475483787), (2794, 0.009866454897333413), (1036, 0.009865325979743343), (4501, 0.009848753219999243), (166, 0.009838742556365267), (2759, 0.009837535803289506), (3730, 0.009831560121525952), (647, 0.009830896372761026), (2721, 0.009822140746170965), (4477, 0.00980625881589999), (600, 0.009804782677364664), (2177, 0.009800909090481827), (2775, 0.009789855661877773), (2506, 0.009784038416205848), (2830, 0.00978373162818174), (3910, 0.009766458025712788), (3663, 0.009758703380417942), (284, 0.0097586857773793), (4255, 0.009754756277995264), (3635, 0.009750432587398607), (2203, 0.009748466916137385), (1327, 0.009743155785966393), (2783, 0.00974146950094314), (3630, 0.00973529665068634), (1345, 0.009725869037744719), (3595, 0.0097064103517574), (4048, 0.009703249138268722), (110, 0.00970210987146005), (667, 0.009697628385734937), (2523, 0.009695345785796351), (2949, 0.009694881672565476), (532, 0.009677646642120874), (1521, 0.009675597398048835), (949, 0.00966579335751755), (725, 0.009661074787061654), (3196, 0.009651538687774536), (1222, 0.009648944752118093), (1611, 0.009641702690694547), (2361, 0.009636437248645293), (4428, 0.009626477628364511), (2983, 0.009625989968448457), (550, 0.009624394888524263), (876, 0.009604248307639854), (3618, 0.00960411714313328), (1504, 0.009602111926279373), (1354, 0.009595988578408448), (2464, 0.009592529212836586), (926, 0.00959045181459585), (1054, 0.009588864184623529), (719, 0.009585006602740354), (3770, 0.009583816480352562), (3583, 0.0095811274256269), (3859, 0.009570635948694005), (941, 0.009549988623896851), (450, 0.009547455822726111), (2619, 0.009543550734397345), (3236, 0.00954028417206493), (3005, 0.009536796126765255), (1675, 0.009536726097294588), (865, 0.0095315311732522), (1055, 0.009523794432158318), (2857, 0.00951955377402168), (3956, 0.009507042014931572), (2716, 0.009506386932629939), (4739, 0.009505738181083067), (481, 0.009498487611738372), (959, 0.009496262826435448), (4027, 0.009494082173349235), (2973, 0.00948782488108246), (4143, 0.009484449974367246), (688, 0.009475124759725397), (4329, 0.00946156391638521), (2744, 0.009461507593259894), (3209, 0.00945688765186354), (2878, 0.009455428728016219), (3934, 0.009453154171934165), (4659, 0.009449054469826785), (56, 0.009428054507507035), (3038, 0.009427925040496997), (985, 0.009423549830496463), (3032, 0.009419874375410732), (3051, 0.009415921224637627), (4793, 0.00941076345786592), (3381, 0.009403252949081842), (3905, 0.009396276763724105), (2535, 0.009389818563464696), (3409, 0.009388128691494984), (3066, 0.0093879495538518), (3156, 0.009362630931849558), (194, 0.009360407313483822), (2180, 0.009360396371073292), (1853, 0.009353135171552509), (4620, 0.009331088884753482), (3525, 0.009330091478878956), (1190, 0.009325165285207219), (2551, 0.00932436596343182), (2763, 0.00932029675972237), (2396, 0.009310490449154258), (47, 0.009306476515738262), (2637, 0.009305655259273245), (219, 0.00930112044211887), (4181, 0.009290671886952871), (85, 0.009278158606258633), (732, 0.009274382264461851), (1947, 0.009268761215086664), (3477, 0.009258520218313415), (2507, 0.00925540662717836), (3323, 0.009244664855957808), (3533, 0.009238452761575219), (2231, 0.009237378374270567), (4317, 0.009229937759931937), (3046, 0.009212315790801933), (1109, 0.00920599486301598), (2872, 0.00920439287224726), (440, 0.009204309479029435), (701, 0.009196082867149706), (1916, 0.00919274546752494), (2219, 0.009168541836402214), (2122, 0.009161557942079323), (231, 0.009145520494589783), (4129, 0.009141751087073633), (4523, 0.00913406442430496), (727, 0.009126575624010138), (3097, 0.009126305583978294), (2089, 0.009121165975038627), (1608, 0.009115985607071019), (3027, 0.009114616907298083), (122, 0.009093991562327786), (516, 0.009092854444703412), (1732, 0.009092846435152678), (984, 0.009089923069691292), (3650, 0.009082895041606564), (2615, 0.009077110112496914), (1723, 0.009065710225113845), (2732, 0.009062997065431703), (2304, 0.009053119278914041), (994, 0.009050987531404955), (3614, 0.009050941812518634), (1256, 0.009050525580395949), (4369, 0.009050504001953053), (3569, 0.009028043350769887), (3993, 0.009024282560286132), (2441, 0.009013967780832272), (406, 0.009011207653018997), (2691, 0.009007379219924477), (274, 0.008998240072453834), (2801, 0.008990124937656758), (2823, 0.008983725111292256), (2218, 0.008981411700015252), (4090, 0.008975742793508934), (4356, 0.00897570768650554), (2190, 0.00896471137341984), (4004, 0.00895918568433439), (319, 0.008956211973364176), (3278, 0.008954640111234488), (1169, 0.008938944638983018), (1546, 0.008929790430692652), (2729, 0.008927986935552195), (1045, 0.008922841318293665), (1002, 0.008914933484895776), (1101, 0.008911479289536237), (1621, 0.008911096934415084), (2684, 0.008896253421825642), (976, 0.008896187677697294), (2950, 0.008885540152202396), (3791, 0.00888483296327276), (2317, 0.008878440682654636), (3604, 0.00887042180139483), (158, 0.008867543289580261), (1847, 0.008865389853073603), (193, 0.008856568899562513), (1223, 0.008855722788614153), (3449, 0.00885094450876777), (3203, 0.008841872261198197), (157, 0.00883306738327669), (2417, 0.008829507320691866), (1647, 0.00881781439499159), (4150, 0.008815352438097229), (1178, 0.008792895444834555), (1953, 0.00878521523074685), (971, 0.008774464244597973), (4117, 0.00877361521253779), (2583, 0.008768459780694708), (1724, 0.00876402983163952), (3462, 0.008761952423457566), (4093, 0.008759701939699664), (26, 0.00875664790076868), (3385, 0.008753939150984031), (1637, 0.008752022496835418), (2306, 0.008748800215318998), (1249, 0.00874598849820396), (2173, 0.008742933895718214), (3482, 0.008740470902691927), (1317, 0.008732359435473598), (4656, 0.008728969138011711), (183, 0.008728730603170223), (3861, 0.008720093919880673), (200, 0.00871094645706361), (318, 0.008705343317409691), (205, 0.008698136997467267), (3638, 0.008691008507366347), (2373, 0.008690596461996752), (2992, 0.008675568433081936), (2941, 0.008675497083630102), (1602, 0.008674676654513512), (718, 0.008673287276382259), (3376, 0.008669715103240582), (1350, 0.008666195360217224), (3955, 0.008658709611248015), (2239, 0.008656929197641196), (2442, 0.008656083225406227), (83, 0.008655781977176582), (290, 0.008655450702061487), (1931, 0.008647077744831462), (2025, 0.008646555120465992), (2088, 0.008642906107707913), (1143, 0.008642423221652876), (1227, 0.008629212460257798), (2946, 0.008625016224225252), (1083, 0.008621610131978359), (4565, 0.008620011481150562), (1194, 0.008615694764427655), (692, 0.008610306016216998), (2032, 0.008606586844623483), (4709, 0.008605319922942186), (493, 0.008601653350168199), (229, 0.00859649614434039), (4678, 0.0085904760831299), (2809, 0.00859006835904503), (2044, 0.008589761057505281), (3098, 0.008582835882553347), (1471, 0.00857102871026069), (2682, 0.00856577085331178), (3346, 0.00856511924704897), (511, 0.008564899017378301), (164, 0.00855548427324189), (1872, 0.008545703796873508), (2245, 0.008545617467359977), (1310, 0.008545294086301758), (2214, 0.008535483678677428), (645, 0.008527609361696354), (779, 0.008526321522987093), (240, 0.008524214677198095), (2640, 0.008522775692454208), (4465, 0.008522709699883233), (3055, 0.00850154977302874), (1048, 0.00849517860736958), (7, 0.008484408956417161), (2487, 0.008479571373579188), (834, 0.008479019100645777), (76, 0.00847557509357305), (1586, 0.008471318408957386), (2434, 0.008470685265599796), (2021, 0.008467838107787102), (1264, 0.008457917665207672), (2552, 0.008455662272222452), (2298, 0.008452827325072297), (871, 0.008451788029518702), (1980, 0.008447363341418592), (523, 0.008441231223448534), (1951, 0.008437923340625392), (873, 0.008437799251179453), (4355, 0.008436740826172887), (2563, 0.008435069506215002), (2880, 0.008434768134721158), (306, 0.008434206851095229), (33, 0.00843169278002547), (2000, 0.008428991928506106), (2284, 0.008428252435631223), (1293, 0.008428127045093612), (3925, 0.008426730502485349), (249, 0.008416582620735856), (2197, 0.008413240590769193), (287, 0.008411911527407915), (2443, 0.008410827288426011), (28, 0.008406619603506311), (868, 0.00840284404749099), (4298, 0.008396574538779566), (594, 0.008394937464826804), (3799, 0.008393672587027884), (2038, 0.008393172925457302), (767, 0.008393115283009034), (1651, 0.008384971207154816), (108, 0.008382861637638298), (1929, 0.008381007911513043), (3871, 0.008379835006244923), (398, 0.008376486898985727), (429, 0.008375027417531721), (3987, 0.008367155631385747), (1089, 0.008363725606148927), (495, 0.008363036253319679), (2046, 0.008362111622063129), (2720, 0.008361937492933857), (1559, 0.00836111893852067), (686, 0.00835225027862763), (508, 0.008351899291531123), (570, 0.00834750576951936), (1790, 0.00832827692366348), (3436, 0.008327987751390018), (1460, 0.008320901719461229), (2432, 0.008316932751698397), (4070, 0.008313275490403326), (1080, 0.008313055751330043), (1485, 0.008309392096800879), (1300, 0.008304545992319235), (1113, 0.008297392849868324), (4457, 0.008297120517102215), (607, 0.00829222877155153), (3343, 0.008292192136350195), (1617, 0.00829165094032646), (169, 0.008287146589380831), (260, 0.00828599382307595), (478, 0.008279665569418304), (670, 0.008276635031968028), (2930, 0.008275142918012348), (1740, 0.008273841969483433), (3734, 0.008271261733011074), (2261, 0.008270245365480103), (1452, 0.008270038807191188), (31, 0.00826062907345574), (808, 0.008256395405041014), (1565, 0.008255577539393646), (2811, 0.008253525195808539), (70, 0.008253002926898581), (367, 0.008248593656510463), (1158, 0.008245174480603077), (3318, 0.008243114348136009), (3753, 0.0082428257789573), (424, 0.008241736414895263), (4392, 0.00824140627859795), (4479, 0.008237831005065298), (310, 0.008237338483228223), (402, 0.008226511896604352), (2915, 0.008220840884180958), (1240, 0.008217040580888131), (643, 0.008211292958113936), (1797, 0.008210300265099293), (1615, 0.008206828714224068), (1739, 0.008205553491315312), (3567, 0.00820406812869612), (4281, 0.008198017274860058), (1540, 0.00819393187723605), (2473, 0.008192315815276286), (673, 0.008187382660150998), (4, 0.008184976474383678), (389, 0.008181158489385571), (716, 0.008180227077589667), (151, 0.008175693436212219), (263, 0.008171699072423306), (94, 0.008171535826638274), (4631, 0.008165510291387162), (782, 0.00815598280787251), (507, 0.00815051072040463), (1500, 0.008145903920590813), (4605, 0.008139796885495054), (1845, 0.008139581721239946), (307, 0.008130447909081195), (1836, 0.008130002767011287), (91, 0.008129789882272751), (3612, 0.008127080258199623), (414, 0.008122861604685625), (1294, 0.008122080654240792), (1833, 0.008121980973209968), (910, 0.00812186286683737), (1416, 0.008112623965680939), (2644, 0.008112082456952129), (1713, 0.008110875431726236), (3337, 0.008106683339336717), (2871, 0.008105002881847944), (2492, 0.008102903142580572), (150, 0.008101274169999624), (2791, 0.008099196276050337), (41, 0.00809725776692075), (1582, 0.008096697264540079), (3748, 0.008090170050929586), (1696, 0.008090168050988115), (1344, 0.008087305233204637), (2578, 0.008083384862256538), (3336, 0.00807603994329617), (328, 0.0080745721437777), (2605, 0.008072423649825716), (2995, 0.008067450994655797), (3683, 0.008064358496402942), (888, 0.008063473336987287), (4320, 0.0080616690389819), (3322, 0.008059868994328232), (4039, 0.008057902914735963), (1121, 0.008055872144890978), (574, 0.008052942898569787), (4042, 0.008052841574023698), (1182, 0.008052083747737363), (2836, 0.00804540218048802), (16, 0.008045023221038158), (560, 0.008044514711044786), (777, 0.00804066383601054), (1851, 0.008037209169128076), (3026, 0.008035553744116799), (1595, 0.00803549378014031), (1067, 0.00803445510679295), (4016, 0.00803215580817877), (4155, 0.008022805441164954), (3582, 0.00801681307944196), (3447, 0.00801152034756528), (4482, 0.008008218823441972), (212, 0.008001178918497468), (2534, 0.008000714425614052), (4720, 0.00799351528089374), (1072, 0.007984923431706295), (551, 0.007982823425038154), (2683, 0.007978877640261521), (658, 0.007978255415119633), (1349, 0.007977977167469877), (3693, 0.007977085191820528), (640, 0.007972625782649111), (548, 0.00796789812759992), (1027, 0.007965779236422048), (1059, 0.007962577337515521), (3345, 0.00796113015086883), (1835, 0.007956671189185291), (75, 0.007955508521294952), (2961, 0.007950943393572402), (3425, 0.00794882714103115), (4163, 0.007945973168940138), (2584, 0.007939470392475164), (1443, 0.007932107033954985), (4222, 0.007928596003739038), (3840, 0.007924844080579736), (1347, 0.007916941235745078), (39, 0.007916126754400923), (1676, 0.007911781808484388), (1542, 0.007910729867464019), (304, 0.00790888517802748), (2359, 0.007907386280980849), (1313, 0.007896533630738544), (2863, 0.00789155896394139), (1301, 0.007884508987790997), (1728, 0.007883011099330027), (68, 0.007882387851851008), (2737, 0.007882028693418119), (1328, 0.007881690935226095), (2996, 0.00787350089557545), (246, 0.007864740305424903), (1896, 0.007863651266889241), (1379, 0.007863501532655508), (1093, 0.007860906712601404), (642, 0.007858342525081838), (3195, 0.00785716948510913), (334, 0.007848952139516432), (1341, 0.007839194289710635), (2155, 0.00783888497979582), (1160, 0.007825677873180623), (1326, 0.007825005418443031), (1523, 0.007825002661678166), (1654, 0.00782276657149691), (840, 0.007807986804841868), (920, 0.007806846587035631), (4592, 0.007802911318822757), (3923, 0.0078014364142147625), (123, 0.007800644403636684), (1927, 0.007796459044365731), (1271, 0.007796015501491729), (1859, 0.007794280489245831), (2570, 0.0077927341472353116), (4733, 0.007788802420440072), (3353, 0.007787047275714061), (1447, 0.00778365430412044), (1103, 0.007777926886763665), (1315, 0.007775686929470869), (216, 0.007775271031183508), (2408, 0.007773038489214328), (2746, 0.007772829629096925), (4113, 0.007770958680253429), (2675, 0.007769686766327014), (856, 0.007768097945120988), (3629, 0.007768030424190085), (2927, 0.007762967631045003), (13, 0.007748889504301471), (1550, 0.0077439554347443085), (4017, 0.007743872139531773), (132, 0.007741436633031074), (1564, 0.007734977741039785), (1645, 0.0077314244298548555), (2140, 0.0077309897394827725), (1014, 0.00772696895589188), (1982, 0.007722148386084122), (4669, 0.007716600212104126), (1023, 0.007716536264212787), (3591, 0.0077111154710367905), (2978, 0.007709134243599111), (3313, 0.007708634652209003), (1507, 0.007706625255092428), (1221, 0.007705501583828353), (4339, 0.007705367995453795), (2383, 0.0077051477489546135), (3159, 0.007694418478260301), (3864, 0.007693125175247507), (1415, 0.007688958975037641), (3737, 0.007687826889973182), (125, 0.007679514388700874), (1007, 0.007675855200268178), (577, 0.0076727512170333715), (1218, 0.007672691025385277), (671, 0.007672677402964149), (1282, 0.007659392142364568), (3054, 0.007658542332952438), (27, 0.007657124971336458), (1722, 0.007638581690949934), (4393, 0.007637377889527422), (4432, 0.007629672062006415), (3812, 0.007627727823306758), (163, 0.007619399152940738), (691, 0.007611622689290931), (116, 0.007603490167426273), (1749, 0.007601695099508926), (203, 0.007598670449260514), (79, 0.007594761754169785), (2940, 0.007593733107331885), (802, 0.007586137722221275), (2974, 0.007585122601152864), (3617, 0.0075841658236833), (469, 0.007579150153470065), (775, 0.0075783988962835796), (147, 0.007568974321057316), (498, 0.007566114731316753), (3374, 0.0075618698906743205), (2039, 0.007553988855133316), (2478, 0.007552950542637497), (1930, 0.007551070157400446), (174, 0.007548040531284482), (861, 0.0075476751114548395), (1201, 0.00754757340595985), (3123, 0.007544846942308242), (1343, 0.007539556175806076), (947, 0.00752412589734916), (1498, 0.007524109839781301), (2118, 0.007522812403289209), (1220, 0.007521419142726393), (2178, 0.007515207792234104), (2987, 0.00751131266748459), (2327, 0.00751115370690421), (4106, 0.00750975282349853), (4276, 0.007505350494218533), (595, 0.007500925436948104), (2960, 0.0075006707580866075), (2152, 0.007500236992207668), (1743, 0.007489633181293195), (3073, 0.007484612886237621), (683, 0.007477995958139171), (2459, 0.007469132432561844), (3584, 0.0074680034459830595), (4337, 0.007466097070384601), (259, 0.007463891712582807), (1461, 0.007457166213487139), (4321, 0.007449032234209265), (3351, 0.007448904526458874), (1589, 0.007431427970264223), (1290, 0.007428118433364617), (3148, 0.007422102333701723), (599, 0.007419132859189688), (1750, 0.007409823680525635), (2053, 0.007397297354189466), (1882, 0.007391074166706514), (1745, 0.007382431155121216), (1006, 0.007379078739307578), (4486, 0.007373802621914797), (515, 0.0073710738646348885), (400, 0.007369337825046654), (2573, 0.007361520690891396), (2669, 0.007353431879725968), (1960, 0.0073525469970936305), (4353, 0.00735179997133199), (961, 0.0073245008881403255), (2181, 0.007316454775857042), (3516, 0.00731401052578287), (4397, 0.007296297632798609), (4316, 0.007286724694585054), (3924, 0.007284797028938278), (2096, 0.007279649074439151), (2849, 0.007277635637566822), (2387, 0.007267523814444145), (2399, 0.007263587705230334), (2736, 0.00726076147418264), (1058, 0.00725873921251205), (2358, 0.007257688687846402), (2756, 0.007256163529689382), (2795, 0.0072557922171627345), (2796, 0.007250551464554771), (1217, 0.007236521974218744), (4381, 0.007236203203664627), (695, 0.007228381371984789), (491, 0.007228291103998869), (1459, 0.0072248580927686285), (2912, 0.007224385230671699), (2310, 0.007222855683625391), (2062, 0.007218000646833991), (1408, 0.007198697461589722), (1892, 0.007191129822284218), (2149, 0.0071906938936908546), (1233, 0.007176909746632919), (1811, 0.007170132455942172), (2703, 0.007144100952460991), (839, 0.007128732752461246), (2803, 0.0071110496182744546), (2991, 0.007099852184299077), (2596, 0.007092054784061461), (711, 0.0070883614202726635), (4704, 0.007084895871341259), (283, 0.007077946105366973), (49, 0.007077873990577152), (3560, 0.007077150833827856), (798, 0.0070742106874890345), (4287, 0.007061402370730534), (475, 0.007060802542184045), (21, 0.00705439782523095), (4799, 0.007052394299213523), (4263, 0.007049562716669816), (3832, 0.007040467916022771), (1556, 0.0070358429974044035), (3273, 0.0070213231198204135), (4098, 0.007017512835716619), (4085, 0.006988302670249034), (2860, 0.006988281164674653), (4209, 0.006975619388872236), (4202, 0.006972926297986264), (2133, 0.006961160199131391), (2052, 0.006960719216877925), (4332, 0.006959407336426194), (1209, 0.006956915689313045), (300, 0.006956110772696161), (2101, 0.006954198367447903), (2773, 0.006946691688482806), (3414, 0.006943989046715976), (4215, 0.006942043241938017), (2971, 0.006939377202765713), (145, 0.006936928010389534), (1215, 0.006924085311676186), (2730, 0.006921145329112736), (4344, 0.0069168514760504386), (4331, 0.0069057152228256865), (51, 0.006899901770618336), (4062, 0.006894050236021928), (233, 0.006893367718843398), (2623, 0.00688535684099007), (3274, 0.006878914367486912), (3155, 0.006874405695917568), (1370, 0.006874179972812379), (1622, 0.006871547653480348), (2626, 0.006870371340146258), (3307, 0.006868062518668452), (939, 0.006867744258698113), (4211, 0.006855638440773775), (2283, 0.006851153347989551), (3358, 0.006835452886494809), (4648, 0.006821938608751456), (1298, 0.0068066052034326755), (4283, 0.006797438412790863), (1959, 0.006789382548176293), (4383, 0.006779898062742357), (3548, 0.006779779664462359), (2674, 0.006778619697948286), (3844, 0.006768233666168395), (3018, 0.006759256130707454), (2300, 0.006736306057237031), (3227, 0.006728884013142977), (3576, 0.0067272158282088695), (1663, 0.006726896435930401), (1212, 0.006724371353276656), (2164, 0.00672301510669671), (4080, 0.006703678491083524), (2042, 0.006699394421744105), (1590, 0.006689244284128163), (2148, 0.0066874182530651805), (794, 0.006678636810106928), (4563, 0.006676958673429889), (4201, 0.006663148466740275), (3231, 0.0066594052565691906), (3538, 0.006645945198124892), (371, 0.00661649544929851), (3543, 0.006614983490345953), (1142, 0.006600776828004608), (230, 0.006600020114852739), (1077, 0.00659584858915154), (4223, 0.006594651981576824), (3162, 0.006594259574189216), (3251, 0.0065903710636275445), (405, 0.006561055542137924), (3490, 0.006557319170574754), (2446, 0.006546382166492654), (3010, 0.006542978136849984), (1659, 0.006541729079754937), (3966, 0.00653484682371905), (97, 0.00653371212691628), (3764, 0.006532336821179302), (1024, 0.006504233088200135), (1877, 0.006490603864537612), (3884, 0.006487109833059672), (2022, 0.006467992161937109), (3878, 0.006457360763607644), (3143, 0.006434320648839236), (4672, 0.006389822283773957), (2806, 0.00638736592278987), (4078, 0.006366893201221683), (2542, 0.006366734616264042), (4535, 0.006364180435057272), (1456, 0.006352069477664247), (1226, 0.006329812340808092), (3249, 0.006325326723475925), (4326, 0.006306386425977438), (377, 0.006289253255734765), (3205, 0.006257884954491344), (1462, 0.006244794498737238), (1817, 0.006237027788168369), (4594, 0.006218270122329762), (4626, 0.0062150411117779325), (3417, 0.0062149368492861595), (1047, 0.006208763273190426), (3691, 0.006172653752707211), (1153, 0.006121872494420956), (3622, 0.006067130835692488), (4084, 0.0060297535265453365), (4176, 0.0059977434232200205), (1018, 0.005968934969569121), (3527, 0.005928181313732946), (1670, 0.005882859722918906), (4037, 0.0055704577622167), (1046, 0.005556099209363286), (4238, 0.004974399205100149), (2782, 0.004899774684245118), (2524, 0.004757824946356053), (3596, 0.0028420205592442384), (25, 0.0), (43, 0.0), (44, 0.0), (45, 0.0), (58, 0.0), (60, 0.0), (82, 0.0), (99, 0.0), (135, 0.0), (140, 0.0), (155, 0.0), (162, 0.0), (165, 0.0), (204, 0.0), (209, 0.0), (214, 0.0), (218, 0.0), (222, 0.0), (226, 0.0), (236, 0.0), (239, 0.0), (244, 0.0), (247, 0.0), (248, 0.0), (250, 0.0), (251, 0.0), (252, 0.0), (257, 0.0), (266, 0.0), (272, 0.0), (273, 0.0), (281, 0.0), (285, 0.0), (286, 0.0), (295, 0.0), (298, 0.0), (303, 0.0), (308, 0.0), (311, 0.0), (317, 0.0), (321, 0.0), (333, 0.0), (337, 0.0), (338, 0.0), (344, 0.0), (345, 0.0), (346, 0.0), (351, 0.0), (353, 0.0), (355, 0.0), (357, 0.0), (361, 0.0), (362, 0.0), (366, 0.0), (372, 0.0), (373, 0.0), (375, 0.0), (376, 0.0), (378, 0.0), (385, 0.0), (386, 0.0), (388, 0.0), (394, 0.0), (395, 0.0), (396, 0.0), (397, 0.0), (401, 0.0), (404, 0.0), (408, 0.0), (409, 0.0), (415, 0.0), (427, 0.0), (432, 0.0), (433, 0.0), (437, 0.0), (438, 0.0), (439, 0.0), (442, 0.0), (445, 0.0), (446, 0.0), (449, 0.0), (454, 0.0), (455, 0.0), (462, 0.0), (468, 0.0), (474, 0.0), (476, 0.0), (477, 0.0), (480, 0.0), (499, 0.0), (500, 0.0), (517, 0.0), (519, 0.0), (520, 0.0), (526, 0.0), (527, 0.0), (529, 0.0), (534, 0.0), (538, 0.0), (541, 0.0), (542, 0.0), (549, 0.0), (552, 0.0), (553, 0.0), (556, 0.0), (557, 0.0), (562, 0.0), (564, 0.0), (567, 0.0), (573, 0.0), (579, 0.0), (580, 0.0), (582, 0.0), (586, 0.0), (590, 0.0), (593, 0.0), (601, 0.0), (603, 0.0), (609, 0.0), (611, 0.0), (613, 0.0), (615, 0.0), (616, 0.0), (619, 0.0), (621, 0.0), (622, 0.0), (623, 0.0), (625, 0.0), (629, 0.0), (630, 0.0), (634, 0.0), (639, 0.0), (641, 0.0), (649, 0.0), (652, 0.0), (655, 0.0), (657, 0.0), (669, 0.0), (679, 0.0), (682, 0.0), (684, 0.0), (685, 0.0), (694, 0.0), (696, 0.0), (697, 0.0), (700, 0.0), (702, 0.0), (703, 0.0), (705, 0.0), (708, 0.0), (709, 0.0), (712, 0.0), (713, 0.0), (720, 0.0), (723, 0.0), (724, 0.0), (726, 0.0), (729, 0.0), (733, 0.0), (735, 0.0), (736, 0.0), (737, 0.0), (739, 0.0), (745, 0.0), (749, 0.0), (750, 0.0), (756, 0.0), (757, 0.0), (760, 0.0), (761, 0.0), (765, 0.0), (770, 0.0), (772, 0.0), (774, 0.0), (780, 0.0), (789, 0.0), (790, 0.0), (795, 0.0), (796, 0.0), (797, 0.0), (801, 0.0), (804, 0.0), (806, 0.0), (811, 0.0), (815, 0.0), (817, 0.0), (819, 0.0), (822, 0.0), (823, 0.0), (824, 0.0), (829, 0.0), (843, 0.0), (844, 0.0), (845, 0.0), (846, 0.0), (849, 0.0), (850, 0.0), (851, 0.0), (852, 0.0), (854, 0.0), (855, 0.0), (857, 0.0), (860, 0.0), (866, 0.0), (867, 0.0), (872, 0.0), (875, 0.0), (877, 0.0), (878, 0.0), (879, 0.0), (880, 0.0), (882, 0.0), (884, 0.0), (885, 0.0), (886, 0.0), (887, 0.0), (889, 0.0), (891, 0.0), (892, 0.0), (893, 0.0), (895, 0.0), (900, 0.0), (904, 0.0), (907, 0.0), (908, 0.0), (909, 0.0), (913, 0.0), (916, 0.0), (918, 0.0), (928, 0.0), (929, 0.0), (930, 0.0), (938, 0.0), (940, 0.0), (943, 0.0), (944, 0.0), (948, 0.0), (951, 0.0), (952, 0.0), (955, 0.0), (956, 0.0), (957, 0.0), (958, 0.0), (963, 0.0), (964, 0.0), (965, 0.0), (970, 0.0), (973, 0.0), (974, 0.0), (979, 0.0), (980, 0.0), (981, 0.0), (982, 0.0), (988, 0.0), (991, 0.0), (992, 0.0), (996, 0.0), (997, 0.0), (998, 0.0), (999, 0.0), (1003, 0.0), (1008, 0.0), (1011, 0.0), (1015, 0.0), (1020, 0.0), (1021, 0.0), (1025, 0.0), (1026, 0.0), (1032, 0.0), (1033, 0.0), (1039, 0.0), (1041, 0.0), (1049, 0.0), (1051, 0.0), (1056, 0.0), (1064, 0.0), (1065, 0.0), (1070, 0.0), (1075, 0.0), (1087, 0.0), (1088, 0.0), (1090, 0.0), (1091, 0.0), (1096, 0.0), (1097, 0.0), (1098, 0.0), (1099, 0.0), (1102, 0.0), (1104, 0.0), (1105, 0.0), (1107, 0.0), (1112, 0.0), (1114, 0.0), (1115, 0.0), (1117, 0.0), (1118, 0.0), (1120, 0.0), (1122, 0.0), (1125, 0.0), (1127, 0.0), (1128, 0.0), (1129, 0.0), (1130, 0.0), (1133, 0.0), (1135, 0.0), (1138, 0.0), (1140, 0.0), (1146, 0.0), (1150, 0.0), (1151, 0.0), (1154, 0.0), (1156, 0.0), (1162, 0.0), (1166, 0.0), (1167, 0.0), (1168, 0.0), (1170, 0.0), (1171, 0.0), (1173, 0.0), (1174, 0.0), (1177, 0.0), (1179, 0.0), (1180, 0.0), (1183, 0.0), (1185, 0.0), (1189, 0.0), (1195, 0.0), (1197, 0.0), (1204, 0.0), (1205, 0.0), (1208, 0.0), (1210, 0.0), (1211, 0.0), (1216, 0.0), (1225, 0.0), (1229, 0.0), (1232, 0.0), (1235, 0.0), (1236, 0.0), (1237, 0.0), (1241, 0.0), (1244, 0.0), (1248, 0.0), (1250, 0.0), (1251, 0.0), (1252, 0.0), (1254, 0.0), (1258, 0.0), (1260, 0.0), (1261, 0.0), (1262, 0.0), (1265, 0.0), (1267, 0.0), (1268, 0.0), (1272, 0.0), (1275, 0.0), (1276, 0.0), (1278, 0.0), (1281, 0.0), (1283, 0.0), (1284, 0.0), (1285, 0.0), (1286, 0.0), (1288, 0.0), (1295, 0.0), (1297, 0.0), (1299, 0.0), (1304, 0.0), (1305, 0.0), (1311, 0.0), (1312, 0.0), (1316, 0.0), (1321, 0.0), (1323, 0.0), (1325, 0.0), (1329, 0.0), (1330, 0.0), (1334, 0.0), (1335, 0.0), (1339, 0.0), (1342, 0.0), (1346, 0.0), (1351, 0.0), (1352, 0.0), (1355, 0.0), (1356, 0.0), (1357, 0.0), (1360, 0.0), (1371, 0.0), (1372, 0.0), (1373, 0.0), (1374, 0.0), (1378, 0.0), (1381, 0.0), (1383, 0.0), (1384, 0.0), (1385, 0.0), (1387, 0.0), (1391, 0.0), (1395, 0.0), (1396, 0.0), (1398, 0.0), (1399, 0.0), (1400, 0.0), (1401, 0.0), (1406, 0.0), (1409, 0.0), (1410, 0.0), (1412, 0.0), (1413, 0.0), (1414, 0.0), (1417, 0.0), (1418, 0.0), (1419, 0.0), (1421, 0.0), (1425, 0.0), (1429, 0.0), (1430, 0.0), (1435, 0.0), (1436, 0.0), (1437, 0.0), (1441, 0.0), (1442, 0.0), (1450, 0.0), (1455, 0.0), (1458, 0.0), (1463, 0.0), (1464, 0.0), (1465, 0.0), (1466, 0.0), (1470, 0.0), (1472, 0.0), (1473, 0.0), (1475, 0.0), (1476, 0.0), (1477, 0.0), (1479, 0.0), (1480, 0.0), (1482, 0.0), (1483, 0.0), (1486, 0.0), (1487, 0.0), (1488, 0.0), (1489, 0.0), (1499, 0.0), (1502, 0.0), (1505, 0.0), (1510, 0.0), (1513, 0.0), (1514, 0.0), (1517, 0.0), (1522, 0.0), (1525, 0.0), (1526, 0.0), (1528, 0.0), (1530, 0.0), (1532, 0.0), (1534, 0.0), (1535, 0.0), (1536, 0.0), (1537, 0.0), (1538, 0.0), (1545, 0.0), (1548, 0.0), (1552, 0.0), (1554, 0.0), (1557, 0.0), (1558, 0.0), (1560, 0.0), (1563, 0.0), (1566, 0.0), (1567, 0.0), (1568, 0.0), (1572, 0.0), (1573, 0.0), (1576, 0.0), (1581, 0.0), (1585, 0.0), (1588, 0.0), (1591, 0.0), (1593, 0.0), (1596, 0.0), (1597, 0.0), (1601, 0.0), (1605, 0.0), (1606, 0.0), (1609, 0.0), (1614, 0.0), (1616, 0.0), (1618, 0.0), (1619, 0.0), (1623, 0.0), (1625, 0.0), (1627, 0.0), (1629, 0.0), (1630, 0.0), (1632, 0.0), (1633, 0.0), (1634, 0.0), (1636, 0.0), (1638, 0.0), (1639, 0.0), (1640, 0.0), (1641, 0.0), (1649, 0.0), (1650, 0.0), (1653, 0.0), (1655, 0.0), (1661, 0.0), (1662, 0.0), (1664, 0.0), (1666, 0.0), (1671, 0.0), (1673, 0.0), (1677, 0.0), (1678, 0.0), (1679, 0.0), (1681, 0.0), (1683, 0.0), (1684, 0.0), (1685, 0.0), (1688, 0.0), (1689, 0.0), (1690, 0.0), (1691, 0.0), (1692, 0.0), (1693, 0.0), (1700, 0.0), (1701, 0.0), (1702, 0.0), (1704, 0.0), (1705, 0.0), (1706, 0.0), (1709, 0.0), (1711, 0.0), (1714, 0.0), (1715, 0.0), (1716, 0.0), (1720, 0.0), (1725, 0.0), (1727, 0.0), (1729, 0.0), (1730, 0.0), (1735, 0.0), (1737, 0.0), (1738, 0.0), (1741, 0.0), (1744, 0.0), (1748, 0.0), (1751, 0.0), (1752, 0.0), (1753, 0.0), (1755, 0.0), (1756, 0.0), (1757, 0.0), (1758, 0.0), (1759, 0.0), (1762, 0.0), (1763, 0.0), (1765, 0.0), (1766, 0.0), (1767, 0.0), (1768, 0.0), (1770, 0.0), (1771, 0.0), (1772, 0.0), (1774, 0.0), (1776, 0.0), (1778, 0.0), (1779, 0.0), (1782, 0.0), (1784, 0.0), (1786, 0.0), (1788, 0.0), (1791, 0.0), (1795, 0.0), (1798, 0.0), (1800, 0.0), (1801, 0.0), (1808, 0.0), (1809, 0.0), (1810, 0.0), (1813, 0.0), (1814, 0.0), (1815, 0.0), (1818, 0.0), (1823, 0.0), (1828, 0.0), (1829, 0.0), (1830, 0.0), (1831, 0.0), (1832, 0.0), (1837, 0.0), (1840, 0.0), (1844, 0.0), (1850, 0.0), (1858, 0.0), (1860, 0.0), (1862, 0.0), (1863, 0.0), (1864, 0.0), (1865, 0.0), (1866, 0.0), (1867, 0.0), (1869, 0.0), (1875, 0.0), (1876, 0.0), (1881, 0.0), (1883, 0.0), (1887, 0.0), (1888, 0.0), (1889, 0.0), (1891, 0.0), (1894, 0.0), (1903, 0.0), (1905, 0.0), (1910, 0.0), (1915, 0.0), (1917, 0.0), (1919, 0.0), (1921, 0.0), (1923, 0.0), (1924, 0.0), (1925, 0.0), (1926, 0.0), (1928, 0.0), (1934, 0.0), (1935, 0.0), (1937, 0.0), (1938, 0.0), (1943, 0.0), (1944, 0.0), (1946, 0.0), (1948, 0.0), (1949, 0.0), (1954, 0.0), (1955, 0.0), (1956, 0.0), (1957, 0.0), (1962, 0.0), (1971, 0.0), (1972, 0.0), (1974, 0.0), (1975, 0.0), (1981, 0.0), (1985, 0.0), (1989, 0.0), (1993, 0.0), (1994, 0.0), (1996, 0.0), (1997, 0.0), (1998, 0.0), (2004, 0.0), (2006, 0.0), (2008, 0.0), (2009, 0.0), (2010, 0.0), (2012, 0.0), (2013, 0.0), (2014, 0.0), (2015, 0.0), (2016, 0.0), (2018, 0.0), (2024, 0.0), (2026, 0.0), (2027, 0.0), (2028, 0.0), (2030, 0.0), (2031, 0.0), (2034, 0.0), (2035, 0.0), (2041, 0.0), (2043, 0.0), (2050, 0.0), (2051, 0.0), (2055, 0.0), (2056, 0.0), (2058, 0.0), (2059, 0.0), (2060, 0.0), (2063, 0.0), (2065, 0.0), (2067, 0.0), (2072, 0.0), (2073, 0.0), (2074, 0.0), (2075, 0.0), (2076, 0.0), (2077, 0.0), (2079, 0.0), (2080, 0.0), (2081, 0.0), (2082, 0.0), (2083, 0.0), (2087, 0.0), (2090, 0.0), (2092, 0.0), (2093, 0.0), (2094, 0.0), (2098, 0.0), (2102, 0.0), (2106, 0.0), (2107, 0.0), (2109, 0.0), (2110, 0.0), (2111, 0.0), (2113, 0.0), (2120, 0.0), (2124, 0.0), (2125, 0.0), (2126, 0.0), (2128, 0.0), (2130, 0.0), (2135, 0.0), (2137, 0.0), (2138, 0.0), (2139, 0.0), (2141, 0.0), (2143, 0.0), (2144, 0.0), (2145, 0.0), (2146, 0.0), (2150, 0.0), (2153, 0.0), (2158, 0.0), (2160, 0.0), (2168, 0.0), (2171, 0.0), (2174, 0.0), (2186, 0.0), (2193, 0.0), (2194, 0.0), (2195, 0.0), (2196, 0.0), (2198, 0.0), (2199, 0.0), (2200, 0.0), (2201, 0.0), (2208, 0.0), (2210, 0.0), (2211, 0.0), (2212, 0.0), (2215, 0.0), (2216, 0.0), (2217, 0.0), (2221, 0.0), (2222, 0.0), (2224, 0.0), (2225, 0.0), (2227, 0.0), (2229, 0.0), (2230, 0.0), (2232, 0.0), (2235, 0.0), (2236, 0.0), (2241, 0.0), (2242, 0.0), (2243, 0.0), (2244, 0.0), (2246, 0.0), (2248, 0.0), (2252, 0.0), (2254, 0.0), (2257, 0.0), (2260, 0.0), (2264, 0.0), (2271, 0.0), (2273, 0.0), (2274, 0.0), (2275, 0.0), (2276, 0.0), (2277, 0.0), (2286, 0.0), (2287, 0.0), (2288, 0.0), (2289, 0.0), (2291, 0.0), (2293, 0.0), (2295, 0.0), (2299, 0.0), (2305, 0.0), (2308, 0.0), (2309, 0.0), (2315, 0.0), (2319, 0.0), (2321, 0.0), (2323, 0.0), (2331, 0.0), (2332, 0.0), (2335, 0.0), (2338, 0.0), (2340, 0.0), (2341, 0.0), (2344, 0.0), (2345, 0.0), (2347, 0.0), (2350, 0.0), (2353, 0.0), (2360, 0.0), (2368, 0.0), (2370, 0.0), (2374, 0.0), (2376, 0.0), (2379, 0.0), (2380, 0.0), (2381, 0.0), (2382, 0.0), (2384, 0.0), (2385, 0.0), (2388, 0.0), (2391, 0.0), (2393, 0.0), (2395, 0.0), (2397, 0.0), (2398, 0.0), (2400, 0.0), (2401, 0.0), (2402, 0.0), (2406, 0.0), (2409, 0.0), (2411, 0.0), (2412, 0.0), (2413, 0.0), (2419, 0.0), (2420, 0.0), (2421, 0.0), (2422, 0.0), (2423, 0.0), (2424, 0.0), (2428, 0.0), (2430, 0.0), (2431, 0.0), (2435, 0.0), (2436, 0.0), (2440, 0.0), (2447, 0.0), (2450, 0.0), (2451, 0.0), (2452, 0.0), (2453, 0.0), (2454, 0.0), (2455, 0.0), (2456, 0.0), (2458, 0.0), (2462, 0.0), (2463, 0.0), (2467, 0.0), (2468, 0.0), (2471, 0.0), (2472, 0.0), (2475, 0.0), (2480, 0.0), (2481, 0.0), (2482, 0.0), (2484, 0.0), (2485, 0.0), (2486, 0.0), (2489, 0.0), (2495, 0.0), (2497, 0.0), (2498, 0.0), (2500, 0.0), (2502, 0.0), (2503, 0.0), (2504, 0.0), (2508, 0.0), (2509, 0.0), (2510, 0.0), (2513, 0.0), (2516, 0.0), (2519, 0.0), (2520, 0.0), (2522, 0.0), (2528, 0.0), (2532, 0.0), (2537, 0.0), (2546, 0.0), (2548, 0.0), (2549, 0.0), (2554, 0.0), (2557, 0.0), (2558, 0.0), (2560, 0.0), (2566, 0.0), (2569, 0.0), (2580, 0.0), (2582, 0.0), (2585, 0.0), (2587, 0.0), (2591, 0.0), (2593, 0.0), (2594, 0.0), (2595, 0.0), (2597, 0.0), (2599, 0.0), (2600, 0.0), (2602, 0.0), (2603, 0.0), (2607, 0.0), (2608, 0.0), (2612, 0.0), (2616, 0.0), (2620, 0.0), (2622, 0.0), (2624, 0.0), (2625, 0.0), (2629, 0.0), (2630, 0.0), (2632, 0.0), (2636, 0.0), (2638, 0.0), (2641, 0.0), (2642, 0.0), (2643, 0.0), (2646, 0.0), (2647, 0.0), (2648, 0.0), (2649, 0.0), (2654, 0.0), (2656, 0.0), (2658, 0.0), (2660, 0.0), (2661, 0.0), (2662, 0.0), (2664, 0.0), (2665, 0.0), (2666, 0.0), (2668, 0.0), (2670, 0.0), (2672, 0.0), (2673, 0.0), (2677, 0.0), (2680, 0.0), (2689, 0.0), (2693, 0.0), (2695, 0.0), (2697, 0.0), (2698, 0.0), (2699, 0.0), (2700, 0.0), (2701, 0.0), (2702, 0.0), (2704, 0.0), (2705, 0.0), (2706, 0.0), (2707, 0.0), (2709, 0.0), (2710, 0.0), (2711, 0.0), (2712, 0.0), (2714, 0.0), (2715, 0.0), (2719, 0.0), (2723, 0.0), (2724, 0.0), (2725, 0.0), (2727, 0.0), (2728, 0.0), (2734, 0.0), (2735, 0.0), (2741, 0.0), (2742, 0.0), (2743, 0.0), (2749, 0.0), (2750, 0.0), (2751, 0.0), (2752, 0.0), (2754, 0.0), (2760, 0.0), (2761, 0.0), (2762, 0.0), (2764, 0.0), (2765, 0.0), (2767, 0.0), (2768, 0.0), (2769, 0.0), (2770, 0.0), (2774, 0.0), (2777, 0.0), (2778, 0.0), (2781, 0.0), (2784, 0.0), (2786, 0.0), (2792, 0.0), (2797, 0.0), (2804, 0.0), (2808, 0.0), (2814, 0.0), (2817, 0.0), (2818, 0.0), (2819, 0.0), (2821, 0.0), (2831, 0.0), (2834, 0.0), (2837, 0.0), (2838, 0.0), (2839, 0.0), (2840, 0.0), (2841, 0.0), (2843, 0.0), (2844, 0.0), (2845, 0.0), (2850, 0.0), (2853, 0.0), (2854, 0.0), (2855, 0.0), (2856, 0.0), (2862, 0.0), (2864, 0.0), (2865, 0.0), (2866, 0.0), (2868, 0.0), (2870, 0.0), (2873, 0.0), (2874, 0.0), (2877, 0.0), (2881, 0.0), (2882, 0.0), (2883, 0.0), (2887, 0.0), (2888, 0.0), (2890, 0.0), (2891, 0.0), (2892, 0.0), (2893, 0.0), (2894, 0.0), (2895, 0.0), (2896, 0.0), (2898, 0.0), (2900, 0.0), (2903, 0.0), (2904, 0.0), (2905, 0.0), (2908, 0.0), (2909, 0.0), (2910, 0.0), (2913, 0.0), (2918, 0.0), (2919, 0.0), (2920, 0.0), (2924, 0.0), (2928, 0.0), (2929, 0.0), (2931, 0.0), (2932, 0.0), (2934, 0.0), (2935, 0.0), (2936, 0.0), (2938, 0.0), (2942, 0.0), (2943, 0.0), (2945, 0.0), (2948, 0.0), (2951, 0.0), (2954, 0.0), (2955, 0.0), (2956, 0.0), (2957, 0.0), (2959, 0.0), (2962, 0.0), (2964, 0.0), (2968, 0.0), (2970, 0.0), (2972, 0.0), (2975, 0.0), (2976, 0.0), (2977, 0.0), (2980, 0.0), (2981, 0.0), (2982, 0.0), (2984, 0.0), (2986, 0.0), (2988, 0.0), (2990, 0.0), (2998, 0.0), (2999, 0.0), (3000, 0.0), (3002, 0.0), (3007, 0.0), (3008, 0.0), (3009, 0.0), (3011, 0.0), (3016, 0.0), (3019, 0.0), (3021, 0.0), (3025, 0.0), (3028, 0.0), (3033, 0.0), (3034, 0.0), (3036, 0.0), (3039, 0.0), (3040, 0.0), (3041, 0.0), (3042, 0.0), (3047, 0.0), (3048, 0.0), (3050, 0.0), (3052, 0.0), (3057, 0.0), (3060, 0.0), (3062, 0.0), (3063, 0.0), (3069, 0.0), (3070, 0.0), (3071, 0.0), (3072, 0.0), (3074, 0.0), (3076, 0.0), (3077, 0.0), (3078, 0.0), (3081, 0.0), (3083, 0.0), (3084, 0.0), (3089, 0.0), (3090, 0.0), (3091, 0.0), (3093, 0.0), (3094, 0.0), (3096, 0.0), (3099, 0.0), (3100, 0.0), (3101, 0.0), (3102, 0.0), (3103, 0.0), (3104, 0.0), (3105, 0.0), (3107, 0.0), (3108, 0.0), (3109, 0.0), (3110, 0.0), (3113, 0.0), (3115, 0.0), (3117, 0.0), (3120, 0.0), (3121, 0.0), (3122, 0.0), (3124, 0.0), (3127, 0.0), (3130, 0.0), (3131, 0.0), (3132, 0.0), (3133, 0.0), (3134, 0.0), (3135, 0.0), (3138, 0.0), (3139, 0.0), (3140, 0.0), (3141, 0.0), (3142, 0.0), (3147, 0.0), (3149, 0.0), (3150, 0.0), (3152, 0.0), (3154, 0.0), (3157, 0.0), (3161, 0.0), (3164, 0.0), (3165, 0.0), (3166, 0.0), (3169, 0.0), (3172, 0.0), (3174, 0.0), (3175, 0.0), (3178, 0.0), (3179, 0.0), (3180, 0.0), (3181, 0.0), (3185, 0.0), (3188, 0.0), (3189, 0.0), (3191, 0.0), (3192, 0.0), (3193, 0.0), (3194, 0.0), (3197, 0.0), (3198, 0.0), (3200, 0.0), (3204, 0.0), (3206, 0.0), (3207, 0.0), (3210, 0.0), (3211, 0.0), (3216, 0.0), (3217, 0.0), (3219, 0.0), (3221, 0.0), (3222, 0.0), (3223, 0.0), (3226, 0.0), (3228, 0.0), (3230, 0.0), (3232, 0.0), (3234, 0.0), (3235, 0.0), (3241, 0.0), (3242, 0.0), (3243, 0.0), (3244, 0.0), (3245, 0.0), (3248, 0.0), (3254, 0.0), (3255, 0.0), (3256, 0.0), (3258, 0.0), (3259, 0.0), (3260, 0.0), (3261, 0.0), (3262, 0.0), (3264, 0.0), (3265, 0.0), (3268, 0.0), (3269, 0.0), (3272, 0.0), (3277, 0.0), (3279, 0.0), (3282, 0.0), (3286, 0.0), (3289, 0.0), (3295, 0.0), (3296, 0.0), (3298, 0.0), (3299, 0.0), (3300, 0.0), (3301, 0.0), (3302, 0.0), (3303, 0.0), (3304, 0.0), (3309, 0.0), (3311, 0.0), (3312, 0.0), (3314, 0.0), (3315, 0.0), (3316, 0.0), (3317, 0.0), (3320, 0.0), (3321, 0.0), (3324, 0.0), (3325, 0.0), (3326, 0.0), (3328, 0.0), (3330, 0.0), (3331, 0.0), (3335, 0.0), (3339, 0.0), (3340, 0.0), (3341, 0.0), (3348, 0.0), (3349, 0.0), (3355, 0.0), (3357, 0.0), (3360, 0.0), (3361, 0.0), (3363, 0.0), (3365, 0.0), (3378, 0.0), (3379, 0.0), (3380, 0.0), (3384, 0.0), (3387, 0.0), (3389, 0.0), (3391, 0.0), (3395, 0.0), (3396, 0.0), (3397, 0.0), (3401, 0.0), (3408, 0.0), (3410, 0.0), (3411, 0.0), (3412, 0.0), (3413, 0.0), (3415, 0.0), (3416, 0.0), (3418, 0.0), (3419, 0.0), (3420, 0.0), (3421, 0.0), (3422, 0.0), (3426, 0.0), (3428, 0.0), (3432, 0.0), (3433, 0.0), (3435, 0.0), (3438, 0.0), (3442, 0.0), (3443, 0.0), (3444, 0.0), (3452, 0.0), (3453, 0.0), (3454, 0.0), (3456, 0.0), (3457, 0.0), (3458, 0.0), (3460, 0.0), (3461, 0.0), (3463, 0.0), (3465, 0.0), (3468, 0.0), (3470, 0.0), (3471, 0.0), (3473, 0.0), (3474, 0.0), (3475, 0.0), (3478, 0.0), (3484, 0.0), (3485, 0.0), (3486, 0.0), (3487, 0.0), (3489, 0.0), (3493, 0.0), (3496, 0.0), (3497, 0.0), (3498, 0.0), (3499, 0.0), (3500, 0.0), (3502, 0.0), (3503, 0.0), (3504, 0.0), (3505, 0.0), (3507, 0.0), (3509, 0.0), (3512, 0.0), (3513, 0.0), (3514, 0.0), (3517, 0.0), (3518, 0.0), (3519, 0.0), (3520, 0.0), (3521, 0.0), (3523, 0.0), (3524, 0.0), (3526, 0.0), (3528, 0.0), (3530, 0.0), (3531, 0.0), (3534, 0.0), (3535, 0.0), (3537, 0.0), (3539, 0.0), (3540, 0.0), (3541, 0.0), (3542, 0.0), (3545, 0.0), (3547, 0.0), (3551, 0.0), (3553, 0.0), (3555, 0.0), (3556, 0.0), (3557, 0.0), (3561, 0.0), (3563, 0.0), (3564, 0.0), (3565, 0.0), (3566, 0.0), (3571, 0.0), (3573, 0.0), (3574, 0.0), (3575, 0.0), (3577, 0.0), (3578, 0.0), (3581, 0.0), (3585, 0.0), (3586, 0.0), (3587, 0.0), (3589, 0.0), (3597, 0.0), (3598, 0.0), (3605, 0.0), (3606, 0.0), (3610, 0.0), (3611, 0.0), (3615, 0.0), (3621, 0.0), (3623, 0.0), (3624, 0.0), (3625, 0.0), (3633, 0.0), (3634, 0.0), (3639, 0.0), (3640, 0.0), (3641, 0.0), (3642, 0.0), (3643, 0.0), (3644, 0.0), (3645, 0.0), (3646, 0.0), (3648, 0.0), (3649, 0.0), (3651, 0.0), (3652, 0.0), (3653, 0.0), (3654, 0.0), (3655, 0.0), (3656, 0.0), (3657, 0.0), (3658, 0.0), (3660, 0.0), (3661, 0.0), (3662, 0.0), (3664, 0.0), (3665, 0.0), (3666, 0.0), (3668, 0.0), (3673, 0.0), (3674, 0.0), (3675, 0.0), (3676, 0.0), (3677, 0.0), (3682, 0.0), (3686, 0.0), (3687, 0.0), (3689, 0.0), (3690, 0.0), (3694, 0.0), (3696, 0.0), (3699, 0.0), (3700, 0.0), (3701, 0.0), (3702, 0.0), (3703, 0.0), (3705, 0.0), (3707, 0.0), (3708, 0.0), (3709, 0.0), (3711, 0.0), (3714, 0.0), (3716, 0.0), (3717, 0.0), (3718, 0.0), (3719, 0.0), (3720, 0.0), (3721, 0.0), (3722, 0.0), (3725, 0.0), (3732, 0.0), (3735, 0.0), (3736, 0.0), (3738, 0.0), (3739, 0.0), (3740, 0.0), (3742, 0.0), (3743, 0.0), (3746, 0.0), (3747, 0.0), (3751, 0.0), (3752, 0.0), (3754, 0.0), (3755, 0.0), (3756, 0.0), (3757, 0.0), (3758, 0.0), (3759, 0.0), (3760, 0.0), (3763, 0.0), (3767, 0.0), (3768, 0.0), (3769, 0.0), (3771, 0.0), (3772, 0.0), (3773, 0.0), (3776, 0.0), (3779, 0.0), (3781, 0.0), (3784, 0.0), (3786, 0.0), (3788, 0.0), (3790, 0.0), (3792, 0.0), (3793, 0.0), (3794, 0.0), (3795, 0.0), (3796, 0.0), (3797, 0.0), (3801, 0.0), (3802, 0.0), (3803, 0.0), (3804, 0.0), (3805, 0.0), (3806, 0.0), (3808, 0.0), (3809, 0.0), (3811, 0.0), (3816, 0.0), (3817, 0.0), (3818, 0.0), (3819, 0.0), (3820, 0.0), (3821, 0.0), (3822, 0.0), (3823, 0.0), (3825, 0.0), (3828, 0.0), (3831, 0.0), (3833, 0.0), (3834, 0.0), (3839, 0.0), (3842, 0.0), (3843, 0.0), (3847, 0.0), (3848, 0.0), (3849, 0.0), (3850, 0.0), (3852, 0.0), (3853, 0.0), (3857, 0.0), (3862, 0.0), (3865, 0.0), (3866, 0.0), (3867, 0.0), (3869, 0.0), (3870, 0.0), (3872, 0.0), (3877, 0.0), (3879, 0.0), (3880, 0.0), (3882, 0.0), (3885, 0.0), (3887, 0.0), (3888, 0.0), (3892, 0.0), (3893, 0.0), (3894, 0.0), (3895, 0.0), (3896, 0.0), (3897, 0.0), (3898, 0.0), (3906, 0.0), (3908, 0.0), (3909, 0.0), (3912, 0.0), (3913, 0.0), (3914, 0.0), (3916, 0.0), (3917, 0.0), (3918, 0.0), (3920, 0.0), (3922, 0.0), (3926, 0.0), (3927, 0.0), (3931, 0.0), (3932, 0.0), (3933, 0.0), (3936, 0.0), (3937, 0.0), (3938, 0.0), (3942, 0.0), (3943, 0.0), (3944, 0.0), (3947, 0.0), (3949, 0.0), (3951, 0.0), (3952, 0.0), (3957, 0.0), (3959, 0.0), (3962, 0.0), (3964, 0.0), (3967, 0.0), (3968, 0.0), (3969, 0.0), (3970, 0.0), (3972, 0.0), (3973, 0.0), (3974, 0.0), (3975, 0.0), (3976, 0.0), (3977, 0.0), (3979, 0.0), (3980, 0.0), (3981, 0.0), (3982, 0.0), (3983, 0.0), (3984, 0.0), (3985, 0.0), (3988, 0.0), (3989, 0.0), (3992, 0.0), (3995, 0.0), (3996, 0.0), (3997, 0.0), (3998, 0.0), (3999, 0.0), (4001, 0.0), (4003, 0.0), (4005, 0.0), (4006, 0.0), (4007, 0.0), (4009, 0.0), (4012, 0.0), (4013, 0.0), (4015, 0.0), (4018, 0.0), (4020, 0.0), (4021, 0.0), (4022, 0.0), (4023, 0.0), (4025, 0.0), (4026, 0.0), (4029, 0.0), (4032, 0.0), (4033, 0.0), (4036, 0.0), (4038, 0.0), (4040, 0.0), (4041, 0.0), (4046, 0.0), (4051, 0.0), (4052, 0.0), (4053, 0.0), (4056, 0.0), (4057, 0.0), (4058, 0.0), (4059, 0.0), (4060, 0.0), (4064, 0.0), (4068, 0.0), (4069, 0.0), (4072, 0.0), (4073, 0.0), (4075, 0.0), (4076, 0.0), (4079, 0.0), (4082, 0.0), (4083, 0.0), (4086, 0.0), (4087, 0.0), (4088, 0.0), (4089, 0.0), (4091, 0.0), (4092, 0.0), (4094, 0.0), (4095, 0.0), (4096, 0.0), (4097, 0.0), (4102, 0.0), (4103, 0.0), (4104, 0.0), (4107, 0.0), (4109, 0.0), (4110, 0.0), (4111, 0.0), (4112, 0.0), (4114, 0.0), (4116, 0.0), (4118, 0.0), (4120, 0.0), (4121, 0.0), (4122, 0.0), (4124, 0.0), (4126, 0.0), (4128, 0.0), (4130, 0.0), (4131, 0.0), (4133, 0.0), (4137, 0.0), (4139, 0.0), (4140, 0.0), (4141, 0.0), (4144, 0.0), (4147, 0.0), (4148, 0.0), (4151, 0.0), (4152, 0.0), (4156, 0.0), (4161, 0.0), (4164, 0.0), (4165, 0.0), (4166, 0.0), (4168, 0.0), (4169, 0.0), (4173, 0.0), (4174, 0.0), (4178, 0.0), (4179, 0.0), (4180, 0.0), (4183, 0.0), (4184, 0.0), (4186, 0.0), (4187, 0.0), (4188, 0.0), (4190, 0.0), (4192, 0.0), (4196, 0.0), (4197, 0.0), (4198, 0.0), (4199, 0.0), (4200, 0.0), (4204, 0.0), (4206, 0.0), (4207, 0.0), (4208, 0.0), (4210, 0.0), (4212, 0.0), (4213, 0.0), (4214, 0.0), (4217, 0.0), (4218, 0.0), (4219, 0.0), (4220, 0.0), (4224, 0.0), (4225, 0.0), (4226, 0.0), (4227, 0.0), (4229, 0.0), (4230, 0.0), (4231, 0.0), (4233, 0.0), (4235, 0.0), (4236, 0.0), (4240, 0.0), (4241, 0.0), (4243, 0.0), (4244, 0.0), (4245, 0.0), (4246, 0.0), (4247, 0.0), (4249, 0.0), (4250, 0.0), (4253, 0.0), (4257, 0.0), (4258, 0.0), (4260, 0.0), (4261, 0.0), (4264, 0.0), (4265, 0.0), (4268, 0.0), (4270, 0.0), (4271, 0.0), (4272, 0.0), (4273, 0.0), (4274, 0.0), (4275, 0.0), (4277, 0.0), (4278, 0.0), (4280, 0.0), (4282, 0.0), (4288, 0.0), (4289, 0.0), (4290, 0.0), (4292, 0.0), (4293, 0.0), (4294, 0.0), (4295, 0.0), (4296, 0.0), (4297, 0.0), (4302, 0.0), (4303, 0.0), (4304, 0.0), (4305, 0.0), (4306, 0.0), (4308, 0.0), (4314, 0.0), (4318, 0.0), (4322, 0.0), (4327, 0.0), (4328, 0.0), (4333, 0.0), (4336, 0.0), (4338, 0.0), (4340, 0.0), (4341, 0.0), (4343, 0.0), (4345, 0.0), (4346, 0.0), (4347, 0.0), (4349, 0.0), (4350, 0.0), (4351, 0.0), (4352, 0.0), (4357, 0.0), (4358, 0.0), (4360, 0.0), (4361, 0.0), (4362, 0.0), (4363, 0.0), (4365, 0.0), (4367, 0.0), (4370, 0.0), (4377, 0.0), (4382, 0.0), (4384, 0.0), (4387, 0.0), (4389, 0.0), (4390, 0.0), (4394, 0.0), (4395, 0.0), (4396, 0.0), (4398, 0.0), (4400, 0.0), (4401, 0.0), (4403, 0.0), (4404, 0.0), (4406, 0.0), (4408, 0.0), (4409, 0.0), (4412, 0.0), (4413, 0.0), (4414, 0.0), (4416, 0.0), (4417, 0.0), (4420, 0.0), (4422, 0.0), (4424, 0.0), (4425, 0.0), (4426, 0.0), (4427, 0.0), (4431, 0.0), (4433, 0.0), (4434, 0.0), (4435, 0.0), (4438, 0.0), (4442, 0.0), (4443, 0.0), (4444, 0.0), (4445, 0.0), (4446, 0.0), (4449, 0.0), (4450, 0.0), (4451, 0.0), (4452, 0.0), (4454, 0.0), (4455, 0.0), (4456, 0.0), (4458, 0.0), (4459, 0.0), (4460, 0.0), (4462, 0.0), (4464, 0.0), (4466, 0.0), (4467, 0.0), (4468, 0.0), (4469, 0.0), (4470, 0.0), (4471, 0.0), (4473, 0.0), (4474, 0.0), (4475, 0.0), (4478, 0.0), (4480, 0.0), (4484, 0.0), (4487, 0.0), (4488, 0.0), (4490, 0.0), (4491, 0.0), (4492, 0.0), (4494, 0.0), (4495, 0.0), (4500, 0.0), (4503, 0.0), (4504, 0.0), (4505, 0.0), (4507, 0.0), (4508, 0.0), (4509, 0.0), (4510, 0.0), (4511, 0.0), (4512, 0.0), (4519, 0.0), (4520, 0.0), (4521, 0.0), (4524, 0.0), (4525, 0.0), (4528, 0.0), (4530, 0.0), (4531, 0.0), (4532, 0.0), (4533, 0.0), (4536, 0.0), (4538, 0.0), (4540, 0.0), (4542, 0.0), (4543, 0.0), (4544, 0.0), (4546, 0.0), (4548, 0.0), (4549, 0.0), (4550, 0.0), (4551, 0.0), (4553, 0.0), (4555, 0.0), (4556, 0.0), (4557, 0.0), (4559, 0.0), (4561, 0.0), (4562, 0.0), (4564, 0.0), (4566, 0.0), (4567, 0.0), (4568, 0.0), (4570, 0.0), (4571, 0.0), (4572, 0.0), (4574, 0.0), (4576, 0.0), (4577, 0.0), (4578, 0.0), (4581, 0.0), (4587, 0.0), (4589, 0.0), (4590, 0.0), (4591, 0.0), (4593, 0.0), (4595, 0.0), (4596, 0.0), (4597, 0.0), (4598, 0.0), (4600, 0.0), (4602, 0.0), (4603, 0.0), (4604, 0.0), (4606, 0.0), (4607, 0.0), (4609, 0.0), (4611, 0.0), (4614, 0.0), (4615, 0.0), (4616, 0.0), (4617, 0.0), (4619, 0.0), (4621, 0.0), (4622, 0.0), (4624, 0.0), (4627, 0.0), (4628, 0.0), (4629, 0.0), (4630, 0.0), (4632, 0.0), (4633, 0.0), (4634, 0.0), (4635, 0.0), (4636, 0.0), (4637, 0.0), (4643, 0.0), (4644, 0.0), (4647, 0.0), (4650, 0.0), (4651, 0.0), (4653, 0.0), (4657, 0.0), (4660, 0.0), (4661, 0.0), (4662, 0.0), (4665, 0.0), (4667, 0.0), (4668, 0.0), (4671, 0.0), (4673, 0.0), (4674, 0.0), (4681, 0.0), (4682, 0.0), (4683, 0.0), (4684, 0.0), (4685, 0.0), (4686, 0.0), (4687, 0.0), (4689, 0.0), (4691, 0.0), (4692, 0.0), (4693, 0.0), (4694, 0.0), (4697, 0.0), (4698, 0.0), (4699, 0.0), (4700, 0.0), (4701, 0.0), (4702, 0.0), (4703, 0.0), (4705, 0.0), (4707, 0.0), (4708, 0.0), (4710, 0.0), (4711, 0.0), (4712, 0.0), (4714, 0.0), (4715, 0.0), (4716, 0.0), (4717, 0.0), (4719, 0.0), (4721, 0.0), (4722, 0.0), (4725, 0.0), (4727, 0.0), (4728, 0.0), (4731, 0.0), (4732, 0.0), (4734, 0.0), (4737, 0.0), (4738, 0.0), (4740, 0.0), (4741, 0.0), (4742, 0.0), (4743, 0.0), (4745, 0.0), (4746, 0.0), (4748, 0.0), (4749, 0.0), (4750, 0.0), (4751, 0.0), (4752, 0.0), (4753, 0.0), (4755, 0.0), (4757, 0.0), (4758, 0.0), (4759, 0.0), (4760, 0.0), (4761, 0.0), (4763, 0.0), (4764, 0.0), (4766, 0.0), (4767, 0.0), (4768, 0.0), (4769, 0.0), (4770, 0.0), (4771, 0.0), (4773, 0.0), (4775, 0.0), (4777, 0.0), (4779, 0.0), (4780, 0.0), (4781, 0.0), (4783, 0.0), (4784, 0.0), (4785, 0.0), (4786, 0.0), (4787, 0.0), (4789, 0.0), (4790, 0.0), (4792, 0.0), (4794, 0.0), (4797, 0.0), (4798, 0.0), (4800, 0.0), (4802, 0.0)]\n"
          ]
        }
      ]
    },
    {
      "cell_type": "code",
      "source": [
        "print('Movies suggested for you :\\n')\n",
        "\n",
        "i = 1\n",
        "\n",
        "for movie in sorted_similar_movies:\n",
        "  index = movie[0]\n",
        "  title_from_index = movies_data[movies_data.index==index]['title'].values[0]\n",
        "  if (i<30):\n",
        "    print(i, '.',title_from_index)\n",
        "    i+=1"
      ],
      "metadata": {
        "colab": {
          "base_uri": "https://localhost:8080/"
        },
        "id": "xGv_H4B8ETQz",
        "outputId": "e5922f44-fa67-42d5-d259-7017357c4eca"
      },
      "execution_count": 24,
      "outputs": [
        {
          "output_type": "stream",
          "name": "stdout",
          "text": [
            "Movies suggested for you :\n",
            "\n",
            "1 . Harry Potter and the Half-Blood Prince\n",
            "2 . Harry Potter and the Goblet of Fire\n",
            "3 . Harry Potter and the Order of the Phoenix\n",
            "4 . Harry Potter and the Philosopher's Stone\n",
            "5 . Harry Potter and the Chamber of Secrets\n",
            "6 . Harry Potter and the Prisoner of Azkaban\n",
            "7 . Seventh Son\n",
            "8 . Beautiful Creatures\n",
            "9 . Wild Target\n",
            "10 . Nanny McPhee\n",
            "11 . Lone Star\n",
            "12 . Rise of the Planet of the Apes\n",
            "13 . Hellboy\n",
            "14 . Driving Lessons\n",
            "15 . The Borrowers\n",
            "16 . The Craft\n",
            "17 . Oz: The Great and Powerful\n",
            "18 . Hotel Transylvania\n",
            "19 . Snow White and the Huntsman\n",
            "20 . Running Forever\n",
            "21 . Noah\n",
            "22 . Dragonslayer\n",
            "23 . The Amazing Spider-Man 2\n",
            "24 . Eulogy\n",
            "25 . Treasure Planet\n",
            "26 . Practical Magic\n",
            "27 . Paddington\n",
            "28 . The Sorcerer's Apprentice\n",
            "29 . Warlock\n"
          ]
        }
      ]
    },
    {
      "cell_type": "markdown",
      "source": [
        "# Movie Recommendation System"
      ],
      "metadata": {
        "id": "bVnPS13LFMVE"
      }
    },
    {
      "cell_type": "code",
      "source": [
        "for j in [0,2]:\n",
        "  movie_name = input('Enter your favourite movie name : ')\n",
        "\n",
        "  list_of_all_titles = movies_data['title'].tolist()\n",
        "\n",
        "  find_close_match = difflib.get_close_matches(movie_name, list_of_all_titles)\n",
        "\n",
        "  close_match = find_close_match[0]\n",
        "\n",
        "  index_of_the_movie = movies_data[movies_data.title == close_match]['index'].values[0]\n",
        "\n",
        "  similarity_score = list(enumerate(similarity[index_of_the_movie]))\n",
        "\n",
        "  sorted_similar_movies = sorted(similarity_score, key = lambda x:x[1], reverse = True)\n",
        "\n",
        "  print('Movies suggested for you : \\n')\n",
        "\n",
        "  i = 1\n",
        "\n",
        "  for movie in sorted_similar_movies:\n",
        "    index = movie[0]\n",
        "    title_from_index = movies_data[movies_data.index==index]['title'].values[0]\n",
        "    if (i<30):\n",
        "      print(i, '.',title_from_index)\n",
        "      i+=1\n",
        "  j+=1"
      ],
      "metadata": {
        "colab": {
          "base_uri": "https://localhost:8080/"
        },
        "id": "Sz71IV1AErNh",
        "outputId": "67c21ef2-df01-48f4-d3a0-c3a5640c25ec"
      },
      "execution_count": 36,
      "outputs": [
        {
          "output_type": "stream",
          "name": "stdout",
          "text": [
            "Enter your favourite movie name : Twilight\n",
            "Movies suggested for you : \n",
            "\n",
            "1 . Twilight\n",
            "2 . The Twilight Saga: Breaking Dawn - Part 2\n",
            "3 . The Twilight Saga: Eclipse\n",
            "4 . The Twilight Saga: New Moon\n",
            "5 . Tuck Everlasting\n",
            "6 . Red Riding Hood\n",
            "7 . Gamer\n",
            "8 . Capitalism: A Love Story\n",
            "9 . Puss in Boots\n",
            "10 . Remember Me\n",
            "11 . Peggy Sue Got Married\n",
            "12 . Flightplan\n",
            "13 . The Scarlet Letter\n",
            "14 . Interview with the Vampire\n",
            "15 . Snow White and the Huntsman\n",
            "16 . Priest\n",
            "17 . The Next Three Days\n",
            "18 . Do the Right Thing\n",
            "19 . The Age of Adaline\n",
            "20 . The Adventures of Sharkboy and Lavagirl\n",
            "21 . You Can't Take It With You\n",
            "22 . You Only Live Twice\n",
            "23 . Serendipity\n",
            "24 . Men of War\n",
            "25 . Pirates of the Caribbean: On Stranger Tides\n",
            "26 . Renaissance\n",
            "27 . Eye for an Eye\n",
            "28 . Hardflip\n",
            "29 . My Best Friend's Girl\n",
            "Enter your favourite movie name : Batman\n",
            "Movies suggested for you : \n",
            "\n",
            "1 . Batman\n",
            "2 . Batman Returns\n",
            "3 . Batman & Robin\n",
            "4 . The Dark Knight Rises\n",
            "5 . Batman Begins\n",
            "6 . The Dark Knight\n",
            "7 . A History of Violence\n",
            "8 . Superman\n",
            "9 . Beetlejuice\n",
            "10 . Bedazzled\n",
            "11 . Mars Attacks!\n",
            "12 . The Sentinel\n",
            "13 . Planet of the Apes\n",
            "14 . Man of Steel\n",
            "15 . Suicide Squad\n",
            "16 . The Mask\n",
            "17 . Salton Sea\n",
            "18 . Spider-Man 3\n",
            "19 . The Postman Always Rings Twice\n",
            "20 . Hang 'em High\n",
            "21 . Spider-Man 2\n",
            "22 . Dungeons & Dragons: Wrath of the Dragon God\n",
            "23 . Superman Returns\n",
            "24 . Jonah Hex\n",
            "25 . Exorcist II: The Heretic\n",
            "26 . Superman II\n",
            "27 . Green Lantern\n",
            "28 . Superman III\n",
            "29 . Something's Gotta Give\n"
          ]
        }
      ]
    },
    {
      "cell_type": "code",
      "source": [],
      "metadata": {
        "id": "ItG5kB3CFXaW"
      },
      "execution_count": null,
      "outputs": []
    }
  ]
}